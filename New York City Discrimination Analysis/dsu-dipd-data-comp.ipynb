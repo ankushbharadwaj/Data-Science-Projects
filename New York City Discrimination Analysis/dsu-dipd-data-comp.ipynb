{
 "cells": [
  {
   "cell_type": "markdown",
   "metadata": {},
   "source": [
    "# **DSUxDIPD Data Competition**\n",
    "## NYPD Arrest Discrimination Analysis\n",
    "\n",
    "### Problem statement\n",
    "Find evidence of discrimination and bias based off a demographic of civilian population in the New York criminal system. Provide visualizations, models, or tables of data that help support your case. \n"
   ]
  },
  {
   "cell_type": "markdown",
   "metadata": {},
   "source": [
    "## *Data Retrieval*"
   ]
  },
  {
   "cell_type": "code",
   "execution_count": 1,
   "metadata": {},
   "outputs": [],
   "source": [
    "import pandas as pd\n",
    "arrestsdf = pd.read_csv(\"/Users/ankushbharadwaj/Downloads/NYPD_Arrests_Data__Historic_.csv\")"
   ]
  },
  {
   "cell_type": "code",
   "execution_count": 2,
   "metadata": {},
   "outputs": [
    {
     "name": "stdout",
     "output_type": "stream",
     "text": [
      "(4798339, 18)\n"
     ]
    },
    {
     "data": {
      "text/html": [
       "<div>\n",
       "<style scoped>\n",
       "    .dataframe tbody tr th:only-of-type {\n",
       "        vertical-align: middle;\n",
       "    }\n",
       "\n",
       "    .dataframe tbody tr th {\n",
       "        vertical-align: top;\n",
       "    }\n",
       "\n",
       "    .dataframe thead th {\n",
       "        text-align: right;\n",
       "    }\n",
       "</style>\n",
       "<table border=\"1\" class=\"dataframe\">\n",
       "  <thead>\n",
       "    <tr style=\"text-align: right;\">\n",
       "      <th></th>\n",
       "      <th>ARREST_KEY</th>\n",
       "      <th>ARREST_DATE</th>\n",
       "      <th>PD_CD</th>\n",
       "      <th>PD_DESC</th>\n",
       "      <th>KY_CD</th>\n",
       "      <th>OFNS_DESC</th>\n",
       "      <th>LAW_CODE</th>\n",
       "      <th>LAW_CAT_CD</th>\n",
       "      <th>ARREST_BORO</th>\n",
       "      <th>ARREST_PRECINCT</th>\n",
       "      <th>JURISDICTION_CODE</th>\n",
       "      <th>AGE_GROUP</th>\n",
       "      <th>PERP_SEX</th>\n",
       "      <th>PERP_RACE</th>\n",
       "      <th>X_COORD_CD</th>\n",
       "      <th>Y_COORD_CD</th>\n",
       "      <th>Latitude</th>\n",
       "      <th>Longitude</th>\n",
       "    </tr>\n",
       "  </thead>\n",
       "  <tbody>\n",
       "    <tr>\n",
       "      <th>0</th>\n",
       "      <td>173130602</td>\n",
       "      <td>12/31/2017</td>\n",
       "      <td>566.0</td>\n",
       "      <td>MARIJUANA, POSSESSION</td>\n",
       "      <td>678.0</td>\n",
       "      <td>MISCELLANEOUS PENAL LAW</td>\n",
       "      <td>PL 2210500</td>\n",
       "      <td>V</td>\n",
       "      <td>Q</td>\n",
       "      <td>105</td>\n",
       "      <td>0.0</td>\n",
       "      <td>25-44</td>\n",
       "      <td>M</td>\n",
       "      <td>BLACK</td>\n",
       "      <td>1063056.0</td>\n",
       "      <td>207463.0</td>\n",
       "      <td>40.735772</td>\n",
       "      <td>-73.715638</td>\n",
       "    </tr>\n",
       "    <tr>\n",
       "      <th>1</th>\n",
       "      <td>173114463</td>\n",
       "      <td>12/31/2017</td>\n",
       "      <td>478.0</td>\n",
       "      <td>THEFT OF SERVICES, UNCLASSIFIED</td>\n",
       "      <td>343.0</td>\n",
       "      <td>OTHER OFFENSES RELATED TO THEFT</td>\n",
       "      <td>PL 1651503</td>\n",
       "      <td>M</td>\n",
       "      <td>Q</td>\n",
       "      <td>114</td>\n",
       "      <td>0.0</td>\n",
       "      <td>25-44</td>\n",
       "      <td>M</td>\n",
       "      <td>ASIAN / PACIFIC ISLANDER</td>\n",
       "      <td>1009113.0</td>\n",
       "      <td>219613.0</td>\n",
       "      <td>40.769437</td>\n",
       "      <td>-73.910241</td>\n",
       "    </tr>\n",
       "    <tr>\n",
       "      <th>2</th>\n",
       "      <td>173113513</td>\n",
       "      <td>12/31/2017</td>\n",
       "      <td>849.0</td>\n",
       "      <td>NY STATE LAWS,UNCLASSIFIED VIOLATION</td>\n",
       "      <td>677.0</td>\n",
       "      <td>OTHER STATE LAWS</td>\n",
       "      <td>LOC000000V</td>\n",
       "      <td>V</td>\n",
       "      <td>K</td>\n",
       "      <td>73</td>\n",
       "      <td>1.0</td>\n",
       "      <td>18-24</td>\n",
       "      <td>M</td>\n",
       "      <td>BLACK</td>\n",
       "      <td>1010719.0</td>\n",
       "      <td>186857.0</td>\n",
       "      <td>40.679525</td>\n",
       "      <td>-73.904572</td>\n",
       "    </tr>\n",
       "    <tr>\n",
       "      <th>3</th>\n",
       "      <td>173113423</td>\n",
       "      <td>12/31/2017</td>\n",
       "      <td>101.0</td>\n",
       "      <td>ASSAULT 3</td>\n",
       "      <td>344.0</td>\n",
       "      <td>ASSAULT 3 &amp; RELATED OFFENSES</td>\n",
       "      <td>PL 1200001</td>\n",
       "      <td>M</td>\n",
       "      <td>M</td>\n",
       "      <td>18</td>\n",
       "      <td>0.0</td>\n",
       "      <td>25-44</td>\n",
       "      <td>M</td>\n",
       "      <td>WHITE</td>\n",
       "      <td>987831.0</td>\n",
       "      <td>217446.0</td>\n",
       "      <td>40.763523</td>\n",
       "      <td>-73.987074</td>\n",
       "    </tr>\n",
       "    <tr>\n",
       "      <th>4</th>\n",
       "      <td>173113421</td>\n",
       "      <td>12/31/2017</td>\n",
       "      <td>101.0</td>\n",
       "      <td>ASSAULT 3</td>\n",
       "      <td>344.0</td>\n",
       "      <td>ASSAULT 3 &amp; RELATED OFFENSES</td>\n",
       "      <td>PL 1200001</td>\n",
       "      <td>M</td>\n",
       "      <td>M</td>\n",
       "      <td>18</td>\n",
       "      <td>0.0</td>\n",
       "      <td>45-64</td>\n",
       "      <td>M</td>\n",
       "      <td>BLACK</td>\n",
       "      <td>987073.0</td>\n",
       "      <td>216078.0</td>\n",
       "      <td>40.759768</td>\n",
       "      <td>-73.989811</td>\n",
       "    </tr>\n",
       "    <tr>\n",
       "      <th>5</th>\n",
       "      <td>173130583</td>\n",
       "      <td>12/31/2017</td>\n",
       "      <td>397.0</td>\n",
       "      <td>ROBBERY,UNCLASSIFIED,OPEN AREAS</td>\n",
       "      <td>105.0</td>\n",
       "      <td>ROBBERY</td>\n",
       "      <td>PL 1601001</td>\n",
       "      <td>F</td>\n",
       "      <td>K</td>\n",
       "      <td>73</td>\n",
       "      <td>0.0</td>\n",
       "      <td>18-24</td>\n",
       "      <td>M</td>\n",
       "      <td>BLACK</td>\n",
       "      <td>1007524.0</td>\n",
       "      <td>188555.0</td>\n",
       "      <td>40.684194</td>\n",
       "      <td>-73.916085</td>\n",
       "    </tr>\n",
       "    <tr>\n",
       "      <th>6</th>\n",
       "      <td>173129349</td>\n",
       "      <td>12/31/2017</td>\n",
       "      <td>101.0</td>\n",
       "      <td>ASSAULT 3</td>\n",
       "      <td>344.0</td>\n",
       "      <td>ASSAULT 3 &amp; RELATED OFFENSES</td>\n",
       "      <td>PL 1200001</td>\n",
       "      <td>M</td>\n",
       "      <td>M</td>\n",
       "      <td>9</td>\n",
       "      <td>0.0</td>\n",
       "      <td>18-24</td>\n",
       "      <td>F</td>\n",
       "      <td>WHITE HISPANIC</td>\n",
       "      <td>990592.0</td>\n",
       "      <td>202391.0</td>\n",
       "      <td>40.722199</td>\n",
       "      <td>-73.977122</td>\n",
       "    </tr>\n",
       "    <tr>\n",
       "      <th>7</th>\n",
       "      <td>173128438</td>\n",
       "      <td>12/31/2017</td>\n",
       "      <td>511.0</td>\n",
       "      <td>CONTROLLED SUBSTANCE, POSSESSION 7</td>\n",
       "      <td>235.0</td>\n",
       "      <td>DANGEROUS DRUGS</td>\n",
       "      <td>PL 2200300</td>\n",
       "      <td>M</td>\n",
       "      <td>M</td>\n",
       "      <td>25</td>\n",
       "      <td>0.0</td>\n",
       "      <td>25-44</td>\n",
       "      <td>M</td>\n",
       "      <td>BLACK</td>\n",
       "      <td>999724.0</td>\n",
       "      <td>230625.0</td>\n",
       "      <td>40.799683</td>\n",
       "      <td>-73.944112</td>\n",
       "    </tr>\n",
       "    <tr>\n",
       "      <th>8</th>\n",
       "      <td>173128437</td>\n",
       "      <td>12/31/2017</td>\n",
       "      <td>101.0</td>\n",
       "      <td>ASSAULT 3</td>\n",
       "      <td>344.0</td>\n",
       "      <td>ASSAULT 3 &amp; RELATED OFFENSES</td>\n",
       "      <td>PL 1200001</td>\n",
       "      <td>M</td>\n",
       "      <td>M</td>\n",
       "      <td>23</td>\n",
       "      <td>2.0</td>\n",
       "      <td>25-44</td>\n",
       "      <td>M</td>\n",
       "      <td>BLACK HISPANIC</td>\n",
       "      <td>998165.0</td>\n",
       "      <td>226184.0</td>\n",
       "      <td>40.787496</td>\n",
       "      <td>-73.949752</td>\n",
       "    </tr>\n",
       "    <tr>\n",
       "      <th>9</th>\n",
       "      <td>173128433</td>\n",
       "      <td>12/31/2017</td>\n",
       "      <td>705.0</td>\n",
       "      <td>FORGERY,ETC.-MISD.</td>\n",
       "      <td>358.0</td>\n",
       "      <td>OFFENSES INVOLVING FRAUD</td>\n",
       "      <td>PL 1702000</td>\n",
       "      <td>M</td>\n",
       "      <td>M</td>\n",
       "      <td>17</td>\n",
       "      <td>0.0</td>\n",
       "      <td>18-24</td>\n",
       "      <td>M</td>\n",
       "      <td>WHITE</td>\n",
       "      <td>991195.0</td>\n",
       "      <td>212559.0</td>\n",
       "      <td>40.750107</td>\n",
       "      <td>-73.974936</td>\n",
       "    </tr>\n",
       "  </tbody>\n",
       "</table>\n",
       "</div>"
      ],
      "text/plain": [
       "   ARREST_KEY ARREST_DATE  PD_CD                               PD_DESC  KY_CD  \\\n",
       "0   173130602  12/31/2017  566.0                 MARIJUANA, POSSESSION  678.0   \n",
       "1   173114463  12/31/2017  478.0       THEFT OF SERVICES, UNCLASSIFIED  343.0   \n",
       "2   173113513  12/31/2017  849.0  NY STATE LAWS,UNCLASSIFIED VIOLATION  677.0   \n",
       "3   173113423  12/31/2017  101.0                             ASSAULT 3  344.0   \n",
       "4   173113421  12/31/2017  101.0                             ASSAULT 3  344.0   \n",
       "5   173130583  12/31/2017  397.0       ROBBERY,UNCLASSIFIED,OPEN AREAS  105.0   \n",
       "6   173129349  12/31/2017  101.0                             ASSAULT 3  344.0   \n",
       "7   173128438  12/31/2017  511.0    CONTROLLED SUBSTANCE, POSSESSION 7  235.0   \n",
       "8   173128437  12/31/2017  101.0                             ASSAULT 3  344.0   \n",
       "9   173128433  12/31/2017  705.0                    FORGERY,ETC.-MISD.  358.0   \n",
       "\n",
       "                         OFNS_DESC    LAW_CODE LAW_CAT_CD ARREST_BORO  \\\n",
       "0          MISCELLANEOUS PENAL LAW  PL 2210500          V           Q   \n",
       "1  OTHER OFFENSES RELATED TO THEFT  PL 1651503          M           Q   \n",
       "2                 OTHER STATE LAWS  LOC000000V          V           K   \n",
       "3     ASSAULT 3 & RELATED OFFENSES  PL 1200001          M           M   \n",
       "4     ASSAULT 3 & RELATED OFFENSES  PL 1200001          M           M   \n",
       "5                          ROBBERY  PL 1601001          F           K   \n",
       "6     ASSAULT 3 & RELATED OFFENSES  PL 1200001          M           M   \n",
       "7                  DANGEROUS DRUGS  PL 2200300          M           M   \n",
       "8     ASSAULT 3 & RELATED OFFENSES  PL 1200001          M           M   \n",
       "9         OFFENSES INVOLVING FRAUD  PL 1702000          M           M   \n",
       "\n",
       "   ARREST_PRECINCT  JURISDICTION_CODE AGE_GROUP PERP_SEX  \\\n",
       "0              105                0.0     25-44        M   \n",
       "1              114                0.0     25-44        M   \n",
       "2               73                1.0     18-24        M   \n",
       "3               18                0.0     25-44        M   \n",
       "4               18                0.0     45-64        M   \n",
       "5               73                0.0     18-24        M   \n",
       "6                9                0.0     18-24        F   \n",
       "7               25                0.0     25-44        M   \n",
       "8               23                2.0     25-44        M   \n",
       "9               17                0.0     18-24        M   \n",
       "\n",
       "                  PERP_RACE  X_COORD_CD  Y_COORD_CD   Latitude  Longitude  \n",
       "0                     BLACK   1063056.0    207463.0  40.735772 -73.715638  \n",
       "1  ASIAN / PACIFIC ISLANDER   1009113.0    219613.0  40.769437 -73.910241  \n",
       "2                     BLACK   1010719.0    186857.0  40.679525 -73.904572  \n",
       "3                     WHITE    987831.0    217446.0  40.763523 -73.987074  \n",
       "4                     BLACK    987073.0    216078.0  40.759768 -73.989811  \n",
       "5                     BLACK   1007524.0    188555.0  40.684194 -73.916085  \n",
       "6            WHITE HISPANIC    990592.0    202391.0  40.722199 -73.977122  \n",
       "7                     BLACK    999724.0    230625.0  40.799683 -73.944112  \n",
       "8            BLACK HISPANIC    998165.0    226184.0  40.787496 -73.949752  \n",
       "9                     WHITE    991195.0    212559.0  40.750107 -73.974936  "
      ]
     },
     "execution_count": 2,
     "metadata": {},
     "output_type": "execute_result"
    }
   ],
   "source": [
    "print(arrestsdf.shape)\n",
    "arrestsdf.head(10)"
   ]
  },
  {
   "cell_type": "markdown",
   "metadata": {},
   "source": [
    "## *Data Preparation*"
   ]
  },
  {
   "cell_type": "markdown",
   "metadata": {},
   "source": [
    "The columns and rows with the following conditions should be filtered out:\n",
    "* columns that provide no information about perpetrator's demographic or their crime or punishment\n",
    "* rows that have missing values"
   ]
  },
  {
   "cell_type": "markdown",
   "metadata": {},
   "source": [
    "Columns that provide unnecessary information:\n",
    "* LAW_CODE\n",
    "* X_COORD_CD\n",
    "* Y_COORD_CD\n",
    "* Latitude\n",
    "* Longitude"
   ]
  },
  {
   "cell_type": "code",
   "execution_count": 3,
   "metadata": {},
   "outputs": [],
   "source": [
    "arrestsdf.drop([\"LAW_CODE\", \"X_COORD_CD\", \"Y_COORD_CD\",\n",
    "               \"Latitude\", \"Longitude\"], \n",
    "                 axis=1, inplace = True)"
   ]
  },
  {
   "cell_type": "code",
   "execution_count": 4,
   "metadata": {},
   "outputs": [
    {
     "name": "stdout",
     "output_type": "stream",
     "text": [
      "Number of missing values for ARREST_KEY: 0\n",
      "Number of missing values for ARREST_DATE: 0\n",
      "Number of missing values for PD_CD: 220\n",
      "Number of missing values for PD_DESC: 8870\n",
      "Number of missing values for KY_CD: 8870\n",
      "Number of missing values for OFNS_DESC: 8870\n",
      "Number of missing values for LAW_CAT_CD: 16103\n",
      "Number of missing values for ARREST_BORO: 8\n",
      "Number of missing values for ARREST_PRECINCT: 0\n",
      "Number of missing values for JURISDICTION_CODE: 10\n",
      "Number of missing values for AGE_GROUP: 17\n",
      "Number of missing values for PERP_SEX: 0\n",
      "Number of missing values for PERP_RACE: 0\n"
     ]
    }
   ],
   "source": [
    "for column in arrestsdf:\n",
    "    missing_val = sum(arrestsdf[column].isnull())\n",
    "    print(\"Number of missing values for {}: {}\".format(column, missing_val))"
   ]
  },
  {
   "cell_type": "markdown",
   "metadata": {},
   "source": [
    "We notice that the following columns have missing values:\n",
    "* PD_CD: Three digit internal classification code\n",
    "* PD_DESC: Description of crime corresponding to PD_CD\n",
    "* KY_CD: Three digit internal classification code, more general than PD_CD\n",
    "* OFNS_DESC: Description of crime corresponding to OFNS_DESC\n",
    "* LAW_CAT_CD: Level of offense (felony, misdemeanor, violation, infraction)\n",
    "* ARREST_BORO: Borough of arrest\n",
    "* JURISDICTION_CODE: Jurisdiction responsible for arrest (0 is Patrol, 1 is Transit, 2 is Housing, >3 is non NYPD)\n",
    "* AGE_GROUP: Perpetrator's age"
   ]
  },
  {
   "cell_type": "code",
   "execution_count": 5,
   "metadata": {},
   "outputs": [],
   "source": [
    "arrestsdf.dropna(inplace = True)"
   ]
  },
  {
   "cell_type": "code",
   "execution_count": 6,
   "metadata": {},
   "outputs": [
    {
     "data": {
      "text/plain": [
       "ARREST_KEY             int64\n",
       "ARREST_DATE           object\n",
       "PD_CD                float64\n",
       "PD_DESC               object\n",
       "KY_CD                float64\n",
       "OFNS_DESC             object\n",
       "LAW_CAT_CD            object\n",
       "ARREST_BORO           object\n",
       "ARREST_PRECINCT        int64\n",
       "JURISDICTION_CODE    float64\n",
       "AGE_GROUP             object\n",
       "PERP_SEX              object\n",
       "PERP_RACE             object\n",
       "dtype: object"
      ]
     },
     "execution_count": 6,
     "metadata": {},
     "output_type": "execute_result"
    }
   ],
   "source": [
    "arrestsdf.dtypes"
   ]
  },
  {
   "cell_type": "code",
   "execution_count": 7,
   "metadata": {},
   "outputs": [
    {
     "name": "stdout",
     "output_type": "stream",
     "text": [
      "Value counts for PD_DESC:\n",
      "--------------------\n",
      "MARIJUANA, POSSESSION 4 & 5                   422355\n",
      "ASSAULT 3                                     375999\n",
      "THEFT OF SERVICES, UNCLASSIFIED               303358\n",
      "CONTROLLED SUBSTANCE, POSSESSION 7            278080\n",
      "NY STATE LAWS,UNCLASSIFIED VIOLATION          225678\n",
      "LARCENY,PETIT FROM OPEN AREAS,UNCLASSIFIED    188347\n",
      "TRAFFIC,UNCLASSIFIED INFRACTION               165645\n",
      "ASSAULT 2,1,UNCLASSIFIED                      150823\n",
      "STOLEN PROPERTY 3,POSSESSION                  149875\n",
      "ROBBERY,UNCLASSIFIED,OPEN AREAS               143263\n",
      "TRAFFIC,UNCLASSIFIED MISDEMEAN                117644\n",
      "CONTROLLED SUBSTANCE,INTENT TO SELL 3         113536\n",
      "TRESPASS 3, CRIMINAL                          109731\n",
      "INTOXICATED DRIVING,ALCOHOL                   101711\n",
      "WEAPONS, POSSESSION, ETC                       96197\n",
      "TRESPASS 2, CRIMINAL                           86447\n",
      "LARCENY,GRAND FROM OPEN AREAS,UNCLASSIFIED     85217\n",
      "CONTROLLED SUBSTANCE,SALE 3                    83890\n",
      "PUBLIC ADMINISTRATION,UNCLASSIFIED FELONY      76757\n",
      "FORGERY,ETC.,UNCLASSIFIED-FELONY               75505\n",
      "MISCHIEF,CRIMINAL     UNCLASSIFIED 4TH DEG     70796\n",
      "NY STATE LAWS,UNCLASSIFIED MISDEMEANOR         66946\n",
      "MENACING,UNCLASSIFIED                          62502\n",
      "MARIJUANA, SALE 4 & 5                          62446\n",
      "TRAFFIC,UNCLASSIFIED MISDEMEANOR               60299\n",
      "AGGRAVATED HARASSMENT 2                        59180\n",
      "PUBLIC ADMINISTATION,UNCLASS MISDEMEAN 4       53366\n",
      "RESISTING ARREST                               51227\n",
      "BURGLARY,UNCLASSIFIED,UNKNOWN TIME             50257\n",
      "WEAPONS POSSESSION 3                           47275\n",
      "                                               ...  \n",
      "PEDESTRIAN,UNCLASSIFIED                            6\n",
      "WEAPONS,PROHIBITED USE IMITATION PISTOL            5\n",
      "FIREWORKS PREV CONV 5 YEARS                        5\n",
      "SUPP. ACT TERRORISM 2ND                            5\n",
      "MANSLAUGHTER,UNCLASSIFIED - NO                     5\n",
      "TURN,IMPROPER                                      4\n",
      "BIGAMY                                             4\n",
      "DISORDERLY CONDUCT                                 4\n",
      "FORGERY,ETC.,UNCLASSIFIED-FELO                     4\n",
      "UNCLASSIFIED                                       4\n",
      "SUPP ACT TERRORISM 1                               3\n",
      "STOLEN PROPERTY 2,1,POSSESSION                     3\n",
      "PROSTITUTION 3,PROMOTING BUSIN                     3\n",
      "PROMOTING SUICIDE ATTEMPT                          3\n",
      "PUBLIC ADMINISTRATION,UNCLASSI                     2\n",
      "WEAPONS DISPOSITION OF                             2\n",
      "AGRICULTURE & MARKETS LAW,UNCL                     2\n",
      "PUBLIC HEALTH LAW,UNCLASSIFIED                     1\n",
      "WOUNDS,REPORTING OF                                1\n",
      "MANUFATURE, TRANSPORT, DEFACE, ETC...              1\n",
      "MISCHIEF,CRIMINAL     UNCLASSI                     1\n",
      "ABORTION 2, 1, SELF                                1\n",
      "EXHIBITION,OFFENSIVE                               1\n",
      "USING SLUGS, 2ND                                   1\n",
      "RIGHT OF WAY,PEDESTRIAN                            1\n",
      "MARRIAGE,OFFENSES AGAINST,UNCLASSIFIED             1\n",
      "PEDESTRIAN - WALK/DO NOT WALK                      1\n",
      "LOITERING,BEGGING                                  1\n",
      "FAC. SEXUAL OFFENSE W/CONTROLLED SUBSTANCE         1\n",
      "LOITERING FOR PROSTITUTION OR                      1\n",
      "Name: PD_DESC, Length: 340, dtype: int64\n",
      "--------------------\n",
      "\n",
      "Value counts for OFNS_DESC:\n",
      "--------------------\n",
      "DANGEROUS DRUGS                                1056370\n",
      "ASSAULT 3 & RELATED OFFENSES                    459887\n",
      "OTHER OFFENSES RELATED TO THEFT                 304190\n",
      "OTHER STATE LAWS                                240418\n",
      "CRIMINAL TRESPASS                               196178\n",
      "PETIT LARCENY                                   188360\n",
      "VEHICLE AND TRAFFIC LAWS                        186049\n",
      "DANGEROUS WEAPONS                               182925\n",
      "FELONY ASSAULT                                  181549\n",
      "OTHER TRAFFIC INFRACTION                        171302\n",
      "MISCELLANEOUS PENAL LAW                         164467\n",
      "OFFENSES AGAINST PUBLIC ADMINISTRATION          156541\n",
      "POSSESSION OF STOLEN PROPERTY 5                 149875\n",
      "CRIMINAL MISCHIEF & RELATED OFFENSES            146039\n",
      "ROBBERY                                         144080\n",
      "GRAND LARCENY                                   109532\n",
      "INTOXICATED & IMPAIRED DRIVING                   94685\n",
      "OTHER STATE LAWS (NON PENAL LAW)                 79151\n",
      "FORGERY                                          77849\n",
      "OFF. AGNST PUB ORD SENSBLTY & RGHTS TO PRIV      66241\n",
      "BURGLARY                                         61665\n",
      "PROSTITUTION & RELATED OFFENSES                  45530\n",
      "SEX CRIMES                                       31139\n",
      "DISORDERLY CONDUCT                               30156\n",
      "OFFENSES INVOLVING FRAUD                         24942\n",
      "OFFENSES AGAINST THE PERSON                      21861\n",
      "FRAUDS                                           18753\n",
      "POSSESSION OF STOLEN PROPERTY                    16561\n",
      "GRAND LARCENY OF MOTOR VEHICLE                   14193\n",
      "ADMINISTRATIVE CODE                              13491\n",
      "                                                ...   \n",
      "HARRASSMENT 2                                     2115\n",
      "OFFENSES AGAINST PUBLIC SAFETY                    1985\n",
      "KIDNAPPING & RELATED OFFENSES                     1948\n",
      "CRIMINAL MISCHIEF & RELATED OF                    1794\n",
      "ARSON                                             1678\n",
      "LOITERING                                          720\n",
      "ANTICIPATORY OFFENSES                              680\n",
      "LOITERING FOR DRUG PURPOSES                        578\n",
      "LOITERING/GAMBLING (CARDS, DICE, ETC)              566\n",
      "NEW YORK CITY HEALTH CODE                          503\n",
      "CHILD ABANDONMENT/NON SUPPORT 1                    474\n",
      "JOSTLING                                           431\n",
      "ENDAN WELFARE INCOMP                               321\n",
      "ESCAPE 3                                           273\n",
      "NYS LAWS-UNCLASSIFIED FELONY                       218\n",
      "HOMICIDE-NEGLIGENT,UNCLASSIFIED                    165\n",
      "ADMINISTRATIVE CODES                               159\n",
      "PARKING OFFENSES                                   157\n",
      "HOMICIDE-NEGLIGENT-VEHICLE                         104\n",
      "UNLAWFUL POSS. WEAP. ON SCHOOL GROUNDS              63\n",
      "DISRUPTION OF A RELIGIOUS SERVICE                   56\n",
      "OFFENSES AGAINST PUBLIC ADMINI                      51\n",
      "CHILD ABANDONMENT/NON SUPPORT                       49\n",
      "MURDER & NON-NEGL. MANSLAUGHTE                      23\n",
      "FORTUNE TELLING                                     12\n",
      "UNDER THE INFLUENCE, DRUGS                          11\n",
      "F.C.A. P.I.N.O.S.                                   10\n",
      "ABORTION                                            10\n",
      "OFFENSES AGAINST MARRIAGE UNCLASSIFIED               1\n",
      "LOITERING,BEGGING                                    1\n",
      "Name: OFNS_DESC, Length: 75, dtype: int64\n",
      "--------------------\n",
      "\n",
      "Value counts for LAW_CAT_CD:\n",
      "--------------------\n",
      "M    3204517\n",
      "F    1253708\n",
      "V     289663\n",
      "I      25643\n",
      "Name: LAW_CAT_CD, dtype: int64\n",
      "--------------------\n",
      "\n",
      "Value counts for ARREST_BORO:\n",
      "--------------------\n",
      "K    1331661\n",
      "M    1293787\n",
      "B    1091401\n",
      "Q     890853\n",
      "S     165829\n",
      "Name: ARREST_BORO, dtype: int64\n",
      "--------------------\n",
      "\n",
      "Value counts for AGE_GROUP:\n",
      "--------------------\n",
      "25-44      2188229\n",
      "18-24      1269808\n",
      "45-64       875167\n",
      "<18         401434\n",
      "65+          38715\n",
      "895             13\n",
      "894              7\n",
      "945              7\n",
      "935              7\n",
      "928              5\n",
      "UNKNOWN          5\n",
      "937              5\n",
      "922              4\n",
      "927              4\n",
      "943              4\n",
      "931              4\n",
      "932              4\n",
      "924              4\n",
      "929              4\n",
      "942              3\n",
      "896              3\n",
      "951              3\n",
      "936              3\n",
      "948              3\n",
      "938              3\n",
      "940              3\n",
      "912              2\n",
      "921              2\n",
      "934              2\n",
      "955              2\n",
      "            ...   \n",
      "352              1\n",
      "1947             1\n",
      "939              1\n",
      "2000             1\n",
      "1018             1\n",
      "740              1\n",
      "1948             1\n",
      "923              1\n",
      "954              1\n",
      "1922             1\n",
      "1942             1\n",
      "959              1\n",
      "965              1\n",
      "812              1\n",
      "317              1\n",
      "1918             1\n",
      "909              1\n",
      "1024             1\n",
      "309              1\n",
      "640              1\n",
      "446              1\n",
      "910              1\n",
      "918              1\n",
      "816              1\n",
      "708              1\n",
      "200              1\n",
      "338              1\n",
      "1998             1\n",
      "212              1\n",
      "1928             1\n",
      "Name: AGE_GROUP, Length: 91, dtype: int64\n",
      "--------------------\n",
      "\n",
      "Value counts for PERP_SEX:\n",
      "--------------------\n",
      "M    3974001\n",
      "F     799530\n",
      "Name: PERP_SEX, dtype: int64\n",
      "--------------------\n",
      "\n",
      "Value counts for PERP_RACE:\n",
      "--------------------\n"
     ]
    },
    {
     "name": "stdout",
     "output_type": "stream",
     "text": [
      "BLACK                             2319272\n",
      "WHITE HISPANIC                    1243511\n",
      "WHITE                              576119\n",
      "BLACK HISPANIC                     381900\n",
      "ASIAN / PACIFIC ISLANDER           192212\n",
      "UNKNOWN                             48725\n",
      "AMERICAN INDIAN/ALASKAN NATIVE      10429\n",
      "OTHER                                1363\n",
      "Name: PERP_RACE, dtype: int64\n",
      "--------------------\n",
      "\n"
     ]
    }
   ],
   "source": [
    "cols = [\"PD_DESC\", \"OFNS_DESC\", \"LAW_CAT_CD\", \"ARREST_BORO\", \"AGE_GROUP\",\n",
    "       \"PERP_SEX\", \"PERP_RACE\"]\n",
    "for column in cols:\n",
    "    print(\"Value counts for {}:\".format(column))\n",
    "    print(\"--------------------\")\n",
    "    print(arrestsdf[column].value_counts())\n",
    "    print(\"--------------------\\n\")"
   ]
  },
  {
   "cell_type": "markdown",
   "metadata": {},
   "source": [
    "We notie that in the above value counts output, the AGE_GROUP and PERP_RACE columns have  values for \"UNKNOWN\": rows with these values should be removed as well. Furthermore, the AGE_GROUP column has values that aren't from the set ['<18', '18-24', '25-44', '45-64', '65+']. Rows with these values should be removed as well, as they don't make sense. "
   ]
  },
  {
   "cell_type": "code",
   "execution_count": 8,
   "metadata": {},
   "outputs": [],
   "source": [
    "indices = arrestsdf[arrestsdf['AGE_GROUP'] == 'UNKNOWN'].index\n",
    "arrestsdf.drop(indices, inplace = True)\n",
    "\n",
    "indices = arrestsdf[arrestsdf['PERP_RACE'] == 'UNKNOWN'].index\n",
    "arrestsdf.drop(indices, inplace = True)\n",
    "\n",
    "indices = arrestsdf[(arrestsdf['AGE_GROUP'] != '<18') & \n",
    "                   (arrestsdf['AGE_GROUP'] != '18-24') &\n",
    "                   (arrestsdf['AGE_GROUP'] != '25-44') &\n",
    "                   (arrestsdf['AGE_GROUP'] != '45-64') &\n",
    "                   (arrestsdf['AGE_GROUP'] != '65+')].index\n",
    "arrestsdf.drop(indices, inplace = True)"
   ]
  },
  {
   "cell_type": "code",
   "execution_count": 9,
   "metadata": {},
   "outputs": [
    {
     "name": "stdout",
     "output_type": "stream",
     "text": [
      "Value counts for AGE_GROUP:\n",
      "--------------------\n",
      "25-44    2164344\n",
      "18-24    1256156\n",
      "45-64     867392\n",
      "<18       398395\n",
      "65+        38344\n",
      "Name: AGE_GROUP, dtype: int64\n",
      "--------------------\n",
      "\n",
      "Value counts for PERP_RACE:\n",
      "--------------------\n",
      "BLACK                             2319187\n",
      "WHITE HISPANIC                    1243454\n",
      "WHITE                              576102\n",
      "BLACK HISPANIC                     381891\n",
      "ASIAN / PACIFIC ISLANDER           192205\n",
      "AMERICAN INDIAN/ALASKAN NATIVE      10429\n",
      "OTHER                                1363\n",
      "Name: PERP_RACE, dtype: int64\n",
      "--------------------\n",
      "\n"
     ]
    }
   ],
   "source": [
    "print(\"Value counts for AGE_GROUP:\")\n",
    "print(\"--------------------\")\n",
    "print(arrestsdf[\"AGE_GROUP\"].value_counts())\n",
    "print(\"--------------------\\n\")\n",
    "print(\"Value counts for PERP_RACE:\")\n",
    "print(\"--------------------\")\n",
    "print(arrestsdf[\"PERP_RACE\"].value_counts())\n",
    "print(\"--------------------\\n\")"
   ]
  },
  {
   "cell_type": "markdown",
   "metadata": {},
   "source": [
    "## *Exploratory Data Analysis*"
   ]
  },
  {
   "cell_type": "markdown",
   "metadata": {},
   "source": [
    "The following are factors I'd want to compare with punishment severity to explore demographic bias:\n",
    "* race of the perpetrator\n",
    "* age of the perpetrator\n",
    "* gender of the perpetrator\n",
    "\n",
    "I will go through these in that order."
   ]
  },
  {
   "cell_type": "markdown",
   "metadata": {},
   "source": [
    "### *Race*"
   ]
  },
  {
   "cell_type": "code",
   "execution_count": 10,
   "metadata": {},
   "outputs": [
    {
     "name": "stdout",
     "output_type": "stream",
     "text": [
      "LAW_CAT_CD                         F     I     M     V\n",
      "PERP_RACE                                             \n",
      "AMERICAN INDIAN/ALASKAN NATIVE  0.21  0.01  0.73  0.05\n",
      "ASIAN / PACIFIC ISLANDER        0.26  0.01  0.69  0.03\n",
      "BLACK                           0.28  0.00  0.65  0.07\n",
      "BLACK HISPANIC                  0.27  0.00  0.68  0.05\n",
      "OTHER                           0.25  0.00  0.70  0.05\n",
      "WHITE                           0.24  0.01  0.71  0.05\n",
      "WHITE HISPANIC                  0.25  0.01  0.68  0.06\n"
     ]
    },
    {
     "data": {
      "text/plain": [
       "<matplotlib.axes._subplots.AxesSubplot at 0x113f51dd8>"
      ]
     },
     "execution_count": 10,
     "metadata": {},
     "output_type": "execute_result"
    }
   ],
   "source": [
    "race_sev = pd.crosstab(arrestsdf['PERP_RACE'], arrestsdf['LAW_CAT_CD'])\n",
    "\n",
    "for i in race_sev.index:\n",
    "    total = sum(race_sev.loc[i])\n",
    "    new_row = [\"%.2f\" % (race_sev.loc[i][\"F\"]/total),\n",
    "              \"%.2f\" % (race_sev.loc[i][\"I\"]/total),\n",
    "              \"%.2f\" % (race_sev.loc[i][\"M\"]/total),\n",
    "              \"%.2f\" % (race_sev.loc[i][\"V\"]/total)]\n",
    "    race_sev.loc[i] = new_row\n",
    "print(race_sev)\n",
    "\n",
    "race_sev = race_sev.astype({\"F\": float,\n",
    "                          \"I\": float,\n",
    "                          \"M\": float,\n",
    "                          \"V\": float})\n",
    "race_sev.plot(kind = 'bar', stacked = True, \n",
    "              color = ['red', 'blue', 'green', 'yellow'], grid = False)"
   ]
  },
  {
   "cell_type": "markdown",
   "metadata": {},
   "source": [
    "### *Age*"
   ]
  },
  {
   "cell_type": "code",
   "execution_count": 11,
   "metadata": {},
   "outputs": [
    {
     "name": "stdout",
     "output_type": "stream",
     "text": [
      "LAW_CAT_CD     F     I     M     V\n",
      "AGE_GROUP                         \n",
      "18-24       0.26  0.00  0.67  0.06\n",
      "25-44       0.26  0.01  0.67  0.06\n",
      "45-64       0.24  0.01  0.68  0.07\n",
      "65+         0.25  0.01  0.69  0.06\n",
      "<18         0.32  0.00  0.65  0.03\n"
     ]
    },
    {
     "data": {
      "text/plain": [
       "<matplotlib.axes._subplots.AxesSubplot at 0x114235860>"
      ]
     },
     "execution_count": 11,
     "metadata": {},
     "output_type": "execute_result"
    },
    {
     "data": {
      "image/png": "[encoded data removed]",
      "text/plain": [
       "<Figure size 432x288 with 1 Axes>"
      ]
     },
     "metadata": {
      "needs_background": "light"
     },
     "output_type": "display_data"
    }
   ],
   "source": [
    "age_sev = pd.crosstab(arrestsdf['AGE_GROUP'], arrestsdf['LAW_CAT_CD'])\n",
    "\n",
    "for i in age_sev.index:\n",
    "    total = sum(age_sev.loc[i])\n",
    "    new_row = [\"%.2f\" % (age_sev.loc[i][\"F\"]/total),\n",
    "              \"%.2f\" % (age_sev.loc[i][\"I\"]/total),\n",
    "              \"%.2f\" % (age_sev.loc[i][\"M\"]/total),\n",
    "              \"%.2f\" % (age_sev.loc[i][\"V\"]/total)]\n",
    "    age_sev.loc[i] = new_row\n",
    "print(age_sev)\n",
    "\n",
    "age_sev = age_sev.astype({\"F\": float,\n",
    "                          \"I\": float,\n",
    "                          \"M\": float,\n",
    "                          \"V\": float})\n",
    "age_sev.plot(kind = 'bar', stacked = True, \n",
    "              color = ['red', 'blue', 'green', 'yellow'], grid = False)"
   ]
  },
  {
   "cell_type": "markdown",
   "metadata": {},
   "source": [
    "### *Gender*"
   ]
  },
  {
   "cell_type": "code",
   "execution_count": 12,
   "metadata": {},
   "outputs": [
    {
     "name": "stdout",
     "output_type": "stream",
     "text": [
      "LAW_CAT_CD     F     I     M     V\n",
      "PERP_SEX                          \n",
      "F           0.25  0.00  0.72  0.02\n",
      "M           0.27  0.01  0.66  0.07\n"
     ]
    },
    {
     "data": {
      "text/plain": [
       "<matplotlib.axes._subplots.AxesSubplot at 0x113e849e8>"
      ]
     },
     "execution_count": 12,
     "metadata": {},
     "output_type": "execute_result"
    },
    {
     "data": {
      "image/png": "[encoded data removed]",
      "text/plain": [
       "<Figure size 432x288 with 1 Axes>"
      ]
     },
     "metadata": {
      "needs_background": "light"
     },
     "output_type": "display_data"
    }
   ],
   "source": [
    "gender_sev = pd.crosstab(arrestsdf['PERP_SEX'], arrestsdf['LAW_CAT_CD'])\n",
    "\n",
    "for i in gender_sev.index:\n",
    "    total = sum(gender_sev.loc[i])\n",
    "    new_row = [\"%.2f\" % (gender_sev.loc[i][\"F\"]/total),\n",
    "              \"%.2f\" % (gender_sev.loc[i][\"I\"]/total),\n",
    "              \"%.2f\" % (gender_sev.loc[i][\"M\"]/total),\n",
    "              \"%.2f\" % (gender_sev.loc[i][\"V\"]/total)]\n",
    "    gender_sev.loc[i] = new_row\n",
    "print(gender_sev)\n",
    "\n",
    "gender_sev = gender_sev.astype({\"F\": float,\n",
    "                          \"I\": float,\n",
    "                          \"M\": float,\n",
    "                          \"V\": float})\n",
    "gender_sev.plot(kind = 'bar', stacked = True, \n",
    "              color = ['red', 'blue', 'green', 'yellow'], grid = False)"
   ]
  },
  {
   "cell_type": "markdown",
   "metadata": {},
   "source": [
    "From here, I'm curious about further investigating the following:\n",
    "* the punishment severity for each race demographic within their age groups\n",
    "* the punishment severity for each race demographic within their gender\n",
    "* the punishment severity for each age group within their gender"
   ]
  },
  {
   "cell_type": "markdown",
   "metadata": {},
   "source": [
    "### *Race and Age*"
   ]
  },
  {
   "cell_type": "code",
   "execution_count": 13,
   "metadata": {},
   "outputs": [
    {
     "name": "stdout",
     "output_type": "stream",
     "text": [
      "Punishment Severity by Race for <18 Age Group\n",
      "\n",
      "\n",
      "LAW_CAT_CD                         F    I     M     V\n",
      "PERP_RACE                                            \n",
      "AMERICAN INDIAN/ALASKAN NATIVE  0.26  0.0  0.71  0.02\n",
      "ASIAN / PACIFIC ISLANDER        0.30  0.0  0.67  0.02\n",
      "BLACK                           0.36  0.0  0.61  0.03\n",
      "BLACK HISPANIC                  0.31  0.0  0.67  0.02\n",
      "OTHER                           0.25  0.0  0.73  0.02\n",
      "WHITE                           0.23  0.0  0.74  0.02\n",
      "WHITE HISPANIC                  0.27  0.0  0.70  0.03\n"
     ]
    },
    {
     "data": {
      "image/png": "[encoded data removed]",
      "text/plain": [
       "<Figure size 432x288 with 1 Axes>"
      ]
     },
     "metadata": {
      "needs_background": "light"
     },
     "output_type": "display_data"
    },
    {
     "name": "stdout",
     "output_type": "stream",
     "text": [
      "\n",
      "\n",
      "Punishment Severity by Race for 18-24 Age Group\n",
      "\n",
      "\n",
      "LAW_CAT_CD                         F     I     M     V\n",
      "PERP_RACE                                             \n",
      "AMERICAN INDIAN/ALASKAN NATIVE  0.21  0.01  0.73  0.05\n",
      "ASIAN / PACIFIC ISLANDER        0.25  0.01  0.70  0.04\n",
      "BLACK                           0.29  0.00  0.65  0.06\n",
      "BLACK HISPANIC                  0.27  0.00  0.69  0.05\n",
      "OTHER                           0.23  0.00  0.73  0.04\n",
      "WHITE                           0.21  0.01  0.73  0.05\n",
      "WHITE HISPANIC                  0.24  0.01  0.69  0.06\n"
     ]
    },
    {
     "data": {
      "image/png": "[encoded data removed]",
      "text/plain": [
       "<Figure size 432x288 with 1 Axes>"
      ]
     },
     "metadata": {
      "needs_background": "light"
     },
     "output_type": "display_data"
    },
    {
     "name": "stdout",
     "output_type": "stream",
     "text": [
      "\n",
      "\n",
      "Punishment Severity by Race for 25-44 Age Group\n",
      "\n",
      "\n",
      "LAW_CAT_CD                         F     I     M     V\n",
      "PERP_RACE                                             \n",
      "AMERICAN INDIAN/ALASKAN NATIVE  0.20  0.01  0.74  0.05\n",
      "ASIAN / PACIFIC ISLANDER        0.27  0.01  0.69  0.03\n",
      "BLACK                           0.27  0.01  0.66  0.07\n",
      "BLACK HISPANIC                  0.27  0.00  0.68  0.05\n",
      "OTHER                           0.26  0.00  0.69  0.05\n",
      "WHITE                           0.24  0.01  0.70  0.05\n",
      "WHITE HISPANIC                  0.25  0.01  0.68  0.07\n"
     ]
    },
    {
     "data": {
      "image/png": "[encoded data removed]",
      "text/plain": [
       "<Figure size 432x288 with 1 Axes>"
      ]
     },
     "metadata": {
      "needs_background": "light"
     },
     "output_type": "display_data"
    },
    {
     "name": "stdout",
     "output_type": "stream",
     "text": [
      "\n",
      "\n",
      "Punishment Severity by Race for 45-64 Age Group\n",
      "\n",
      "\n",
      "LAW_CAT_CD                         F     I     M     V\n",
      "PERP_RACE                                             \n",
      "AMERICAN INDIAN/ALASKAN NATIVE  0.20  0.01  0.72  0.07\n",
      "ASIAN / PACIFIC ISLANDER        0.26  0.01  0.70  0.03\n",
      "BLACK                           0.24  0.00  0.68  0.08\n",
      "BLACK HISPANIC                  0.27  0.00  0.67  0.06\n",
      "OTHER                           0.26  0.00  0.69  0.06\n",
      "WHITE                           0.25  0.01  0.69  0.06\n",
      "WHITE HISPANIC                  0.25  0.01  0.67  0.07\n"
     ]
    },
    {
     "data": {
      "image/png": "[encoded data removed]",
      "text/plain": [
       "<Figure size 432x288 with 1 Axes>"
      ]
     },
     "metadata": {
      "needs_background": "light"
     },
     "output_type": "display_data"
    },
    {
     "name": "stdout",
     "output_type": "stream",
     "text": [
      "\n",
      "\n",
      "Punishment Severity by Race for 65+ Age Group\n",
      "\n",
      "\n",
      "LAW_CAT_CD                         F     I     M     V\n",
      "PERP_RACE                                             \n",
      "AMERICAN INDIAN/ALASKAN NATIVE  0.26  0.00  0.71  0.03\n",
      "ASIAN / PACIFIC ISLANDER        0.22  0.01  0.75  0.03\n",
      "BLACK                           0.24  0.01  0.69  0.06\n",
      "BLACK HISPANIC                  0.26  0.01  0.67  0.07\n",
      "OTHER                           0.22  0.00  0.67  0.11\n",
      "WHITE                           0.25  0.01  0.69  0.06\n",
      "WHITE HISPANIC                  0.26  0.01  0.68  0.06\n"
     ]
    },
    {
     "data": {
      "image/png": "[encoded data removed]",
      "text/plain": [
       "<Figure size 432x288 with 1 Axes>"
      ]
     },
     "metadata": {
      "needs_background": "light"
     },
     "output_type": "display_data"
    },
    {
     "name": "stdout",
     "output_type": "stream",
     "text": [
      "\n",
      "\n"
     ]
    }
   ],
   "source": [
    "age_groups = [\"<18\", \"18-24\", \"25-44\", \"45-64\", \"65+\"]\n",
    "import matplotlib.pyplot as plt\n",
    "\n",
    "for j in age_groups:\n",
    "    working_df = arrestsdf[arrestsdf[\"AGE_GROUP\"] == j]\n",
    "    race_sev = pd.crosstab(working_df['PERP_RACE'], working_df['LAW_CAT_CD'])\n",
    "    \n",
    "    for i in race_sev.index:\n",
    "        total = sum(race_sev.loc[i])\n",
    "        new_row = [\"%.2f\" % (race_sev.loc[i][\"F\"]/total),\n",
    "                  \"%.2f\" % (race_sev.loc[i][\"I\"]/total),\n",
    "                  \"%.2f\" % (race_sev.loc[i][\"M\"]/total),\n",
    "                  \"%.2f\" % (race_sev.loc[i][\"V\"]/total)]\n",
    "        race_sev.loc[i] = new_row\n",
    "\n",
    "    race_sev = race_sev.astype({\"F\": float,\n",
    "                              \"I\": float,\n",
    "                              \"M\": float,\n",
    "                              \"V\": float})\n",
    "    print(\"Punishment Severity by Race for {} Age Group\".format(j))\n",
    "    print(\"\\n\")\n",
    "    print(race_sev)\n",
    "    plt.show(race_sev.plot(kind = 'bar', stacked = True, color = ['red', 'blue', 'green', 'yellow'], grid = False))\n",
    "    print(\"\\n\")\n"
   ]
  },
  {
   "cell_type": "markdown",
   "metadata": {},
   "source": [
    "### *Race and Gender*"
   ]
  },
  {
   "cell_type": "code",
   "execution_count": 14,
   "metadata": {},
   "outputs": [
    {
     "name": "stdout",
     "output_type": "stream",
     "text": [
      "Punishment Severity by Race for M Gender\n",
      "\n",
      "\n",
      "LAW_CAT_CD                         F     I     M     V\n",
      "PERP_RACE                                             \n",
      "AMERICAN INDIAN/ALASKAN NATIVE  0.21  0.01  0.72  0.06\n",
      "ASIAN / PACIFIC ISLANDER        0.26  0.01  0.69  0.04\n",
      "BLACK                           0.28  0.00  0.64  0.07\n",
      "BLACK HISPANIC                  0.28  0.00  0.67  0.05\n",
      "OTHER                           0.25  0.00  0.69  0.05\n",
      "WHITE                           0.24  0.01  0.70  0.06\n",
      "WHITE HISPANIC                  0.25  0.01  0.67  0.07\n"
     ]
    },
    {
     "data": {
      "image/png": "[encoded data removed]",
      "text/plain": [
       "<Figure size 432x288 with 1 Axes>"
      ]
     },
     "metadata": {
      "needs_background": "light"
     },
     "output_type": "display_data"
    },
    {
     "name": "stdout",
     "output_type": "stream",
     "text": [
      "\n",
      "\n",
      "Punishment Severity by Race for F Gender\n",
      "\n",
      "\n",
      "LAW_CAT_CD                         F    I     M     V\n",
      "PERP_RACE                                            \n",
      "AMERICAN INDIAN/ALASKAN NATIVE  0.18  0.0  0.80  0.02\n",
      "ASIAN / PACIFIC ISLANDER        0.26  0.0  0.73  0.01\n",
      "BLACK                           0.27  0.0  0.70  0.03\n",
      "BLACK HISPANIC                  0.25  0.0  0.73  0.02\n",
      "OTHER                           0.19  0.0  0.80  0.01\n",
      "WHITE                           0.22  0.0  0.75  0.03\n",
      "WHITE HISPANIC                  0.23  0.0  0.74  0.02\n"
     ]
    },
    {
     "data": {
      "image/png": "[encoded data removed]",
      "text/plain": [
       "<Figure size 432x288 with 1 Axes>"
      ]
     },
     "metadata": {
      "needs_background": "light"
     },
     "output_type": "display_data"
    },
    {
     "name": "stdout",
     "output_type": "stream",
     "text": [
      "\n",
      "\n"
     ]
    }
   ],
   "source": [
    "gender_groups = [\"M\", \"F\"]\n",
    "\n",
    "for j in gender_groups:\n",
    "    working_df = arrestsdf[arrestsdf[\"PERP_SEX\"] == j]\n",
    "    gender_sev = pd.crosstab(working_df['PERP_RACE'], working_df['LAW_CAT_CD'])\n",
    "    \n",
    "    for i in gender_sev.index:\n",
    "        total = sum(gender_sev.loc[i])\n",
    "        new_row = [\"%.2f\" % (gender_sev.loc[i][\"F\"]/total),\n",
    "                  \"%.2f\" % (gender_sev.loc[i][\"I\"]/total),\n",
    "                  \"%.2f\" % (gender_sev.loc[i][\"M\"]/total),\n",
    "                  \"%.2f\" % (gender_sev.loc[i][\"V\"]/total)]\n",
    "        gender_sev.loc[i] = new_row\n",
    "\n",
    "    gender_sev = gender_sev.astype({\"F\": float,\n",
    "                              \"I\": float,\n",
    "                              \"M\": float,\n",
    "                              \"V\": float})\n",
    "    print(\"Punishment Severity by Race for {} Gender\".format(j))\n",
    "    print(\"\\n\")\n",
    "    print(gender_sev)\n",
    "    plt.show(gender_sev.plot(kind = 'bar', stacked = True, color = ['red', 'blue', 'green', 'yellow'], grid = False))\n",
    "    print(\"\\n\")\n"
   ]
  },
  {
   "cell_type": "markdown",
   "metadata": {},
   "source": [
    "### *Age and Gender*"
   ]
  },
  {
   "cell_type": "code",
   "execution_count": 15,
   "metadata": {},
   "outputs": [
    {
     "name": "stdout",
     "output_type": "stream",
     "text": [
      "Punishment Severity by Gender for <18 Age Group\n",
      "\n",
      "\n",
      "LAW_CAT_CD     F    I     M     V\n",
      "PERP_SEX                         \n",
      "F           0.24  0.0  0.75  0.01\n",
      "M           0.34  0.0  0.62  0.03\n"
     ]
    },
    {
     "data": {
      "image/png": "[encoded data removed]",
      "text/plain": [
       "<Figure size 432x288 with 1 Axes>"
      ]
     },
     "metadata": {
      "needs_background": "light"
     },
     "output_type": "display_data"
    },
    {
     "name": "stdout",
     "output_type": "stream",
     "text": [
      "\n",
      "\n",
      "Punishment Severity by Gender for 18-24 Age Group\n",
      "\n",
      "\n",
      "LAW_CAT_CD     F    I     M     V\n",
      "PERP_SEX                         \n",
      "F           0.24  0.0  0.74  0.03\n",
      "M           0.27  0.0  0.66  0.07\n"
     ]
    },
    {
     "data": {
      "image/png": "[encoded data removed]",
      "text/plain": [
       "<Figure size 432x288 with 1 Axes>"
      ]
     },
     "metadata": {
      "needs_background": "light"
     },
     "output_type": "display_data"
    },
    {
     "name": "stdout",
     "output_type": "stream",
     "text": [
      "\n",
      "\n",
      "Punishment Severity by Gender for 25-44 Age Group\n",
      "\n",
      "\n",
      "LAW_CAT_CD     F     I     M     V\n",
      "PERP_SEX                          \n",
      "F           0.26  0.00  0.71  0.02\n",
      "M           0.26  0.01  0.66  0.07\n"
     ]
    },
    {
     "data": {
      "image/png": "[encoded data removed]",
      "text/plain": [
       "<Figure size 432x288 with 1 Axes>"
      ]
     },
     "metadata": {
      "needs_background": "light"
     },
     "output_type": "display_data"
    },
    {
     "name": "stdout",
     "output_type": "stream",
     "text": [
      "\n",
      "\n",
      "Punishment Severity by Gender for 45-64 Age Group\n",
      "\n",
      "\n",
      "LAW_CAT_CD     F     I     M     V\n",
      "PERP_SEX                          \n",
      "F           0.26  0.00  0.71  0.03\n",
      "M           0.24  0.01  0.67  0.08\n"
     ]
    },
    {
     "data": {
      "image/png": "[encoded data removed]",
      "text/plain": [
       "<Figure size 432x288 with 1 Axes>"
      ]
     },
     "metadata": {
      "needs_background": "light"
     },
     "output_type": "display_data"
    },
    {
     "name": "stdout",
     "output_type": "stream",
     "text": [
      "\n",
      "\n",
      "Punishment Severity by Gender for 65+ Age Group\n",
      "\n",
      "\n",
      "LAW_CAT_CD     F     I     M     V\n",
      "PERP_SEX                          \n",
      "F           0.24  0.00  0.72  0.04\n",
      "M           0.25  0.01  0.68  0.06\n"
     ]
    },
    {
     "data": {
      "image/png": "[encoded data removed]",
      "text/plain": [
       "<Figure size 432x288 with 1 Axes>"
      ]
     },
     "metadata": {
      "needs_background": "light"
     },
     "output_type": "display_data"
    },
    {
     "name": "stdout",
     "output_type": "stream",
     "text": [
      "\n",
      "\n"
     ]
    }
   ],
   "source": [
    "gender_groups = [\"M\", \"F\"]\n",
    "age_groups = [\"<18\", \"18-24\", \"25-44\", \"45-64\", \"65+\"]\n",
    "\n",
    "for j in age_groups:\n",
    "    working_df = arrestsdf[arrestsdf[\"AGE_GROUP\"] == j]\n",
    "    gender_sev = pd.crosstab(working_df['PERP_SEX'], working_df['LAW_CAT_CD'])\n",
    "    \n",
    "    for i in gender_sev.index:\n",
    "        total = sum(gender_sev.loc[i])\n",
    "        new_row = [\"%.2f\" % (gender_sev.loc[i][\"F\"]/total),\n",
    "                  \"%.2f\" % (gender_sev.loc[i][\"I\"]/total),\n",
    "                  \"%.2f\" % (gender_sev.loc[i][\"M\"]/total),\n",
    "                  \"%.2f\" % (gender_sev.loc[i][\"V\"]/total)]\n",
    "        gender_sev.loc[i] = new_row\n",
    "\n",
    "    gender_sev = gender_sev.astype({\"F\": float,\n",
    "                              \"I\": float,\n",
    "                              \"M\": float,\n",
    "                              \"V\": float})\n",
    "    print(\"Punishment Severity by Gender for {} Age Group\".format(j))\n",
    "    print(\"\\n\")\n",
    "    print(gender_sev)\n",
    "    plt.show(gender_sev.plot(kind = 'bar', stacked = True, color = ['red', 'blue', 'green', 'yellow'], grid = False))\n",
    "    print(\"\\n\")\n"
   ]
  },
  {
   "cell_type": "markdown",
   "metadata": {},
   "source": [
    "Following this exploratory data analysis, I have decided that the first examples of demographic prejudice by the NY criminal system that I will investigate will be the relationship between a perpetrator's race and the severity of punishment recieved. To continue to conducting statistical tests, the following needs to be completed:\n",
    "* generate contingency and frequency tables\n",
    "* write the cleaned dataset to a CSV\n",
    "* generate some bar plots that compare the frequency of different punishment severities between different racial groups "
   ]
  },
  {
   "cell_type": "markdown",
   "metadata": {},
   "source": [
    "### *Frequency Tables and CSV Output*"
   ]
  },
  {
   "cell_type": "code",
   "execution_count": 24,
   "metadata": {},
   "outputs": [
    {
     "name": "stdout",
     "output_type": "stream",
     "text": [
      "LAW_CAT_CD                         F     I     M     V\n",
      "PERP_RACE                                             \n",
      "AMERICAN INDIAN/ALASKAN NATIVE  0.21  0.01  0.73  0.05\n",
      "ASIAN / PACIFIC ISLANDER        0.26  0.01  0.69  0.03\n",
      "BLACK                           0.28  0.00  0.65  0.07\n",
      "BLACK HISPANIC                  0.27  0.00  0.68  0.05\n",
      "OTHER                           0.25  0.00  0.70  0.05\n",
      "WHITE                           0.24  0.01  0.71  0.05\n",
      "WHITE HISPANIC                  0.25  0.01  0.68  0.06\n",
      "\n",
      "\n",
      "                        PERP_RACE     F     I     M     V\n",
      "0  AMERICAN INDIAN/ALASKAN NATIVE  0.21  0.01  0.73  0.05\n",
      "1        ASIAN / PACIFIC ISLANDER  0.26  0.01  0.69  0.03\n",
      "2                           BLACK  0.28     0  0.65  0.07\n",
      "3                  BLACK HISPANIC  0.27     0  0.68  0.05\n",
      "4                           OTHER  0.25     0   0.7  0.05\n",
      "5                           WHITE  0.24  0.01  0.71  0.05\n",
      "6                  WHITE HISPANIC  0.25  0.01  0.68  0.06\n"
     ]
    }
   ],
   "source": [
    "race_sev = pd.crosstab(arrestsdf['PERP_RACE'], arrestsdf['LAW_CAT_CD'])\n",
    "\n",
    "for i in race_sev.index:\n",
    "    total = sum(race_sev.loc[i])\n",
    "    new_row = [\"%.2f\" % (race_sev.loc[i][\"F\"]/total),\n",
    "              \"%.2f\" % (race_sev.loc[i][\"I\"]/total),\n",
    "              \"%.2f\" % (race_sev.loc[i][\"M\"]/total),\n",
    "              \"%.2f\" % (race_sev.loc[i][\"V\"]/total)]\n",
    "    race_sev.loc[i] = new_row\n",
    "\n",
    "race_sev = race_sev.astype({\"F\": float,\n",
    "                          \"I\": float,\n",
    "                          \"M\": float,\n",
    "                          \"V\": float})\n",
    "\n",
    "racesevdf = pd.DataFrame(columns = [\"PERP_RACE\",\"F\", \"I\", \"M\", \"V\"], \n",
    "                    index = range(0,7))\n",
    "races = [\"AMERICAN INDIAN/ALASKAN NATIVE\", \"ASIAN / PACIFIC ISLANDER\", \"BLACK\",\n",
    "                            \"BLACK HISPANIC\", \"OTHER\", \"WHITE\", \"WHITE HISPANIC\"]\n",
    "print(race_sev)\n",
    "for i in range(0,7):\n",
    "    new_row = [races[i], race_sev.iloc[i][\"F\"], race_sev.iloc[i][\"I\"], \n",
    "               race_sev.iloc[i][\"M\"], race_sev.iloc[i][\"V\"]]\n",
    "    racesevdf.iloc[i] = new_row\n",
    "print(\"\\n\")\n",
    "print(racesevdf)\n",
    "racesevdf.to_csv('race_sevdf.csv', header = True)\n",
    "arrestsdf.to_csv('arrestsdf_cleaned.csv', header = True)"
   ]
  },
  {
   "cell_type": "markdown",
   "metadata": {},
   "source": [
    "### *Proportion of Punishments over All Races*"
   ]
  },
  {
   "cell_type": "code",
   "execution_count": 29,
   "metadata": {},
   "outputs": [
    {
     "data": {
      "image/png": "[encoded data removed]",
      "text/plain": [
       "<Figure size 432x288 with 1 Axes>"
      ]
     },
     "metadata": {},
     "output_type": "display_data"
    }
   ],
   "source": [
    "import seaborn as sns\n",
    "import matplotlib.pyplot as plt\n",
    "\n",
    "sns.set_style(\"whitegrid\")\n",
    "sns.set_palette(sns.husl_palette(4, l = .775))\n",
    "\n",
    "g = sns.barplot(data=race_sev)\n",
    "sns.despine(left=True)\n",
    "plt.xlabel(\"Punishment Severity\") \n",
    "plt.ylabel(\"Proportion of Crimes\")\n",
    "plt.ylim(0,1.0) \n",
    "plt.title(\"Punishment Severity for All Crimes\")\n",
    "plt.savefig('sev_all_crimes.png')\n",
    "plt.show(g)"
   ]
  },
  {
   "cell_type": "markdown",
   "metadata": {},
   "source": [
    "### *Proportion of Punishments for American Indian / Alaskan Native Individuals*"
   ]
  },
  {
   "cell_type": "code",
   "execution_count": 28,
   "metadata": {},
   "outputs": [
    {
     "data": {
      "image/png": "[encoded data removed]",
      "text/plain": [
       "<Figure size 432x288 with 1 Axes>"
      ]
     },
     "metadata": {},
     "output_type": "display_data"
    }
   ],
   "source": [
    "working_series = race_sev.loc['AMERICAN INDIAN/ALASKAN NATIVE']\n",
    "sns.set_style(\"whitegrid\")\n",
    "sns.set_palette(sns.husl_palette(4, l = .775))\n",
    "g = sns.barplot(y = [working_series[\"F\"], working_series[\"I\"],\n",
    "                     working_series[\"M\"], working_series[\"V\"]], \n",
    "                x = [\"F\", \"I\", \"M\", \"V\"])\n",
    "sns.despine(left=True)\n",
    "plt.xlabel(\"Punishment Severity\") \n",
    "plt.ylabel(\"Proportion of Crimes\")\n",
    "plt.ylim(0,1.0) \n",
    "plt.title(\"Punishment Severity for American Indian / Alaskan Native Individuals\")\n",
    "plt.savefig('ai-an-sev.png')\n",
    "plt.show(g)"
   ]
  },
  {
   "cell_type": "markdown",
   "metadata": {},
   "source": [
    "### *Proportion of Punishments for Asian / Pacific Islander Individuals*"
   ]
  },
  {
   "cell_type": "code",
   "execution_count": 30,
   "metadata": {},
   "outputs": [
    {
     "data": {
      "image/png": "[encoded data removed]",
      "text/plain": [
       "<Figure size 432x288 with 1 Axes>"
      ]
     },
     "metadata": {},
     "output_type": "display_data"
    }
   ],
   "source": [
    "working_series = race_sev.loc['ASIAN / PACIFIC ISLANDER']\n",
    "sns.set_style(\"whitegrid\")\n",
    "sns.set_palette(sns.husl_palette(4, l = .775))\n",
    "g = sns.barplot(y = [working_series[\"F\"], working_series[\"I\"],\n",
    "                     working_series[\"M\"], working_series[\"V\"]], \n",
    "                x = [\"F\", \"I\", \"M\", \"V\"])\n",
    "sns.despine(left=True)\n",
    "plt.xlabel(\"Punishment Severity\") \n",
    "plt.ylabel(\"Proportion of Crimes\")\n",
    "plt.ylim(0,1.0) \n",
    "plt.title(\"Punishment Severity for Asian / Pacific Islander Individuals\")\n",
    "plt.savefig('a-pi-sev.png')\n",
    "plt.show(g)"
   ]
  },
  {
   "cell_type": "markdown",
   "metadata": {},
   "source": [
    "### *Proportion of Punishments for Black Individuals*"
   ]
  },
  {
   "cell_type": "code",
   "execution_count": 31,
   "metadata": {},
   "outputs": [
    {
     "data": {
      "image/png": "[encoded data removed]",
      "text/plain": [
       "<Figure size 432x288 with 1 Axes>"
      ]
     },
     "metadata": {},
     "output_type": "display_data"
    }
   ],
   "source": [
    "working_series = race_sev.loc['BLACK']\n",
    "sns.set_style(\"whitegrid\")\n",
    "sns.set_palette(sns.husl_palette(4, l = .775))\n",
    "g = sns.barplot(y = [working_series[\"F\"], working_series[\"I\"],\n",
    "                     working_series[\"M\"], working_series[\"V\"]], \n",
    "                x = [\"F\", \"I\", \"M\", \"V\"])\n",
    "sns.despine(left=True)\n",
    "plt.xlabel(\"Punishment Severity\") \n",
    "plt.ylabel(\"Proportion of Crimes\")\n",
    "plt.ylim(0,1.0) \n",
    "plt.title(\"Punishment Severity for Black Individuals\")\n",
    "plt.savefig('b-sev.png')\n",
    "plt.show(g)\n"
   ]
  },
  {
   "cell_type": "markdown",
   "metadata": {},
   "source": [
    "### *Proportion of Punishments for Black Hispanic Individuals*"
   ]
  },
  {
   "cell_type": "code",
   "execution_count": 32,
   "metadata": {},
   "outputs": [
    {
     "data": {
      "image/png": "[encoded data removed]",
      "text/plain": [
       "<Figure size 432x288 with 1 Axes>"
      ]
     },
     "metadata": {},
     "output_type": "display_data"
    }
   ],
   "source": [
    "working_series = race_sev.loc['BLACK HISPANIC']\n",
    "sns.set_style(\"whitegrid\")\n",
    "sns.set_palette(sns.husl_palette(4, l = .775))\n",
    "g = sns.barplot(y = [working_series[\"F\"], working_series[\"I\"],\n",
    "                     working_series[\"M\"], working_series[\"V\"]], \n",
    "                x = [\"F\", \"I\", \"M\", \"V\"])\n",
    "sns.despine(left=True)\n",
    "plt.xlabel(\"Punishment Severity\") \n",
    "plt.ylabel(\"Proportion of Crimes\")\n",
    "plt.ylim(0,1.0) \n",
    "plt.title(\"Punishment Severity for Black Hispanic Individuals\")\n",
    "plt.savefig('bh-sev.png')\n",
    "plt.show(g)"
   ]
  },
  {
   "cell_type": "markdown",
   "metadata": {},
   "source": [
    "### *Proportion of Punishments for Other Individuals*"
   ]
  },
  {
   "cell_type": "code",
   "execution_count": 33,
   "metadata": {},
   "outputs": [
    {
     "data": {
      "image/png": "[encoded data removed]",
      "text/plain": [
       "<Figure size 432x288 with 1 Axes>"
      ]
     },
     "metadata": {},
     "output_type": "display_data"
    }
   ],
   "source": [
    "working_series = race_sev.loc['OTHER']\n",
    "sns.set_style(\"whitegrid\")\n",
    "sns.set_palette(sns.husl_palette(4, l = .775))\n",
    "g = sns.barplot(y = [working_series[\"F\"], working_series[\"I\"],\n",
    "                     working_series[\"M\"], working_series[\"V\"]], \n",
    "                x = [\"F\", \"I\", \"M\", \"V\"])\n",
    "sns.despine(left=True)\n",
    "plt.xlabel(\"Punishment Severity\") \n",
    "plt.ylabel(\"Proportion of Crimes\")\n",
    "plt.ylim(0,1.0) \n",
    "plt.title(\"Punishment Severity for Other Individuals\")\n",
    "plt.savefig('o-sev.png')\n",
    "plt.show(g)"
   ]
  },
  {
   "cell_type": "markdown",
   "metadata": {},
   "source": [
    "### *Proportion of Punishments for White Individuals*"
   ]
  },
  {
   "cell_type": "code",
   "execution_count": 34,
   "metadata": {},
   "outputs": [
    {
     "data": {
      "image/png": "[encoded data removed]",
      "text/plain": [
       "<Figure size 432x288 with 1 Axes>"
      ]
     },
     "metadata": {},
     "output_type": "display_data"
    }
   ],
   "source": [
    "working_series = race_sev.loc['WHITE']\n",
    "sns.set_style(\"whitegrid\")\n",
    "sns.set_palette(sns.husl_palette(4, l = .775))\n",
    "g = sns.barplot(y = [working_series[\"F\"], working_series[\"I\"],\n",
    "                     working_series[\"M\"], working_series[\"V\"]], \n",
    "                x = [\"F\", \"I\", \"M\", \"V\"])\n",
    "sns.despine(left=True)\n",
    "plt.xlabel(\"Punishment Severity\") \n",
    "plt.ylabel(\"Proportion of Crimes\")\n",
    "plt.ylim(0,1.0) \n",
    "plt.title(\"Punishment Severity for White Individuals\")\n",
    "plt.savefig('w-sev.png')\n",
    "plt.show(g)"
   ]
  },
  {
   "cell_type": "markdown",
   "metadata": {},
   "source": [
    "### *Proportion of Punishments for White Hispanic Individuals*"
   ]
  },
  {
   "cell_type": "code",
   "execution_count": 35,
   "metadata": {},
   "outputs": [
    {
     "data": {
      "image/png": "[encoded data removed]",
      "text/plain": [
       "<Figure size 432x288 with 1 Axes>"
      ]
     },
     "metadata": {},
     "output_type": "display_data"
    }
   ],
   "source": [
    "working_series = race_sev.loc['WHITE HISPANIC']\n",
    "sns.set_style(\"whitegrid\")\n",
    "sns.set_palette(sns.husl_palette(4, l = .775))\n",
    "g = sns.barplot(y = [working_series[\"F\"], working_series[\"I\"],\n",
    "                     working_series[\"M\"], working_series[\"V\"]], \n",
    "                x = [\"F\", \"I\", \"M\", \"V\"])\n",
    "sns.despine(left=True)\n",
    "plt.xlabel(\"Punishment Severity\") \n",
    "plt.ylabel(\"Proportion of Crimes\")\n",
    "plt.ylim(0,1.0) \n",
    "plt.title(\"Punishment Severity for White Hispanic Individuals\")\n",
    "plt.savefig('wh-sev.')\n",
    "plt.show(g)"
   ]
  },
  {
   "cell_type": "markdown",
   "metadata": {},
   "source": [
    "## *Statistical Testing*"
   ]
  },
  {
   "cell_type": "code",
   "execution_count": 38,
   "metadata": {},
   "outputs": [
    {
     "name": "stdout",
     "output_type": "stream",
     "text": [
      "LAW_CAT_CD                         F     I     M     V\n",
      "PERP_RACE                                             \n",
      "AMERICAN INDIAN/ALASKAN NATIVE  0.21  0.01  0.73  0.05\n",
      "ASIAN / PACIFIC ISLANDER        0.26  0.01  0.69  0.03\n",
      "BLACK                           0.28  0.00  0.65  0.07\n",
      "BLACK HISPANIC                  0.27  0.00  0.68  0.05\n",
      "OTHER                           0.25  0.00  0.70  0.05\n",
      "WHITE                           0.24  0.01  0.71  0.05\n",
      "WHITE HISPANIC                  0.25  0.01  0.68  0.06\n",
      "\n",
      "\n",
      "LAW_CAT_CD                           F      I        M       V\n",
      "PERP_RACE                                                     \n",
      "AMERICAN INDIAN/ALASKAN NATIVE    2170    106     7609     544\n",
      "ASIAN / PACIFIC ISLANDER         50244   1882   133552    6527\n",
      "BLACK                           641057  10039  1514777  153314\n",
      "BLACK HISPANIC                  103782   1428   259209   17472\n",
      "OTHER                              339      4      955      65\n",
      "WHITE                           135864   3878   407261   29099\n",
      "WHITE HISPANIC                  309666   7847   846169   79772\n"
     ]
    }
   ],
   "source": [
    "print(race_sev)\n",
    "print(\"\\n\")\n",
    "race_sev_overall = pd.crosstab(arrestsdf['PERP_RACE'], arrestsdf['LAW_CAT_CD'])\n",
    "print(race_sev_overall)"
   ]
  },
  {
   "cell_type": "markdown",
   "metadata": {},
   "source": [
    "As is noticeable from the previous frequency table, as well as through the previous bar plots, there is potential bias towards Black individuals, as their felony rates are higher than every other race. To that extent, I will be implementing Z-tests to determine if the differences in the proportion of felonies handed to Black individuals compared to individuals of other races is statistically significant.\n",
    "\n",
    "For each of these tests, the null hypothesis will state that the proportion of felonies handed to Black individuals is the less than or equal to the proportion of felonies given to individuals of the race we are observing. The alternate hypothesis will state that the proportion of felonies handed to Black individuals is greater than the proportion of felonies given to individuals of the race we are observing. Therefore, this will be a two proportion, one-tailed Z-test. The alpha value set for this will be the standard .05, which means that a p-value below .05 indicates that we should reject the null hypothesis. "
   ]
  },
  {
   "cell_type": "code",
   "execution_count": 44,
   "metadata": {},
   "outputs": [
    {
     "name": "stdout",
     "output_type": "stream",
     "text": [
      "                                     F      I        M       V\n",
      "AMERICAN INDIAN/ALASKAN NATIVE    2170    106     7609     544\n",
      "ASIAN / PACIFIC ISLANDER         50244   1882   133552    6527\n",
      "BLACK                           641057  10039  1514777  153314\n",
      "BLACK HISPANIC                  103782   1428   259209   17472\n",
      "OTHER                              339      4      955      65\n",
      "WHITE                           135864   3878   407261   29099\n",
      "WHITE HISPANIC                  309666   7847   846169   79772\n"
     ]
    }
   ],
   "source": [
    "print(race_sevdf)"
   ]
  },
  {
   "cell_type": "code",
   "execution_count": 48,
   "metadata": {},
   "outputs": [
    {
     "name": "stdout",
     "output_type": "stream",
     "text": [
      "Comparing: BLACK and AMERICAN INDIAN/ALASKAN NATIVE Individuals\n",
      "z-score: 15.575824385000406\n",
      "p-value: 5.313701554514824e-55\n",
      "Decision: Reject the null hypothesis.\n",
      "---------------------------------------------\n",
      "\n",
      "\n",
      "Comparing: BLACK and ASIAN / PACIFIC ISLANDER Individuals\n",
      "z-score: 14.154562817740782\n",
      "p-value: 8.751140252954609e-46\n",
      "Decision: Reject the null hypothesis.\n",
      "---------------------------------------------\n",
      "\n",
      "\n",
      "Comparing: BLACK and BLACK Individuals\n",
      "z-score: 0.0\n",
      "p-value: 0.5\n",
      "Decision: Fail to reject the null hypothesis.\n",
      "---------------------------------------------\n",
      "\n",
      "\n",
      "Comparing: BLACK and BLACK HISPANIC Individuals\n",
      "z-score: 5.966381185709352\n",
      "p-value: 1.2128661256266069e-09\n",
      "Decision: Reject the null hypothesis.\n",
      "---------------------------------------------\n",
      "\n",
      "\n",
      "Comparing: BLACK and OTHER Individuals\n",
      "z-score: 2.2859075196695566\n",
      "p-value: 0.0111298347211893\n",
      "Decision: Reject the null hypothesis.\n",
      "---------------------------------------------\n",
      "\n",
      "\n",
      "Comparing: BLACK and WHITE Individuals\n",
      "z-score: 62.21575044651642\n",
      "p-value: 0.0\n",
      "Decision: Reject the null hypothesis.\n",
      "---------------------------------------------\n",
      "\n",
      "\n",
      "Comparing: BLACK and WHITE HISPANIC Individuals\n",
      "z-score: 55.68741551163996\n",
      "p-value: 0.0\n",
      "Decision: Reject the null hypothesis.\n",
      "---------------------------------------------\n",
      "\n",
      "\n"
     ]
    }
   ],
   "source": [
    "import math\n",
    "from scipy.stats import norm\n",
    "\n",
    "total_black_perps = sum(race_sevdf.loc[\"BLACK\"])\n",
    "prop_black_felony = race_sevdf.loc[\"BLACK\"][\"F\"]/total_black_perps\n",
    "\n",
    "for i in race_sevdf.index:\n",
    "    working_series = race_sevdf.loc[i]\n",
    "    working_total = sum(working_series)\n",
    "    working_prop = working_series[\"F\"]/working_total\n",
    "    working_prop_overall = (working_series[\"F\"]+race_sevdf.loc[\"BLACK\"][\"F\"])/(total_black_perps+working_total)\n",
    "    z_score = (prop_black_felony - working_prop)/math.sqrt(working_prop_overall*(1-working_prop_overall)*\n",
    "                                                           ((1/total_black_perps)+(1/working_total)))\n",
    "    p_val = norm.sf(abs(z_score))\n",
    "    if p_val < .05:\n",
    "        decision = \"Reject\"\n",
    "    if p_val >= .05:\n",
    "        decision = \"Fail to reject\"\n",
    "    print(\"Comparing: BLACK and {} Individuals\".format(i))\n",
    "    print(\"z-score: {}\".format(z_score))\n",
    "    print(\"p-value: {}\".format(p_val))\n",
    "    print(\"Decision: {} the null hypothesis.\".format(decision))\n",
    "    print(\"---------------------------------------------\")\n",
    "    print(\"\\n\")"
   ]
  },
  {
   "cell_type": "markdown",
   "metadata": {},
   "source": [
    "## *Results and Further Work*"
   ]
  },
  {
   "cell_type": "markdown",
   "metadata": {},
   "source": [
    "As we can see in the above output, we reject the null hypothesis for every comparison between Black individuals and individuals from another race. The null hypothesis states that the proportion of felonies given to Black individuals is less than or equal to the proportion of felonies given to individuals of other races. By disproving this, we have reached the preliminary conclusion that Black individuals are handed more felonies than individuals of other races, which can be used as an argument supporting prejudice in the NY criminal system.\n",
    "\n",
    "However, using this preliminary conclusion to argue that prejudice exists against Black individuals compared to every other race in the NY criminal system assumes that every race commits similar crimes overall. However, something that the above analysis leaves out is the possibility that Black individuals commit worse crimes than individuals of other races, which is why they are disproportinately given felony convictions. Therefore, the next step of this analysis would be to investigate whether or not Black people are disproportionatey given felony convictions for the same crime compared to other racial groups. "
   ]
  },
  {
   "cell_type": "code",
   "execution_count": null,
   "metadata": {},
   "outputs": [],
   "source": []
  }
 ],
 "metadata": {
  "kernelspec": {
   "display_name": "Python 3",
   "language": "python",
   "name": "python3"
  },
  "language_info": {
   "codemirror_mode": {
    "name": "ipython",
    "version": 3
   },
   "file_extension": ".py",
   "mimetype": "text/x-python",
   "name": "python",
   "nbconvert_exporter": "python",
   "pygments_lexer": "ipython3",
   "version": "3.7.3"
  }
 },
 "nbformat": 4,
 "nbformat_minor": 2
}
