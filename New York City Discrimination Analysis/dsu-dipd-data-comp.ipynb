{
 "cells": [
  {
   "cell_type": "markdown",
   "metadata": {},
   "source": [
    "# **DSUxDIPD Data Competition**\n",
    "## NYPD Arrest Discrimination Analysis\n",
    "\n",
    "### Problem statement\n",
    "Find evidence of discrimination and bias based off a demographic of civilian population in the New York criminal system. Provide visualizations, models, or tables of data that help support your case. \n"
   ]
  },
  {
   "cell_type": "markdown",
   "metadata": {},
   "source": [
    "## *Data Retrieval*"
   ]
  },
  {
   "cell_type": "code",
   "execution_count": 2,
   "metadata": {},
   "outputs": [],
   "source": [
    "import pandas as pd\n",
    "arrestsdf = pd.read_csv(\"/Users/ankushbharadwaj/Downloads/NYPD_Arrests_Data__Historic_.csv\")"
   ]
  },
  {
   "cell_type": "code",
   "execution_count": 3,
   "metadata": {},
   "outputs": [
    {
     "name": "stdout",
     "output_type": "stream",
     "text": [
      "(4798339, 18)\n"
     ]
    },
    {
     "data": {
      "text/html": [
       "<div>\n",
       "<style scoped>\n",
       "    .dataframe tbody tr th:only-of-type {\n",
       "        vertical-align: middle;\n",
       "    }\n",
       "\n",
       "    .dataframe tbody tr th {\n",
       "        vertical-align: top;\n",
       "    }\n",
       "\n",
       "    .dataframe thead th {\n",
       "        text-align: right;\n",
       "    }\n",
       "</style>\n",
       "<table border=\"1\" class=\"dataframe\">\n",
       "  <thead>\n",
       "    <tr style=\"text-align: right;\">\n",
       "      <th></th>\n",
       "      <th>ARREST_KEY</th>\n",
       "      <th>ARREST_DATE</th>\n",
       "      <th>PD_CD</th>\n",
       "      <th>PD_DESC</th>\n",
       "      <th>KY_CD</th>\n",
       "      <th>OFNS_DESC</th>\n",
       "      <th>LAW_CODE</th>\n",
       "      <th>LAW_CAT_CD</th>\n",
       "      <th>ARREST_BORO</th>\n",
       "      <th>ARREST_PRECINCT</th>\n",
       "      <th>JURISDICTION_CODE</th>\n",
       "      <th>AGE_GROUP</th>\n",
       "      <th>PERP_SEX</th>\n",
       "      <th>PERP_RACE</th>\n",
       "      <th>X_COORD_CD</th>\n",
       "      <th>Y_COORD_CD</th>\n",
       "      <th>Latitude</th>\n",
       "      <th>Longitude</th>\n",
       "    </tr>\n",
       "  </thead>\n",
       "  <tbody>\n",
       "    <tr>\n",
       "      <th>0</th>\n",
       "      <td>173130602</td>\n",
       "      <td>12/31/2017</td>\n",
       "      <td>566.0</td>\n",
       "      <td>MARIJUANA, POSSESSION</td>\n",
       "      <td>678.0</td>\n",
       "      <td>MISCELLANEOUS PENAL LAW</td>\n",
       "      <td>PL 2210500</td>\n",
       "      <td>V</td>\n",
       "      <td>Q</td>\n",
       "      <td>105</td>\n",
       "      <td>0.0</td>\n",
       "      <td>25-44</td>\n",
       "      <td>M</td>\n",
       "      <td>BLACK</td>\n",
       "      <td>1063056.0</td>\n",
       "      <td>207463.0</td>\n",
       "      <td>40.735772</td>\n",
       "      <td>-73.715638</td>\n",
       "    </tr>\n",
       "    <tr>\n",
       "      <th>1</th>\n",
       "      <td>173114463</td>\n",
       "      <td>12/31/2017</td>\n",
       "      <td>478.0</td>\n",
       "      <td>THEFT OF SERVICES, UNCLASSIFIED</td>\n",
       "      <td>343.0</td>\n",
       "      <td>OTHER OFFENSES RELATED TO THEFT</td>\n",
       "      <td>PL 1651503</td>\n",
       "      <td>M</td>\n",
       "      <td>Q</td>\n",
       "      <td>114</td>\n",
       "      <td>0.0</td>\n",
       "      <td>25-44</td>\n",
       "      <td>M</td>\n",
       "      <td>ASIAN / PACIFIC ISLANDER</td>\n",
       "      <td>1009113.0</td>\n",
       "      <td>219613.0</td>\n",
       "      <td>40.769437</td>\n",
       "      <td>-73.910241</td>\n",
       "    </tr>\n",
       "    <tr>\n",
       "      <th>2</th>\n",
       "      <td>173113513</td>\n",
       "      <td>12/31/2017</td>\n",
       "      <td>849.0</td>\n",
       "      <td>NY STATE LAWS,UNCLASSIFIED VIOLATION</td>\n",
       "      <td>677.0</td>\n",
       "      <td>OTHER STATE LAWS</td>\n",
       "      <td>LOC000000V</td>\n",
       "      <td>V</td>\n",
       "      <td>K</td>\n",
       "      <td>73</td>\n",
       "      <td>1.0</td>\n",
       "      <td>18-24</td>\n",
       "      <td>M</td>\n",
       "      <td>BLACK</td>\n",
       "      <td>1010719.0</td>\n",
       "      <td>186857.0</td>\n",
       "      <td>40.679525</td>\n",
       "      <td>-73.904572</td>\n",
       "    </tr>\n",
       "    <tr>\n",
       "      <th>3</th>\n",
       "      <td>173113423</td>\n",
       "      <td>12/31/2017</td>\n",
       "      <td>101.0</td>\n",
       "      <td>ASSAULT 3</td>\n",
       "      <td>344.0</td>\n",
       "      <td>ASSAULT 3 &amp; RELATED OFFENSES</td>\n",
       "      <td>PL 1200001</td>\n",
       "      <td>M</td>\n",
       "      <td>M</td>\n",
       "      <td>18</td>\n",
       "      <td>0.0</td>\n",
       "      <td>25-44</td>\n",
       "      <td>M</td>\n",
       "      <td>WHITE</td>\n",
       "      <td>987831.0</td>\n",
       "      <td>217446.0</td>\n",
       "      <td>40.763523</td>\n",
       "      <td>-73.987074</td>\n",
       "    </tr>\n",
       "    <tr>\n",
       "      <th>4</th>\n",
       "      <td>173113421</td>\n",
       "      <td>12/31/2017</td>\n",
       "      <td>101.0</td>\n",
       "      <td>ASSAULT 3</td>\n",
       "      <td>344.0</td>\n",
       "      <td>ASSAULT 3 &amp; RELATED OFFENSES</td>\n",
       "      <td>PL 1200001</td>\n",
       "      <td>M</td>\n",
       "      <td>M</td>\n",
       "      <td>18</td>\n",
       "      <td>0.0</td>\n",
       "      <td>45-64</td>\n",
       "      <td>M</td>\n",
       "      <td>BLACK</td>\n",
       "      <td>987073.0</td>\n",
       "      <td>216078.0</td>\n",
       "      <td>40.759768</td>\n",
       "      <td>-73.989811</td>\n",
       "    </tr>\n",
       "    <tr>\n",
       "      <th>5</th>\n",
       "      <td>173130583</td>\n",
       "      <td>12/31/2017</td>\n",
       "      <td>397.0</td>\n",
       "      <td>ROBBERY,UNCLASSIFIED,OPEN AREAS</td>\n",
       "      <td>105.0</td>\n",
       "      <td>ROBBERY</td>\n",
       "      <td>PL 1601001</td>\n",
       "      <td>F</td>\n",
       "      <td>K</td>\n",
       "      <td>73</td>\n",
       "      <td>0.0</td>\n",
       "      <td>18-24</td>\n",
       "      <td>M</td>\n",
       "      <td>BLACK</td>\n",
       "      <td>1007524.0</td>\n",
       "      <td>188555.0</td>\n",
       "      <td>40.684194</td>\n",
       "      <td>-73.916085</td>\n",
       "    </tr>\n",
       "    <tr>\n",
       "      <th>6</th>\n",
       "      <td>173129349</td>\n",
       "      <td>12/31/2017</td>\n",
       "      <td>101.0</td>\n",
       "      <td>ASSAULT 3</td>\n",
       "      <td>344.0</td>\n",
       "      <td>ASSAULT 3 &amp; RELATED OFFENSES</td>\n",
       "      <td>PL 1200001</td>\n",
       "      <td>M</td>\n",
       "      <td>M</td>\n",
       "      <td>9</td>\n",
       "      <td>0.0</td>\n",
       "      <td>18-24</td>\n",
       "      <td>F</td>\n",
       "      <td>WHITE HISPANIC</td>\n",
       "      <td>990592.0</td>\n",
       "      <td>202391.0</td>\n",
       "      <td>40.722199</td>\n",
       "      <td>-73.977122</td>\n",
       "    </tr>\n",
       "    <tr>\n",
       "      <th>7</th>\n",
       "      <td>173128438</td>\n",
       "      <td>12/31/2017</td>\n",
       "      <td>511.0</td>\n",
       "      <td>CONTROLLED SUBSTANCE, POSSESSION 7</td>\n",
       "      <td>235.0</td>\n",
       "      <td>DANGEROUS DRUGS</td>\n",
       "      <td>PL 2200300</td>\n",
       "      <td>M</td>\n",
       "      <td>M</td>\n",
       "      <td>25</td>\n",
       "      <td>0.0</td>\n",
       "      <td>25-44</td>\n",
       "      <td>M</td>\n",
       "      <td>BLACK</td>\n",
       "      <td>999724.0</td>\n",
       "      <td>230625.0</td>\n",
       "      <td>40.799683</td>\n",
       "      <td>-73.944112</td>\n",
       "    </tr>\n",
       "    <tr>\n",
       "      <th>8</th>\n",
       "      <td>173128437</td>\n",
       "      <td>12/31/2017</td>\n",
       "      <td>101.0</td>\n",
       "      <td>ASSAULT 3</td>\n",
       "      <td>344.0</td>\n",
       "      <td>ASSAULT 3 &amp; RELATED OFFENSES</td>\n",
       "      <td>PL 1200001</td>\n",
       "      <td>M</td>\n",
       "      <td>M</td>\n",
       "      <td>23</td>\n",
       "      <td>2.0</td>\n",
       "      <td>25-44</td>\n",
       "      <td>M</td>\n",
       "      <td>BLACK HISPANIC</td>\n",
       "      <td>998165.0</td>\n",
       "      <td>226184.0</td>\n",
       "      <td>40.787496</td>\n",
       "      <td>-73.949752</td>\n",
       "    </tr>\n",
       "    <tr>\n",
       "      <th>9</th>\n",
       "      <td>173128433</td>\n",
       "      <td>12/31/2017</td>\n",
       "      <td>705.0</td>\n",
       "      <td>FORGERY,ETC.-MISD.</td>\n",
       "      <td>358.0</td>\n",
       "      <td>OFFENSES INVOLVING FRAUD</td>\n",
       "      <td>PL 1702000</td>\n",
       "      <td>M</td>\n",
       "      <td>M</td>\n",
       "      <td>17</td>\n",
       "      <td>0.0</td>\n",
       "      <td>18-24</td>\n",
       "      <td>M</td>\n",
       "      <td>WHITE</td>\n",
       "      <td>991195.0</td>\n",
       "      <td>212559.0</td>\n",
       "      <td>40.750107</td>\n",
       "      <td>-73.974936</td>\n",
       "    </tr>\n",
       "  </tbody>\n",
       "</table>\n",
       "</div>"
      ],
      "text/plain": [
       "   ARREST_KEY ARREST_DATE  PD_CD                               PD_DESC  KY_CD  \\\n",
       "0   173130602  12/31/2017  566.0                 MARIJUANA, POSSESSION  678.0   \n",
       "1   173114463  12/31/2017  478.0       THEFT OF SERVICES, UNCLASSIFIED  343.0   \n",
       "2   173113513  12/31/2017  849.0  NY STATE LAWS,UNCLASSIFIED VIOLATION  677.0   \n",
       "3   173113423  12/31/2017  101.0                             ASSAULT 3  344.0   \n",
       "4   173113421  12/31/2017  101.0                             ASSAULT 3  344.0   \n",
       "5   173130583  12/31/2017  397.0       ROBBERY,UNCLASSIFIED,OPEN AREAS  105.0   \n",
       "6   173129349  12/31/2017  101.0                             ASSAULT 3  344.0   \n",
       "7   173128438  12/31/2017  511.0    CONTROLLED SUBSTANCE, POSSESSION 7  235.0   \n",
       "8   173128437  12/31/2017  101.0                             ASSAULT 3  344.0   \n",
       "9   173128433  12/31/2017  705.0                    FORGERY,ETC.-MISD.  358.0   \n",
       "\n",
       "                         OFNS_DESC    LAW_CODE LAW_CAT_CD ARREST_BORO  \\\n",
       "0          MISCELLANEOUS PENAL LAW  PL 2210500          V           Q   \n",
       "1  OTHER OFFENSES RELATED TO THEFT  PL 1651503          M           Q   \n",
       "2                 OTHER STATE LAWS  LOC000000V          V           K   \n",
       "3     ASSAULT 3 & RELATED OFFENSES  PL 1200001          M           M   \n",
       "4     ASSAULT 3 & RELATED OFFENSES  PL 1200001          M           M   \n",
       "5                          ROBBERY  PL 1601001          F           K   \n",
       "6     ASSAULT 3 & RELATED OFFENSES  PL 1200001          M           M   \n",
       "7                  DANGEROUS DRUGS  PL 2200300          M           M   \n",
       "8     ASSAULT 3 & RELATED OFFENSES  PL 1200001          M           M   \n",
       "9         OFFENSES INVOLVING FRAUD  PL 1702000          M           M   \n",
       "\n",
       "   ARREST_PRECINCT  JURISDICTION_CODE AGE_GROUP PERP_SEX  \\\n",
       "0              105                0.0     25-44        M   \n",
       "1              114                0.0     25-44        M   \n",
       "2               73                1.0     18-24        M   \n",
       "3               18                0.0     25-44        M   \n",
       "4               18                0.0     45-64        M   \n",
       "5               73                0.0     18-24        M   \n",
       "6                9                0.0     18-24        F   \n",
       "7               25                0.0     25-44        M   \n",
       "8               23                2.0     25-44        M   \n",
       "9               17                0.0     18-24        M   \n",
       "\n",
       "                  PERP_RACE  X_COORD_CD  Y_COORD_CD   Latitude  Longitude  \n",
       "0                     BLACK   1063056.0    207463.0  40.735772 -73.715638  \n",
       "1  ASIAN / PACIFIC ISLANDER   1009113.0    219613.0  40.769437 -73.910241  \n",
       "2                     BLACK   1010719.0    186857.0  40.679525 -73.904572  \n",
       "3                     WHITE    987831.0    217446.0  40.763523 -73.987074  \n",
       "4                     BLACK    987073.0    216078.0  40.759768 -73.989811  \n",
       "5                     BLACK   1007524.0    188555.0  40.684194 -73.916085  \n",
       "6            WHITE HISPANIC    990592.0    202391.0  40.722199 -73.977122  \n",
       "7                     BLACK    999724.0    230625.0  40.799683 -73.944112  \n",
       "8            BLACK HISPANIC    998165.0    226184.0  40.787496 -73.949752  \n",
       "9                     WHITE    991195.0    212559.0  40.750107 -73.974936  "
      ]
     },
     "execution_count": 3,
     "metadata": {},
     "output_type": "execute_result"
    }
   ],
   "source": [
    "print(arrestsdf.shape)\n",
    "arrestsdf.head(10)"
   ]
  },
  {
   "cell_type": "markdown",
   "metadata": {},
   "source": [
    "## *Data Preparation*"
   ]
  },
  {
   "cell_type": "markdown",
   "metadata": {},
   "source": [
    "The columns and rows with the following conditions should be filtered out:\n",
    "* columns that provide no information about perpetrator's demographic or their crime or punishment\n",
    "* rows that have missing values"
   ]
  },
  {
   "cell_type": "markdown",
   "metadata": {},
   "source": [
    "Columns that provide unnecessary information:\n",
    "* LAW_CODE\n",
    "* X_COORD_CD\n",
    "* Y_COORD_CD\n",
    "* Latitude\n",
    "* Longitude"
   ]
  },
  {
   "cell_type": "code",
   "execution_count": 4,
   "metadata": {},
   "outputs": [],
   "source": [
    "arrestsdf.drop([\"LAW_CODE\", \"X_COORD_CD\", \"Y_COORD_CD\",\n",
    "               \"Latitude\", \"Longitude\"], \n",
    "                 axis=1, inplace = True)"
   ]
  },
  {
   "cell_type": "code",
   "execution_count": 5,
   "metadata": {},
   "outputs": [
    {
     "name": "stdout",
     "output_type": "stream",
     "text": [
      "Number of missing values for ARREST_KEY: 0\n",
      "Number of missing values for ARREST_DATE: 0\n",
      "Number of missing values for PD_CD: 220\n",
      "Number of missing values for PD_DESC: 8870\n",
      "Number of missing values for KY_CD: 8870\n",
      "Number of missing values for OFNS_DESC: 8870\n",
      "Number of missing values for LAW_CAT_CD: 16103\n",
      "Number of missing values for ARREST_BORO: 8\n",
      "Number of missing values for ARREST_PRECINCT: 0\n",
      "Number of missing values for JURISDICTION_CODE: 10\n",
      "Number of missing values for AGE_GROUP: 17\n",
      "Number of missing values for PERP_SEX: 0\n",
      "Number of missing values for PERP_RACE: 0\n"
     ]
    }
   ],
   "source": [
    "for column in arrestsdf:\n",
    "    missing_val = sum(arrestsdf[column].isnull())\n",
    "    print(\"Number of missing values for {}: {}\".format(column, missing_val))"
   ]
  },
  {
   "cell_type": "markdown",
   "metadata": {},
   "source": [
    "We notice that the following columns have missing values:\n",
    "* PD_CD: Three digit internal classification code\n",
    "* PD_DESC: Description of crime corresponding to PD_CD\n",
    "* KY_CD: Three digit internal classification code, more general than PD_CD\n",
    "* OFNS_DESC: Description of crime corresponding to OFNS_DESC\n",
    "* LAW_CAT_CD: Level of offense (felony, misdemeanor, violation, infraction)\n",
    "* ARREST_BORO: Borough of arrest\n",
    "* JURISDICTION_CODE: Jurisdiction responsible for arrest (0 is Patrol, 1 is Transit, 2 is Housing, >3 is non NYPD)\n",
    "* AGE_GROUP: Perpetrator's age"
   ]
  },
  {
   "cell_type": "code",
   "execution_count": 6,
   "metadata": {},
   "outputs": [],
   "source": [
    "arrestsdf.dropna(inplace = True)"
   ]
  },
  {
   "cell_type": "code",
   "execution_count": 7,
   "metadata": {},
   "outputs": [
    {
     "data": {
      "text/plain": [
       "ARREST_KEY             int64\n",
       "ARREST_DATE           object\n",
       "PD_CD                float64\n",
       "PD_DESC               object\n",
       "KY_CD                float64\n",
       "OFNS_DESC             object\n",
       "LAW_CAT_CD            object\n",
       "ARREST_BORO           object\n",
       "ARREST_PRECINCT        int64\n",
       "JURISDICTION_CODE    float64\n",
       "AGE_GROUP             object\n",
       "PERP_SEX              object\n",
       "PERP_RACE             object\n",
       "dtype: object"
      ]
     },
     "execution_count": 7,
     "metadata": {},
     "output_type": "execute_result"
    }
   ],
   "source": [
    "arrestsdf.dtypes"
   ]
  },
  {
   "cell_type": "code",
   "execution_count": 8,
   "metadata": {},
   "outputs": [
    {
     "name": "stdout",
     "output_type": "stream",
     "text": [
      "Value counts for PD_DESC:\n",
      "--------------------\n",
      "MARIJUANA, POSSESSION 4 & 5                   422355\n",
      "ASSAULT 3                                     375999\n",
      "THEFT OF SERVICES, UNCLASSIFIED               303358\n",
      "CONTROLLED SUBSTANCE, POSSESSION 7            278080\n",
      "NY STATE LAWS,UNCLASSIFIED VIOLATION          225678\n",
      "LARCENY,PETIT FROM OPEN AREAS,UNCLASSIFIED    188347\n",
      "TRAFFIC,UNCLASSIFIED INFRACTION               165645\n",
      "ASSAULT 2,1,UNCLASSIFIED                      150823\n",
      "STOLEN PROPERTY 3,POSSESSION                  149875\n",
      "ROBBERY,UNCLASSIFIED,OPEN AREAS               143263\n",
      "TRAFFIC,UNCLASSIFIED MISDEMEAN                117644\n",
      "CONTROLLED SUBSTANCE,INTENT TO SELL 3         113536\n",
      "TRESPASS 3, CRIMINAL                          109731\n",
      "INTOXICATED DRIVING,ALCOHOL                   101711\n",
      "WEAPONS, POSSESSION, ETC                       96197\n",
      "TRESPASS 2, CRIMINAL                           86447\n",
      "LARCENY,GRAND FROM OPEN AREAS,UNCLASSIFIED     85217\n",
      "CONTROLLED SUBSTANCE,SALE 3                    83890\n",
      "PUBLIC ADMINISTRATION,UNCLASSIFIED FELONY      76757\n",
      "FORGERY,ETC.,UNCLASSIFIED-FELONY               75505\n",
      "MISCHIEF,CRIMINAL     UNCLASSIFIED 4TH DEG     70796\n",
      "NY STATE LAWS,UNCLASSIFIED MISDEMEANOR         66946\n",
      "MENACING,UNCLASSIFIED                          62502\n",
      "MARIJUANA, SALE 4 & 5                          62446\n",
      "TRAFFIC,UNCLASSIFIED MISDEMEANOR               60299\n",
      "AGGRAVATED HARASSMENT 2                        59180\n",
      "PUBLIC ADMINISTATION,UNCLASS MISDEMEAN 4       53366\n",
      "RESISTING ARREST                               51227\n",
      "BURGLARY,UNCLASSIFIED,UNKNOWN TIME             50257\n",
      "WEAPONS POSSESSION 3                           47275\n",
      "                                               ...  \n",
      "ANARCHY,CRIMINAL                                   6\n",
      "WEAPONS,PROHIBITED USE IMITATION PISTOL            5\n",
      "SUPP. ACT TERRORISM 2ND                            5\n",
      "FIREWORKS PREV CONV 5 YEARS                        5\n",
      "MANSLAUGHTER,UNCLASSIFIED - NO                     5\n",
      "TURN,IMPROPER                                      4\n",
      "DISORDERLY CONDUCT                                 4\n",
      "BIGAMY                                             4\n",
      "FORGERY,ETC.,UNCLASSIFIED-FELO                     4\n",
      "UNCLASSIFIED                                       4\n",
      "SUPP ACT TERRORISM 1                               3\n",
      "STOLEN PROPERTY 2,1,POSSESSION                     3\n",
      "PROMOTING SUICIDE ATTEMPT                          3\n",
      "PROSTITUTION 3,PROMOTING BUSIN                     3\n",
      "PUBLIC ADMINISTRATION,UNCLASSI                     2\n",
      "AGRICULTURE & MARKETS LAW,UNCL                     2\n",
      "WEAPONS DISPOSITION OF                             2\n",
      "ABORTION 2, 1, SELF                                1\n",
      "MISCHIEF,CRIMINAL     UNCLASSI                     1\n",
      "LOITERING,BEGGING                                  1\n",
      "EXHIBITION,OFFENSIVE                               1\n",
      "PEDESTRIAN - WALK/DO NOT WALK                      1\n",
      "MARRIAGE,OFFENSES AGAINST,UNCLASSIFIED             1\n",
      "WOUNDS,REPORTING OF                                1\n",
      "FAC. SEXUAL OFFENSE W/CONTROLLED SUBSTANCE         1\n",
      "MANUFATURE, TRANSPORT, DEFACE, ETC...              1\n",
      "PUBLIC HEALTH LAW,UNCLASSIFIED                     1\n",
      "RIGHT OF WAY,PEDESTRIAN                            1\n",
      "USING SLUGS, 2ND                                   1\n",
      "LOITERING FOR PROSTITUTION OR                      1\n",
      "Name: PD_DESC, Length: 340, dtype: int64\n",
      "--------------------\n",
      "\n",
      "Value counts for OFNS_DESC:\n",
      "--------------------\n",
      "DANGEROUS DRUGS                                1056370\n",
      "ASSAULT 3 & RELATED OFFENSES                    459887\n",
      "OTHER OFFENSES RELATED TO THEFT                 304190\n",
      "OTHER STATE LAWS                                240418\n",
      "CRIMINAL TRESPASS                               196178\n",
      "PETIT LARCENY                                   188360\n",
      "VEHICLE AND TRAFFIC LAWS                        186049\n",
      "DANGEROUS WEAPONS                               182925\n",
      "FELONY ASSAULT                                  181549\n",
      "OTHER TRAFFIC INFRACTION                        171302\n",
      "MISCELLANEOUS PENAL LAW                         164467\n",
      "OFFENSES AGAINST PUBLIC ADMINISTRATION          156541\n",
      "POSSESSION OF STOLEN PROPERTY 5                 149875\n",
      "CRIMINAL MISCHIEF & RELATED OFFENSES            146039\n",
      "ROBBERY                                         144080\n",
      "GRAND LARCENY                                   109532\n",
      "INTOXICATED & IMPAIRED DRIVING                   94685\n",
      "OTHER STATE LAWS (NON PENAL LAW)                 79151\n",
      "FORGERY                                          77849\n",
      "OFF. AGNST PUB ORD SENSBLTY & RGHTS TO PRIV      66241\n",
      "BURGLARY                                         61665\n",
      "PROSTITUTION & RELATED OFFENSES                  45530\n",
      "SEX CRIMES                                       31139\n",
      "DISORDERLY CONDUCT                               30156\n",
      "OFFENSES INVOLVING FRAUD                         24942\n",
      "OFFENSES AGAINST THE PERSON                      21861\n",
      "FRAUDS                                           18753\n",
      "POSSESSION OF STOLEN PROPERTY                    16561\n",
      "GRAND LARCENY OF MOTOR VEHICLE                   14193\n",
      "ADMINISTRATIVE CODE                              13491\n",
      "                                                ...   \n",
      "HARRASSMENT 2                                     2115\n",
      "OFFENSES AGAINST PUBLIC SAFETY                    1985\n",
      "KIDNAPPING & RELATED OFFENSES                     1948\n",
      "CRIMINAL MISCHIEF & RELATED OF                    1794\n",
      "ARSON                                             1678\n",
      "LOITERING                                          720\n",
      "ANTICIPATORY OFFENSES                              680\n",
      "LOITERING FOR DRUG PURPOSES                        578\n",
      "LOITERING/GAMBLING (CARDS, DICE, ETC)              566\n",
      "NEW YORK CITY HEALTH CODE                          503\n",
      "CHILD ABANDONMENT/NON SUPPORT 1                    474\n",
      "JOSTLING                                           431\n",
      "ENDAN WELFARE INCOMP                               321\n",
      "ESCAPE 3                                           273\n",
      "NYS LAWS-UNCLASSIFIED FELONY                       218\n",
      "HOMICIDE-NEGLIGENT,UNCLASSIFIED                    165\n",
      "ADMINISTRATIVE CODES                               159\n",
      "PARKING OFFENSES                                   157\n",
      "HOMICIDE-NEGLIGENT-VEHICLE                         104\n",
      "UNLAWFUL POSS. WEAP. ON SCHOOL GROUNDS              63\n",
      "DISRUPTION OF A RELIGIOUS SERVICE                   56\n",
      "OFFENSES AGAINST PUBLIC ADMINI                      51\n",
      "CHILD ABANDONMENT/NON SUPPORT                       49\n",
      "MURDER & NON-NEGL. MANSLAUGHTE                      23\n",
      "FORTUNE TELLING                                     12\n",
      "UNDER THE INFLUENCE, DRUGS                          11\n",
      "ABORTION                                            10\n",
      "F.C.A. P.I.N.O.S.                                   10\n",
      "OFFENSES AGAINST MARRIAGE UNCLASSIFIED               1\n",
      "LOITERING,BEGGING                                    1\n",
      "Name: OFNS_DESC, Length: 75, dtype: int64\n",
      "--------------------\n",
      "\n",
      "Value counts for LAW_CAT_CD:\n",
      "--------------------\n",
      "M    3204517\n",
      "F    1253708\n",
      "V     289663\n",
      "I      25643\n",
      "Name: LAW_CAT_CD, dtype: int64\n",
      "--------------------\n",
      "\n",
      "Value counts for ARREST_BORO:\n",
      "--------------------\n",
      "K    1331661\n",
      "M    1293787\n",
      "B    1091401\n",
      "Q     890853\n",
      "S     165829\n",
      "Name: ARREST_BORO, dtype: int64\n",
      "--------------------\n",
      "\n",
      "Value counts for AGE_GROUP:\n",
      "--------------------\n",
      "25-44      2188229\n",
      "18-24      1269808\n",
      "45-64       875167\n",
      "<18         401434\n",
      "65+          38715\n",
      "895             13\n",
      "935              7\n",
      "945              7\n",
      "894              7\n",
      "937              5\n",
      "928              5\n",
      "UNKNOWN          5\n",
      "931              4\n",
      "932              4\n",
      "924              4\n",
      "943              4\n",
      "927              4\n",
      "929              4\n",
      "922              4\n",
      "942              3\n",
      "940              3\n",
      "938              3\n",
      "951              3\n",
      "948              3\n",
      "896              3\n",
      "936              3\n",
      "920              2\n",
      "947              2\n",
      "1916             2\n",
      "925              2\n",
      "            ...   \n",
      "330              1\n",
      "1918             1\n",
      "918              1\n",
      "1942             1\n",
      "812              1\n",
      "923              1\n",
      "1947             1\n",
      "309              1\n",
      "1048             1\n",
      "956              1\n",
      "723              1\n",
      "1922             1\n",
      "237              1\n",
      "959              1\n",
      "933              1\n",
      "946              1\n",
      "1042             1\n",
      "320              1\n",
      "446              1\n",
      "816              1\n",
      "2000             1\n",
      "1937             1\n",
      "352              1\n",
      "909              1\n",
      "939              1\n",
      "317              1\n",
      "954              1\n",
      "314              1\n",
      "1953             1\n",
      "965              1\n",
      "Name: AGE_GROUP, Length: 91, dtype: int64\n",
      "--------------------\n",
      "\n",
      "Value counts for PERP_SEX:\n",
      "--------------------\n",
      "M    3974001\n",
      "F     799530\n",
      "Name: PERP_SEX, dtype: int64\n",
      "--------------------\n",
      "\n",
      "Value counts for PERP_RACE:\n",
      "--------------------\n"
     ]
    },
    {
     "name": "stdout",
     "output_type": "stream",
     "text": [
      "BLACK                             2319272\n",
      "WHITE HISPANIC                    1243511\n",
      "WHITE                              576119\n",
      "BLACK HISPANIC                     381900\n",
      "ASIAN / PACIFIC ISLANDER           192212\n",
      "UNKNOWN                             48725\n",
      "AMERICAN INDIAN/ALASKAN NATIVE      10429\n",
      "OTHER                                1363\n",
      "Name: PERP_RACE, dtype: int64\n",
      "--------------------\n",
      "\n"
     ]
    }
   ],
   "source": [
    "cols = [\"PD_DESC\", \"OFNS_DESC\", \"LAW_CAT_CD\", \"ARREST_BORO\", \"AGE_GROUP\",\n",
    "       \"PERP_SEX\", \"PERP_RACE\"]\n",
    "for column in cols:\n",
    "    print(\"Value counts for {}:\".format(column))\n",
    "    print(\"--------------------\")\n",
    "    print(arrestsdf[column].value_counts())\n",
    "    print(\"--------------------\\n\")"
   ]
  },
  {
   "cell_type": "markdown",
   "metadata": {},
   "source": [
    "We notie that in the above value counts output, the AGE_GROUP and PERP_RACE columns have  values for \"UNKNOWN\": rows with these values should be removed as well. Furthermore, the AGE_GROUP column has values that aren't from the set ['<18', '18-24', '25-44', '45-64', '65+']. Rows with these values should be removed as well, as they don't make sense. "
   ]
  },
  {
   "cell_type": "code",
   "execution_count": 9,
   "metadata": {},
   "outputs": [],
   "source": [
    "indices = arrestsdf[arrestsdf['AGE_GROUP'] == 'UNKNOWN'].index\n",
    "arrestsdf.drop(indices, inplace = True)\n",
    "\n",
    "indices = arrestsdf[arrestsdf['PERP_RACE'] == 'UNKNOWN'].index\n",
    "arrestsdf.drop(indices, inplace = True)\n",
    "\n",
    "indices = arrestsdf[(arrestsdf['AGE_GROUP'] != '<18') & \n",
    "                   (arrestsdf['AGE_GROUP'] != '18-24') &\n",
    "                   (arrestsdf['AGE_GROUP'] != '25-44') &\n",
    "                   (arrestsdf['AGE_GROUP'] != '45-64') &\n",
    "                   (arrestsdf['AGE_GROUP'] != '65+')].index\n",
    "arrestsdf.drop(indices, inplace = True)"
   ]
  },
  {
   "cell_type": "code",
   "execution_count": 10,
   "metadata": {},
   "outputs": [
    {
     "name": "stdout",
     "output_type": "stream",
     "text": [
      "Value counts for AGE_GROUP:\n",
      "--------------------\n",
      "25-44    2164344\n",
      "18-24    1256156\n",
      "45-64     867392\n",
      "<18       398395\n",
      "65+        38344\n",
      "Name: AGE_GROUP, dtype: int64\n",
      "--------------------\n",
      "\n",
      "Value counts for PERP_RACE:\n",
      "--------------------\n",
      "BLACK                             2319187\n",
      "WHITE HISPANIC                    1243454\n",
      "WHITE                              576102\n",
      "BLACK HISPANIC                     381891\n",
      "ASIAN / PACIFIC ISLANDER           192205\n",
      "AMERICAN INDIAN/ALASKAN NATIVE      10429\n",
      "OTHER                                1363\n",
      "Name: PERP_RACE, dtype: int64\n",
      "--------------------\n",
      "\n"
     ]
    }
   ],
   "source": [
    "print(\"Value counts for AGE_GROUP:\")\n",
    "print(\"--------------------\")\n",
    "print(arrestsdf[\"AGE_GROUP\"].value_counts())\n",
    "print(\"--------------------\\n\")\n",
    "print(\"Value counts for PERP_RACE:\")\n",
    "print(\"--------------------\")\n",
    "print(arrestsdf[\"PERP_RACE\"].value_counts())\n",
    "print(\"--------------------\\n\")"
   ]
  },
  {
   "cell_type": "markdown",
   "metadata": {},
   "source": [
    "## *Exploratory Data Analysis*"
   ]
  },
  {
   "cell_type": "markdown",
   "metadata": {},
   "source": [
    "The following are factors I'd want to compare with punishment severity to explore demographic bias:\n",
    "* race of the perpetrator\n",
    "* age of the perpetrator\n",
    "* gender of the perpetrator\n",
    "\n",
    "I will go through these in that order."
   ]
  },
  {
   "cell_type": "markdown",
   "metadata": {},
   "source": [
    "### *Race*"
   ]
  },
  {
   "cell_type": "code",
   "execution_count": 11,
   "metadata": {},
   "outputs": [
    {
     "name": "stdout",
     "output_type": "stream",
     "text": [
      "LAW_CAT_CD                         F     I     M     V\n",
      "PERP_RACE                                             \n",
      "AMERICAN INDIAN/ALASKAN NATIVE  0.21  0.01  0.73  0.05\n",
      "ASIAN / PACIFIC ISLANDER        0.26  0.01  0.69  0.03\n",
      "BLACK                           0.28  0.00  0.65  0.07\n",
      "BLACK HISPANIC                  0.27  0.00  0.68  0.05\n",
      "OTHER                           0.25  0.00  0.70  0.05\n",
      "WHITE                           0.24  0.01  0.71  0.05\n",
      "WHITE HISPANIC                  0.25  0.01  0.68  0.06\n"
     ]
    },
    {
     "data": {
      "text/plain": [
       "<matplotlib.axes._subplots.AxesSubplot at 0x11dab2d30>"
      ]
     },
     "execution_count": 11,
     "metadata": {},
     "output_type": "execute_result"
    }
   ],
   "source": [
    "race_sev = pd.crosstab(arrestsdf['PERP_RACE'], arrestsdf['LAW_CAT_CD'])\n",
    "\n",
    "for i in race_sev.index:\n",
    "    total = sum(race_sev.loc[i])\n",
    "    new_row = [\"%.2f\" % (race_sev.loc[i][\"F\"]/total),\n",
    "              \"%.2f\" % (race_sev.loc[i][\"I\"]/total),\n",
    "              \"%.2f\" % (race_sev.loc[i][\"M\"]/total),\n",
    "              \"%.2f\" % (race_sev.loc[i][\"V\"]/total)]\n",
    "    race_sev.loc[i] = new_row\n",
    "print(race_sev)\n",
    "\n",
    "race_sev = race_sev.astype({\"F\": float,\n",
    "                          \"I\": float,\n",
    "                          \"M\": float,\n",
    "                          \"V\": float})\n",
    "race_sev.plot(kind = 'bar', stacked = True, \n",
    "              color = ['red', 'blue', 'green', 'yellow'], grid = False)"
   ]
  },
  {
   "cell_type": "markdown",
   "metadata": {},
   "source": [
    "### *Age*"
   ]
  },
  {
   "cell_type": "code",
   "execution_count": 12,
   "metadata": {},
   "outputs": [
    {
     "name": "stdout",
     "output_type": "stream",
     "text": [
      "LAW_CAT_CD     F     I     M     V\n",
      "AGE_GROUP                         \n",
      "18-24       0.26  0.00  0.67  0.06\n",
      "25-44       0.26  0.01  0.67  0.06\n",
      "45-64       0.24  0.01  0.68  0.07\n",
      "65+         0.25  0.01  0.69  0.06\n",
      "<18         0.32  0.00  0.65  0.03\n"
     ]
    },
    {
     "data": {
      "text/plain": [
       "<matplotlib.axes._subplots.AxesSubplot at 0x148b7dc50>"
      ]
     },
     "execution_count": 12,
     "metadata": {},
     "output_type": "execute_result"
    },
    {
     "data": {
      "image/png": "[encoded data removed]",
      "text/plain": [
       "<Figure size 432x288 with 1 Axes>"
      ]
     },
     "metadata": {
      "needs_background": "light"
     },
     "output_type": "display_data"
    }
   ],
   "source": [
    "age_sev = pd.crosstab(arrestsdf['AGE_GROUP'], arrestsdf['LAW_CAT_CD'])\n",
    "\n",
    "for i in age_sev.index:\n",
    "    total = sum(age_sev.loc[i])\n",
    "    new_row = [\"%.2f\" % (age_sev.loc[i][\"F\"]/total),\n",
    "              \"%.2f\" % (age_sev.loc[i][\"I\"]/total),\n",
    "              \"%.2f\" % (age_sev.loc[i][\"M\"]/total),\n",
    "              \"%.2f\" % (age_sev.loc[i][\"V\"]/total)]\n",
    "    age_sev.loc[i] = new_row\n",
    "print(age_sev)\n",
    "\n",
    "age_sev = age_sev.astype({\"F\": float,\n",
    "                          \"I\": float,\n",
    "                          \"M\": float,\n",
    "                          \"V\": float})\n",
    "age_sev.plot(kind = 'bar', stacked = True, \n",
    "              color = ['red', 'blue', 'green', 'yellow'], grid = False)"
   ]
  },
  {
   "cell_type": "markdown",
   "metadata": {},
   "source": [
    "### *Gender*"
   ]
  },
  {
   "cell_type": "code",
   "execution_count": 13,
   "metadata": {},
   "outputs": [
    {
     "name": "stdout",
     "output_type": "stream",
     "text": [
      "LAW_CAT_CD     F     I     M     V\n",
      "PERP_SEX                          \n",
      "F           0.25  0.00  0.72  0.02\n",
      "M           0.27  0.01  0.66  0.07\n"
     ]
    },
    {
     "data": {
      "text/plain": [
       "<matplotlib.axes._subplots.AxesSubplot at 0x11d749780>"
      ]
     },
     "execution_count": 13,
     "metadata": {},
     "output_type": "execute_result"
    },
    {
     "data": {
      "image/png": "[encoded data removed]",
      "text/plain": [
       "<Figure size 432x288 with 1 Axes>"
      ]
     },
     "metadata": {
      "needs_background": "light"
     },
     "output_type": "display_data"
    }
   ],
   "source": [
    "gender_sev = pd.crosstab(arrestsdf['PERP_SEX'], arrestsdf['LAW_CAT_CD'])\n",
    "\n",
    "for i in gender_sev.index:\n",
    "    total = sum(gender_sev.loc[i])\n",
    "    new_row = [\"%.2f\" % (gender_sev.loc[i][\"F\"]/total),\n",
    "              \"%.2f\" % (gender_sev.loc[i][\"I\"]/total),\n",
    "              \"%.2f\" % (gender_sev.loc[i][\"M\"]/total),\n",
    "              \"%.2f\" % (gender_sev.loc[i][\"V\"]/total)]\n",
    "    gender_sev.loc[i] = new_row\n",
    "print(gender_sev)\n",
    "\n",
    "gender_sev = gender_sev.astype({\"F\": float,\n",
    "                          \"I\": float,\n",
    "                          \"M\": float,\n",
    "                          \"V\": float})\n",
    "gender_sev.plot(kind = 'bar', stacked = True, \n",
    "              color = ['red', 'blue', 'green', 'yellow'], grid = False)"
   ]
  },
  {
   "cell_type": "markdown",
   "metadata": {},
   "source": [
    "From here, I'm curious about further investigating the following:\n",
    "* the punishment severity for each race demographic within their age groups\n",
    "* the punishment severity for each race demographic within their gender\n",
    "* the punishment severity for each age group within their gender"
   ]
  },
  {
   "cell_type": "markdown",
   "metadata": {},
   "source": [
    "### *Race and Age*"
   ]
  },
  {
   "cell_type": "code",
   "execution_count": 14,
   "metadata": {},
   "outputs": [
    {
     "name": "stdout",
     "output_type": "stream",
     "text": [
      "Punishment Severity by Race for <18 Age Group\n",
      "\n",
      "\n",
      "LAW_CAT_CD                         F    I     M     V\n",
      "PERP_RACE                                            \n",
      "AMERICAN INDIAN/ALASKAN NATIVE  0.26  0.0  0.71  0.02\n",
      "ASIAN / PACIFIC ISLANDER        0.30  0.0  0.67  0.02\n",
      "BLACK                           0.36  0.0  0.61  0.03\n",
      "BLACK HISPANIC                  0.31  0.0  0.67  0.02\n",
      "OTHER                           0.25  0.0  0.73  0.02\n",
      "WHITE                           0.23  0.0  0.74  0.02\n",
      "WHITE HISPANIC                  0.27  0.0  0.70  0.03\n"
     ]
    },
    {
     "data": {
      "image/png": "[encoded data removed]",
      "text/plain": [
       "<Figure size 432x288 with 1 Axes>"
      ]
     },
     "metadata": {
      "needs_background": "light"
     },
     "output_type": "display_data"
    },
    {
     "name": "stdout",
     "output_type": "stream",
     "text": [
      "\n",
      "\n",
      "Punishment Severity by Race for 18-24 Age Group\n",
      "\n",
      "\n",
      "LAW_CAT_CD                         F     I     M     V\n",
      "PERP_RACE                                             \n",
      "AMERICAN INDIAN/ALASKAN NATIVE  0.21  0.01  0.73  0.05\n",
      "ASIAN / PACIFIC ISLANDER        0.25  0.01  0.70  0.04\n",
      "BLACK                           0.29  0.00  0.65  0.06\n",
      "BLACK HISPANIC                  0.27  0.00  0.69  0.05\n",
      "OTHER                           0.23  0.00  0.73  0.04\n",
      "WHITE                           0.21  0.01  0.73  0.05\n",
      "WHITE HISPANIC                  0.24  0.01  0.69  0.06\n"
     ]
    },
    {
     "data": {
      "image/png": "[encoded data removed]",
      "text/plain": [
       "<Figure size 432x288 with 1 Axes>"
      ]
     },
     "metadata": {
      "needs_background": "light"
     },
     "output_type": "display_data"
    },
    {
     "name": "stdout",
     "output_type": "stream",
     "text": [
      "\n",
      "\n",
      "Punishment Severity by Race for 25-44 Age Group\n",
      "\n",
      "\n",
      "LAW_CAT_CD                         F     I     M     V\n",
      "PERP_RACE                                             \n",
      "AMERICAN INDIAN/ALASKAN NATIVE  0.20  0.01  0.74  0.05\n",
      "ASIAN / PACIFIC ISLANDER        0.27  0.01  0.69  0.03\n",
      "BLACK                           0.27  0.01  0.66  0.07\n",
      "BLACK HISPANIC                  0.27  0.00  0.68  0.05\n",
      "OTHER                           0.26  0.00  0.69  0.05\n",
      "WHITE                           0.24  0.01  0.70  0.05\n",
      "WHITE HISPANIC                  0.25  0.01  0.68  0.07\n"
     ]
    },
    {
     "data": {
      "image/png": "[encoded data removed]",
      "text/plain": [
       "<Figure size 432x288 with 1 Axes>"
      ]
     },
     "metadata": {
      "needs_background": "light"
     },
     "output_type": "display_data"
    },
    {
     "name": "stdout",
     "output_type": "stream",
     "text": [
      "\n",
      "\n",
      "Punishment Severity by Race for 45-64 Age Group\n",
      "\n",
      "\n",
      "LAW_CAT_CD                         F     I     M     V\n",
      "PERP_RACE                                             \n",
      "AMERICAN INDIAN/ALASKAN NATIVE  0.20  0.01  0.72  0.07\n",
      "ASIAN / PACIFIC ISLANDER        0.26  0.01  0.70  0.03\n",
      "BLACK                           0.24  0.00  0.68  0.08\n",
      "BLACK HISPANIC                  0.27  0.00  0.67  0.06\n",
      "OTHER                           0.26  0.00  0.69  0.06\n",
      "WHITE                           0.25  0.01  0.69  0.06\n",
      "WHITE HISPANIC                  0.25  0.01  0.67  0.07\n"
     ]
    },
    {
     "data": {
      "image/png": "[encoded data removed]",
      "text/plain": [
       "<Figure size 432x288 with 1 Axes>"
      ]
     },
     "metadata": {
      "needs_background": "light"
     },
     "output_type": "display_data"
    },
    {
     "name": "stdout",
     "output_type": "stream",
     "text": [
      "\n",
      "\n",
      "Punishment Severity by Race for 65+ Age Group\n",
      "\n",
      "\n",
      "LAW_CAT_CD                         F     I     M     V\n",
      "PERP_RACE                                             \n",
      "AMERICAN INDIAN/ALASKAN NATIVE  0.26  0.00  0.71  0.03\n",
      "ASIAN / PACIFIC ISLANDER        0.22  0.01  0.75  0.03\n",
      "BLACK                           0.24  0.01  0.69  0.06\n",
      "BLACK HISPANIC                  0.26  0.01  0.67  0.07\n",
      "OTHER                           0.22  0.00  0.67  0.11\n",
      "WHITE                           0.25  0.01  0.69  0.06\n",
      "WHITE HISPANIC                  0.26  0.01  0.68  0.06\n"
     ]
    },
    {
     "data": {
      "image/png": "[encoded data removed]",
      "text/plain": [
       "<Figure size 432x288 with 1 Axes>"
      ]
     },
     "metadata": {
      "needs_background": "light"
     },
     "output_type": "display_data"
    },
    {
     "name": "stdout",
     "output_type": "stream",
     "text": [
      "\n",
      "\n"
     ]
    }
   ],
   "source": [
    "age_groups = [\"<18\", \"18-24\", \"25-44\", \"45-64\", \"65+\"]\n",
    "import matplotlib.pyplot as plt\n",
    "\n",
    "for j in age_groups:\n",
    "    working_df = arrestsdf[arrestsdf[\"AGE_GROUP\"] == j]\n",
    "    race_sev = pd.crosstab(working_df['PERP_RACE'], working_df['LAW_CAT_CD'])\n",
    "    \n",
    "    for i in race_sev.index:\n",
    "        total = sum(race_sev.loc[i])\n",
    "        new_row = [\"%.2f\" % (race_sev.loc[i][\"F\"]/total),\n",
    "                  \"%.2f\" % (race_sev.loc[i][\"I\"]/total),\n",
    "                  \"%.2f\" % (race_sev.loc[i][\"M\"]/total),\n",
    "                  \"%.2f\" % (race_sev.loc[i][\"V\"]/total)]\n",
    "        race_sev.loc[i] = new_row\n",
    "\n",
    "    race_sev = race_sev.astype({\"F\": float,\n",
    "                              \"I\": float,\n",
    "                              \"M\": float,\n",
    "                              \"V\": float})\n",
    "    print(\"Punishment Severity by Race for {} Age Group\".format(j))\n",
    "    print(\"\\n\")\n",
    "    print(race_sev)\n",
    "    plt.show(race_sev.plot(kind = 'bar', stacked = True, color = ['red', 'blue', 'green', 'yellow'], grid = False))\n",
    "    print(\"\\n\")\n"
   ]
  },
  {
   "cell_type": "markdown",
   "metadata": {},
   "source": [
    "### *Race and Gender*"
   ]
  },
  {
   "cell_type": "code",
   "execution_count": 15,
   "metadata": {},
   "outputs": [
    {
     "name": "stdout",
     "output_type": "stream",
     "text": [
      "Punishment Severity by Race for M Gender\n",
      "\n",
      "\n",
      "LAW_CAT_CD                         F     I     M     V\n",
      "PERP_RACE                                             \n",
      "AMERICAN INDIAN/ALASKAN NATIVE  0.21  0.01  0.72  0.06\n",
      "ASIAN / PACIFIC ISLANDER        0.26  0.01  0.69  0.04\n",
      "BLACK                           0.28  0.00  0.64  0.07\n",
      "BLACK HISPANIC                  0.28  0.00  0.67  0.05\n",
      "OTHER                           0.25  0.00  0.69  0.05\n",
      "WHITE                           0.24  0.01  0.70  0.06\n",
      "WHITE HISPANIC                  0.25  0.01  0.67  0.07\n"
     ]
    },
    {
     "data": {
      "image/png": "[encoded data removed]",
      "text/plain": [
       "<Figure size 432x288 with 1 Axes>"
      ]
     },
     "metadata": {
      "needs_background": "light"
     },
     "output_type": "display_data"
    },
    {
     "name": "stdout",
     "output_type": "stream",
     "text": [
      "\n",
      "\n",
      "Punishment Severity by Race for F Gender\n",
      "\n",
      "\n",
      "LAW_CAT_CD                         F    I     M     V\n",
      "PERP_RACE                                            \n",
      "AMERICAN INDIAN/ALASKAN NATIVE  0.18  0.0  0.80  0.02\n",
      "ASIAN / PACIFIC ISLANDER        0.26  0.0  0.73  0.01\n",
      "BLACK                           0.27  0.0  0.70  0.03\n",
      "BLACK HISPANIC                  0.25  0.0  0.73  0.02\n",
      "OTHER                           0.19  0.0  0.80  0.01\n",
      "WHITE                           0.22  0.0  0.75  0.03\n",
      "WHITE HISPANIC                  0.23  0.0  0.74  0.02\n"
     ]
    },
    {
     "data": {
      "image/png": "[encoded data removed]",
      "text/plain": [
       "<Figure size 432x288 with 1 Axes>"
      ]
     },
     "metadata": {
      "needs_background": "light"
     },
     "output_type": "display_data"
    },
    {
     "name": "stdout",
     "output_type": "stream",
     "text": [
      "\n",
      "\n"
     ]
    }
   ],
   "source": [
    "gender_groups = [\"M\", \"F\"]\n",
    "\n",
    "for j in gender_groups:\n",
    "    working_df = arrestsdf[arrestsdf[\"PERP_SEX\"] == j]\n",
    "    gender_sev = pd.crosstab(working_df['PERP_RACE'], working_df['LAW_CAT_CD'])\n",
    "    \n",
    "    for i in gender_sev.index:\n",
    "        total = sum(gender_sev.loc[i])\n",
    "        new_row = [\"%.2f\" % (gender_sev.loc[i][\"F\"]/total),\n",
    "                  \"%.2f\" % (gender_sev.loc[i][\"I\"]/total),\n",
    "                  \"%.2f\" % (gender_sev.loc[i][\"M\"]/total),\n",
    "                  \"%.2f\" % (gender_sev.loc[i][\"V\"]/total)]\n",
    "        gender_sev.loc[i] = new_row\n",
    "\n",
    "    gender_sev = gender_sev.astype({\"F\": float,\n",
    "                              \"I\": float,\n",
    "                              \"M\": float,\n",
    "                              \"V\": float})\n",
    "    print(\"Punishment Severity by Race for {} Gender\".format(j))\n",
    "    print(\"\\n\")\n",
    "    print(gender_sev)\n",
    "    plt.show(gender_sev.plot(kind = 'bar', stacked = True, color = ['red', 'blue', 'green', 'yellow'], grid = False))\n",
    "    print(\"\\n\")\n"
   ]
  },
  {
   "cell_type": "markdown",
   "metadata": {},
   "source": [
    "### *Age and Gender*"
   ]
  },
  {
   "cell_type": "code",
   "execution_count": 16,
   "metadata": {},
   "outputs": [
    {
     "name": "stdout",
     "output_type": "stream",
     "text": [
      "Punishment Severity by Gender for <18 Age Group\n",
      "\n",
      "\n",
      "LAW_CAT_CD     F    I     M     V\n",
      "PERP_SEX                         \n",
      "F           0.24  0.0  0.75  0.01\n",
      "M           0.34  0.0  0.62  0.03\n"
     ]
    },
    {
     "data": {
      "image/png": "[encoded data removed]",
      "text/plain": [
       "<Figure size 432x288 with 1 Axes>"
      ]
     },
     "metadata": {
      "needs_background": "light"
     },
     "output_type": "display_data"
    },
    {
     "name": "stdout",
     "output_type": "stream",
     "text": [
      "\n",
      "\n",
      "Punishment Severity by Gender for 18-24 Age Group\n",
      "\n",
      "\n",
      "LAW_CAT_CD     F    I     M     V\n",
      "PERP_SEX                         \n",
      "F           0.24  0.0  0.74  0.03\n",
      "M           0.27  0.0  0.66  0.07\n"
     ]
    },
    {
     "data": {
      "image/png": "[encoded data removed]",
      "text/plain": [
       "<Figure size 432x288 with 1 Axes>"
      ]
     },
     "metadata": {
      "needs_background": "light"
     },
     "output_type": "display_data"
    },
    {
     "name": "stdout",
     "output_type": "stream",
     "text": [
      "\n",
      "\n",
      "Punishment Severity by Gender for 25-44 Age Group\n",
      "\n",
      "\n",
      "LAW_CAT_CD     F     I     M     V\n",
      "PERP_SEX                          \n",
      "F           0.26  0.00  0.71  0.02\n",
      "M           0.26  0.01  0.66  0.07\n"
     ]
    },
    {
     "data": {
      "image/png": "[encoded data removed]",
      "text/plain": [
       "<Figure size 432x288 with 1 Axes>"
      ]
     },
     "metadata": {
      "needs_background": "light"
     },
     "output_type": "display_data"
    },
    {
     "name": "stdout",
     "output_type": "stream",
     "text": [
      "\n",
      "\n",
      "Punishment Severity by Gender for 45-64 Age Group\n",
      "\n",
      "\n",
      "LAW_CAT_CD     F     I     M     V\n",
      "PERP_SEX                          \n",
      "F           0.26  0.00  0.71  0.03\n",
      "M           0.24  0.01  0.67  0.08\n"
     ]
    },
    {
     "data": {
      "image/png": "[encoded data removed]",
      "text/plain": [
       "<Figure size 432x288 with 1 Axes>"
      ]
     },
     "metadata": {
      "needs_background": "light"
     },
     "output_type": "display_data"
    },
    {
     "name": "stdout",
     "output_type": "stream",
     "text": [
      "\n",
      "\n",
      "Punishment Severity by Gender for 65+ Age Group\n",
      "\n",
      "\n",
      "LAW_CAT_CD     F     I     M     V\n",
      "PERP_SEX                          \n",
      "F           0.24  0.00  0.72  0.04\n",
      "M           0.25  0.01  0.68  0.06\n"
     ]
    },
    {
     "data": {
      "image/png": "[encoded data removed]",
      "text/plain": [
       "<Figure size 432x288 with 1 Axes>"
      ]
     },
     "metadata": {
      "needs_background": "light"
     },
     "output_type": "display_data"
    },
    {
     "name": "stdout",
     "output_type": "stream",
     "text": [
      "\n",
      "\n"
     ]
    }
   ],
   "source": [
    "gender_groups = [\"M\", \"F\"]\n",
    "age_groups = [\"<18\", \"18-24\", \"25-44\", \"45-64\", \"65+\"]\n",
    "\n",
    "for j in age_groups:\n",
    "    working_df = arrestsdf[arrestsdf[\"AGE_GROUP\"] == j]\n",
    "    gender_sev = pd.crosstab(working_df['PERP_SEX'], working_df['LAW_CAT_CD'])\n",
    "    \n",
    "    for i in gender_sev.index:\n",
    "        total = sum(gender_sev.loc[i])\n",
    "        new_row = [\"%.2f\" % (gender_sev.loc[i][\"F\"]/total),\n",
    "                  \"%.2f\" % (gender_sev.loc[i][\"I\"]/total),\n",
    "                  \"%.2f\" % (gender_sev.loc[i][\"M\"]/total),\n",
    "                  \"%.2f\" % (gender_sev.loc[i][\"V\"]/total)]\n",
    "        gender_sev.loc[i] = new_row\n",
    "\n",
    "    gender_sev = gender_sev.astype({\"F\": float,\n",
    "                              \"I\": float,\n",
    "                              \"M\": float,\n",
    "                              \"V\": float})\n",
    "    print(\"Punishment Severity by Gender for {} Age Group\".format(j))\n",
    "    print(\"\\n\")\n",
    "    print(gender_sev)\n",
    "    plt.show(gender_sev.plot(kind = 'bar', stacked = True, color = ['red', 'blue', 'green', 'yellow'], grid = False))\n",
    "    print(\"\\n\")\n"
   ]
  },
  {
   "cell_type": "markdown",
   "metadata": {},
   "source": [
    "Following this exploratory data analysis, I have decided that the first examples of demographic prejudice by the NY criminal system that I will investigate will be the relationship between a perpetrator's race and the severity of punishment recieved. To continue to conducting statistical tests, the following needs to be completed:\n",
    "* generate contingency and frequency tables\n",
    "* write the cleaned dataset to a CSV\n",
    "* generate some bar plots that compare the frequency of different punishment severities between different racial groups "
   ]
  },
  {
   "cell_type": "markdown",
   "metadata": {},
   "source": [
    "### *Frequency Tables and CSV Output*"
   ]
  },
  {
   "cell_type": "code",
   "execution_count": 39,
   "metadata": {},
   "outputs": [
    {
     "name": "stdout",
     "output_type": "stream",
     "text": [
      "LAW_CAT_CD                         F     I     M     V\n",
      "PERP_RACE                                             \n",
      "AMERICAN INDIAN/ALASKAN NATIVE  0.21  0.01  0.73  0.05\n",
      "ASIAN / PACIFIC ISLANDER        0.26  0.01  0.69  0.03\n",
      "BLACK                           0.28  0.00  0.65  0.07\n",
      "BLACK HISPANIC                  0.27  0.00  0.68  0.05\n",
      "OTHER                           0.25  0.00  0.70  0.05\n",
      "WHITE                           0.24  0.01  0.71  0.05\n",
      "WHITE HISPANIC                  0.25  0.01  0.68  0.06\n",
      "\n",
      "\n",
      "                                   F     I     M     V\n",
      "AMERICAN INDIAN/ALASKAN NATIVE  0.21  0.01  0.73  0.05\n",
      "ASIAN / PACIFIC ISLANDER        0.26  0.01  0.69  0.03\n",
      "BLACK                           0.28     0  0.65  0.07\n",
      "BLACK HISPANIC                  0.27     0  0.68  0.05\n",
      "OTHER                           0.25     0   0.7  0.05\n",
      "WHITE                           0.24  0.01  0.71  0.05\n",
      "WHITE HISPANIC                  0.25  0.01  0.68  0.06\n"
     ]
    }
   ],
   "source": [
    "race_sev = pd.crosstab(arrestsdf['PERP_RACE'], arrestsdf['LAW_CAT_CD'])\n",
    "\n",
    "for i in race_sev.index:\n",
    "    total = sum(race_sev.loc[i])\n",
    "    new_row = [\"%.2f\" % (race_sev.loc[i][\"F\"]/total),\n",
    "              \"%.2f\" % (race_sev.loc[i][\"I\"]/total),\n",
    "              \"%.2f\" % (race_sev.loc[i][\"M\"]/total),\n",
    "              \"%.2f\" % (race_sev.loc[i][\"V\"]/total)]\n",
    "    race_sev.loc[i] = new_row\n",
    "\n",
    "race_sev = race_sev.astype({\"F\": float,\n",
    "                          \"I\": float,\n",
    "                          \"M\": float,\n",
    "                          \"V\": float})\n",
    "\n",
    "racesevdf = pd.DataFrame(columns = [\"F\", \"I\", \"M\", \"V\"], \n",
    "                    index = [\"AMERICAN INDIAN/ALASKAN NATIVE\", \"ASIAN / PACIFIC ISLANDER\", \"BLACK\",\n",
    "                            \"BLACK HISPANIC\", \"OTHER\", \"WHITE\", \"WHITE HISPANIC\"])\n",
    "\n",
    "print(race_sev)\n",
    "for i in range(0,7):\n",
    "    new_row = [race_sev.iloc[i][\"F\"], race_sev.iloc[i][\"I\"], \n",
    "               race_sev.iloc[i][\"M\"], race_sev.iloc[i][\"V\"]]\n",
    "    racesevdf.iloc[i] = new_row\n",
    "print(\"\\n\")\n",
    "print(racesevdf)\n",
    "racesevdf.to_csv('race_sevdf.csv', header = True)\n",
    "arrestsdf.to_csv('arrestsdf_cleaned.csv', header = True)"
   ]
  },
  {
   "cell_type": "markdown",
   "metadata": {},
   "source": [
    "### *Proportion of Punishments over All Races*"
   ]
  },
  {
   "cell_type": "code",
   "execution_count": 18,
   "metadata": {},
   "outputs": [
    {
     "data": {
      "image/png": "[encoded data removed]",
      "text/plain": [
       "<Figure size 432x288 with 1 Axes>"
      ]
     },
     "metadata": {},
     "output_type": "display_data"
    }
   ],
   "source": [
    "import seaborn as sns\n",
    "import matplotlib.pyplot as plt\n",
    "\n",
    "sns.set_style(\"whitegrid\")\n",
    "sns.set_palette(sns.husl_palette(4, l = .775))\n",
    "\n",
    "g = sns.barplot(data=race_sev)\n",
    "sns.despine(left=True)\n",
    "plt.xlabel(\"Punishment Severity\") \n",
    "plt.ylabel(\"Proportion of Crimes\")\n",
    "plt.ylim(0,1.0) \n",
    "plt.title(\"Punishment Severity for All Crimes\")\n",
    "plt.savefig('sev_all_crimes.png')\n",
    "plt.show(g)"
   ]
  },
  {
   "cell_type": "markdown",
   "metadata": {},
   "source": [
    "### *Proportion of Punishments for American Indian / Alaskan Native Individuals*"
   ]
  },
  {
   "cell_type": "code",
   "execution_count": 19,
   "metadata": {},
   "outputs": [
    {
     "data": {
      "image/png": "[encoded data removed]",
      "text/plain": [
       "<Figure size 432x288 with 1 Axes>"
      ]
     },
     "metadata": {},
     "output_type": "display_data"
    }
   ],
   "source": [
    "working_series = race_sev.loc['AMERICAN INDIAN/ALASKAN NATIVE']\n",
    "sns.set_style(\"whitegrid\")\n",
    "sns.set_palette(sns.husl_palette(4, l = .775))\n",
    "g = sns.barplot(y = [working_series[\"F\"], working_series[\"I\"],\n",
    "                     working_series[\"M\"], working_series[\"V\"]], \n",
    "                x = [\"F\", \"I\", \"M\", \"V\"])\n",
    "sns.despine(left=True)\n",
    "plt.xlabel(\"Punishment Severity\") \n",
    "plt.ylabel(\"Proportion of Crimes\")\n",
    "plt.ylim(0,1.0) \n",
    "plt.title(\"Punishment Severity for American Indian / Alaskan Native Individuals\")\n",
    "plt.savefig('ai-an-sev.png')\n",
    "plt.show(g)"
   ]
  },
  {
   "cell_type": "markdown",
   "metadata": {},
   "source": [
    "### *Proportion of Punishments for Asian / Pacific Islander Individuals*"
   ]
  },
  {
   "cell_type": "code",
   "execution_count": 20,
   "metadata": {},
   "outputs": [
    {
     "data": {
      "image/png": "[encoded data removed]",
      "text/plain": [
       "<Figure size 432x288 with 1 Axes>"
      ]
     },
     "metadata": {},
     "output_type": "display_data"
    }
   ],
   "source": [
    "working_series = race_sev.loc['ASIAN / PACIFIC ISLANDER']\n",
    "sns.set_style(\"whitegrid\")\n",
    "sns.set_palette(sns.husl_palette(4, l = .775))\n",
    "g = sns.barplot(y = [working_series[\"F\"], working_series[\"I\"],\n",
    "                     working_series[\"M\"], working_series[\"V\"]], \n",
    "                x = [\"F\", \"I\", \"M\", \"V\"])\n",
    "sns.despine(left=True)\n",
    "plt.xlabel(\"Punishment Severity\") \n",
    "plt.ylabel(\"Proportion of Crimes\")\n",
    "plt.ylim(0,1.0) \n",
    "plt.title(\"Punishment Severity for Asian / Pacific Islander Individuals\")\n",
    "plt.savefig('a-pi-sev.png')\n",
    "plt.show(g)"
   ]
  },
  {
   "cell_type": "markdown",
   "metadata": {},
   "source": [
    "### *Proportion of Punishments for Black Individuals*"
   ]
  },
  {
   "cell_type": "code",
   "execution_count": 21,
   "metadata": {},
   "outputs": [
    {
     "data": {
      "image/png": "[encoded data removed]",
      "text/plain": [
       "<Figure size 432x288 with 1 Axes>"
      ]
     },
     "metadata": {},
     "output_type": "display_data"
    }
   ],
   "source": [
    "working_series = race_sev.loc['BLACK']\n",
    "sns.set_style(\"whitegrid\")\n",
    "sns.set_palette(sns.husl_palette(4, l = .775))\n",
    "g = sns.barplot(y = [working_series[\"F\"], working_series[\"I\"],\n",
    "                     working_series[\"M\"], working_series[\"V\"]], \n",
    "                x = [\"F\", \"I\", \"M\", \"V\"])\n",
    "sns.despine(left=True)\n",
    "plt.xlabel(\"Punishment Severity\") \n",
    "plt.ylabel(\"Proportion of Crimes\")\n",
    "plt.ylim(0,1.0) \n",
    "plt.title(\"Punishment Severity for Black Individuals\")\n",
    "plt.savefig('b-sev.png')\n",
    "plt.show(g)\n"
   ]
  },
  {
   "cell_type": "markdown",
   "metadata": {},
   "source": [
    "### *Proportion of Punishments for Black Hispanic Individuals*"
   ]
  },
  {
   "cell_type": "code",
   "execution_count": 22,
   "metadata": {},
   "outputs": [
    {
     "data": {
      "image/png": "[encoded data removed]",
      "text/plain": [
       "<Figure size 432x288 with 1 Axes>"
      ]
     },
     "metadata": {},
     "output_type": "display_data"
    }
   ],
   "source": [
    "working_series = race_sev.loc['BLACK HISPANIC']\n",
    "sns.set_style(\"whitegrid\")\n",
    "sns.set_palette(sns.husl_palette(4, l = .775))\n",
    "g = sns.barplot(y = [working_series[\"F\"], working_series[\"I\"],\n",
    "                     working_series[\"M\"], working_series[\"V\"]], \n",
    "                x = [\"F\", \"I\", \"M\", \"V\"])\n",
    "sns.despine(left=True)\n",
    "plt.xlabel(\"Punishment Severity\") \n",
    "plt.ylabel(\"Proportion of Crimes\")\n",
    "plt.ylim(0,1.0) \n",
    "plt.title(\"Punishment Severity for Black Hispanic Individuals\")\n",
    "plt.savefig('bh-sev.png')\n",
    "plt.show(g)"
   ]
  },
  {
   "cell_type": "markdown",
   "metadata": {},
   "source": [
    "### *Proportion of Punishments for Other Individuals*"
   ]
  },
  {
   "cell_type": "code",
   "execution_count": 23,
   "metadata": {},
   "outputs": [
    {
     "data": {
      "image/png": "[encoded data removed]",
      "text/plain": [
       "<Figure size 432x288 with 1 Axes>"
      ]
     },
     "metadata": {},
     "output_type": "display_data"
    }
   ],
   "source": [
    "working_series = race_sev.loc['OTHER']\n",
    "sns.set_style(\"whitegrid\")\n",
    "sns.set_palette(sns.husl_palette(4, l = .775))\n",
    "g = sns.barplot(y = [working_series[\"F\"], working_series[\"I\"],\n",
    "                     working_series[\"M\"], working_series[\"V\"]], \n",
    "                x = [\"F\", \"I\", \"M\", \"V\"])\n",
    "sns.despine(left=True)\n",
    "plt.xlabel(\"Punishment Severity\") \n",
    "plt.ylabel(\"Proportion of Crimes\")\n",
    "plt.ylim(0,1.0) \n",
    "plt.title(\"Punishment Severity for Other Individuals\")\n",
    "plt.savefig('o-sev.png')\n",
    "plt.show(g)"
   ]
  },
  {
   "cell_type": "markdown",
   "metadata": {},
   "source": [
    "### *Proportion of Punishments for White Individuals*"
   ]
  },
  {
   "cell_type": "code",
   "execution_count": 24,
   "metadata": {},
   "outputs": [
    {
     "data": {
      "image/png": "[encoded data removed]",
      "text/plain": [
       "<Figure size 432x288 with 1 Axes>"
      ]
     },
     "metadata": {},
     "output_type": "display_data"
    }
   ],
   "source": [
    "working_series = race_sev.loc['WHITE']\n",
    "sns.set_style(\"whitegrid\")\n",
    "sns.set_palette(sns.husl_palette(4, l = .775))\n",
    "g = sns.barplot(y = [working_series[\"F\"], working_series[\"I\"],\n",
    "                     working_series[\"M\"], working_series[\"V\"]], \n",
    "                x = [\"F\", \"I\", \"M\", \"V\"])\n",
    "sns.despine(left=True)\n",
    "plt.xlabel(\"Punishment Severity\") \n",
    "plt.ylabel(\"Proportion of Crimes\")\n",
    "plt.ylim(0,1.0) \n",
    "plt.title(\"Punishment Severity for White Individuals\")\n",
    "plt.savefig('w-sev.png')\n",
    "plt.show(g)"
   ]
  },
  {
   "cell_type": "markdown",
   "metadata": {},
   "source": [
    "### *Proportion of Punishments for White Hispanic Individuals*"
   ]
  },
  {
   "cell_type": "code",
   "execution_count": 25,
   "metadata": {},
   "outputs": [
    {
     "data": {
      "image/png": "[encoded data removed]",
      "text/plain": [
       "<Figure size 432x288 with 1 Axes>"
      ]
     },
     "metadata": {},
     "output_type": "display_data"
    }
   ],
   "source": [
    "working_series = race_sev.loc['WHITE HISPANIC']\n",
    "sns.set_style(\"whitegrid\")\n",
    "sns.set_palette(sns.husl_palette(4, l = .775))\n",
    "g = sns.barplot(y = [working_series[\"F\"], working_series[\"I\"],\n",
    "                     working_series[\"M\"], working_series[\"V\"]], \n",
    "                x = [\"F\", \"I\", \"M\", \"V\"])\n",
    "sns.despine(left=True)\n",
    "plt.xlabel(\"Punishment Severity\") \n",
    "plt.ylabel(\"Proportion of Crimes\")\n",
    "plt.ylim(0,1.0) \n",
    "plt.title(\"Punishment Severity for White Hispanic Individuals\")\n",
    "plt.savefig('wh-sev.')\n",
    "plt.show(g)"
   ]
  },
  {
   "cell_type": "markdown",
   "metadata": {},
   "source": [
    "## *Statistical Testing*"
   ]
  },
  {
   "cell_type": "code",
   "execution_count": 41,
   "metadata": {},
   "outputs": [
    {
     "name": "stdout",
     "output_type": "stream",
     "text": [
      "LAW_CAT_CD                             F        I          M         V\n",
      "PERP_RACE                                                             \n",
      "AMERICAN INDIAN/ALASKAN NATIVE    2170.0    106.0     7609.0     544.0\n",
      "ASIAN / PACIFIC ISLANDER         50244.0   1882.0   133552.0    6527.0\n",
      "BLACK                           641057.0  10039.0  1514777.0  153314.0\n",
      "BLACK HISPANIC                  103782.0   1428.0   259209.0   17472.0\n",
      "OTHER                              339.0      4.0      955.0      65.0\n",
      "WHITE                           135864.0   3878.0   407261.0   29099.0\n",
      "WHITE HISPANIC                  309666.0   7847.0   846169.0   79772.0\n",
      "                                     F      I        M       V\n",
      "AMERICAN INDIAN/ALASKAN NATIVE    2170    106     7609     544\n",
      "ASIAN / PACIFIC ISLANDER         50244   1882   133552    6527\n",
      "BLACK                           641057  10039  1514777  153314\n",
      "BLACK HISPANIC                  103782   1428   259209   17472\n",
      "OTHER                              339      4      955      65\n",
      "WHITE                           135864   3878   407261   29099\n",
      "WHITE HISPANIC                  309666   7847   846169   79772\n",
      "\n",
      "\n",
      "                                   F     I     M     V\n",
      "AMERICAN INDIAN/ALASKAN NATIVE  0.21  0.01  0.73  0.05\n",
      "ASIAN / PACIFIC ISLANDER        0.26  0.01  0.69  0.03\n",
      "BLACK                           0.28     0  0.65  0.07\n",
      "BLACK HISPANIC                  0.27     0  0.68  0.05\n",
      "OTHER                           0.25     0   0.7  0.05\n",
      "WHITE                           0.24  0.01  0.71  0.05\n",
      "WHITE HISPANIC                  0.25  0.01  0.68  0.06\n"
     ]
    }
   ],
   "source": [
    "race_sev = pd.crosstab(arrestsdf['PERP_RACE'], arrestsdf['LAW_CAT_CD'])\n",
    "race_sev = race_sev.astype({\"F\": float,\n",
    "                          \"I\": float,\n",
    "                          \"M\": float,\n",
    "                          \"V\": float})\n",
    "race_sevdf = pd.DataFrame(columns = [\"F\", \"I\", \"M\", \"V\"], \n",
    "                    index = [\"AMERICAN INDIAN/ALASKAN NATIVE\", \"ASIAN / PACIFIC ISLANDER\", \"BLACK\",\n",
    "                            \"BLACK HISPANIC\", \"OTHER\", \"WHITE\", \"WHITE HISPANIC\"])\n",
    "\n",
    "print(race_sev)\n",
    "for i in range(0,7):\n",
    "    new_row = [race_sev.iloc[i][\"F\"], race_sev.iloc[i][\"I\"], \n",
    "               race_sev.iloc[i][\"M\"], race_sev.iloc[i][\"V\"]]\n",
    "    race_sevdf.iloc[i] = new_row\n",
    "\n",
    "\n",
    "print(race_sevdf)\n",
    "print(\"\\n\")\n",
    "print(racesevdf)"
   ]
  },
  {
   "cell_type": "markdown",
   "metadata": {},
   "source": [
    "As is noticeable from the previous frequency table, as well as through the previous bar plots, there is potential bias towards Black individuals, as their felony rates are higher than every other race. To that extent, I will be implementing Z-tests to determine if the differences in the proportion of felonies handed to Black individuals compared to individuals of other races is statistically significant.\n",
    "\n",
    "For each of these tests, the null hypothesis will state that the proportion of felonies handed to Black individuals is the less than or equal to the proportion of felonies given to individuals of the race we are observing. The alternate hypothesis will state that the proportion of felonies handed to Black individuals is greater than the proportion of felonies given to individuals of the race we are observing. Therefore, this will be a two proportion, one-tailed Z-test. The alpha value set for this will be the standard .05, which means that a p-value below .05 indicates that we should reject the null hypothesis. "
   ]
  },
  {
   "cell_type": "code",
   "execution_count": 42,
   "metadata": {},
   "outputs": [
    {
     "name": "stdout",
     "output_type": "stream",
     "text": [
      "Comparing: BLACK and AMERICAN INDIAN/ALASKAN NATIVE Individuals\n",
      "z-score: 15.575824385000406\n",
      "p-value: 5.313701554514824e-55\n",
      "Decision: Reject the null hypothesis.\n",
      "---------------------------------------------\n",
      "\n",
      "\n",
      "Comparing: BLACK and ASIAN / PACIFIC ISLANDER Individuals\n",
      "z-score: 14.154562817740782\n",
      "p-value: 8.751140252954609e-46\n",
      "Decision: Reject the null hypothesis.\n",
      "---------------------------------------------\n",
      "\n",
      "\n",
      "Comparing: BLACK and BLACK Individuals\n",
      "z-score: 0.0\n",
      "p-value: 0.5\n",
      "Decision: Fail to reject the null hypothesis.\n",
      "---------------------------------------------\n",
      "\n",
      "\n",
      "Comparing: BLACK and BLACK HISPANIC Individuals\n",
      "z-score: 5.966381185709352\n",
      "p-value: 1.2128661256266069e-09\n",
      "Decision: Reject the null hypothesis.\n",
      "---------------------------------------------\n",
      "\n",
      "\n",
      "Comparing: BLACK and OTHER Individuals\n",
      "z-score: 2.2859075196695566\n",
      "p-value: 0.0111298347211893\n",
      "Decision: Reject the null hypothesis.\n",
      "---------------------------------------------\n",
      "\n",
      "\n",
      "Comparing: BLACK and WHITE Individuals\n",
      "z-score: 62.21575044651642\n",
      "p-value: 0.0\n",
      "Decision: Reject the null hypothesis.\n",
      "---------------------------------------------\n",
      "\n",
      "\n",
      "Comparing: BLACK and WHITE HISPANIC Individuals\n",
      "z-score: 55.68741551163996\n",
      "p-value: 0.0\n",
      "Decision: Reject the null hypothesis.\n",
      "---------------------------------------------\n",
      "\n",
      "\n"
     ]
    }
   ],
   "source": [
    "import math\n",
    "from scipy.stats import norm\n",
    "\n",
    "total_black_perps = sum(race_sevdf.loc[\"BLACK\"])\n",
    "prop_black_felony = race_sevdf.loc[\"BLACK\"][\"F\"]/total_black_perps\n",
    "\n",
    "for i in race_sevdf.index:\n",
    "    working_series = race_sevdf.loc[i]\n",
    "    working_total = sum(working_series)\n",
    "    working_prop = working_series[\"F\"]/working_total\n",
    "    working_prop_overall = (working_series[\"F\"]+race_sevdf.loc[\"BLACK\"][\"F\"])/(total_black_perps+working_total)\n",
    "    z_score = (prop_black_felony - working_prop)/math.sqrt(working_prop_overall*(1-working_prop_overall)*\n",
    "                                                           ((1/total_black_perps)+(1/working_total)))\n",
    "    p_val = norm.sf(abs(z_score))\n",
    "    if p_val < .05:\n",
    "        decision = \"Reject\"\n",
    "    if p_val >= .05:\n",
    "        decision = \"Fail to reject\"\n",
    "    print(\"Comparing: BLACK and {} Individuals\".format(i))\n",
    "    print(\"z-score: {}\".format(z_score))\n",
    "    print(\"p-value: {}\".format(p_val))\n",
    "    print(\"Decision: {} the null hypothesis.\".format(decision))\n",
    "    print(\"---------------------------------------------\")\n",
    "    print(\"\\n\")"
   ]
  },
  {
   "cell_type": "markdown",
   "metadata": {},
   "source": [
    "## *Results and Further Work*"
   ]
  },
  {
   "cell_type": "markdown",
   "metadata": {},
   "source": [
    "As we can see in the above output, we reject the null hypothesis for every comparison between Black individuals and individuals from another race. The null hypothesis states that the proportion of felonies given to Black individuals is less than or equal to the proportion of felonies given to individuals of other races. By disproving this, we have reached the preliminary conclusion that Black individuals are handed more felonies than individuals of other races, which can be used as an argument supporting prejudice in the NY criminal system.\n",
    "\n",
    "However, using this preliminary conclusion to argue that prejudice exists against Black individuals compared to every other race in the NY criminal system assumes that every race commits similar crimes overall. However, something that the above analysis leaves out is the possibility that Black individuals commit worse crimes than individuals of other races, which is why they are disproportinately given felony convictions. Therefore, the next step of this analysis would be to investigate whether or not Black people are disproportionatey given felony convictions for the same crime compared to other racial groups. "
   ]
  },
  {
   "cell_type": "markdown",
   "metadata": {},
   "source": [
    "## *Data Preparation*\n",
    "\n",
    "To investigate bias this time around, first the offense descriptions need to be fixed, as some offenses are very similar to other ones but are typed differently. "
   ]
  },
  {
   "cell_type": "code",
   "execution_count": 45,
   "metadata": {},
   "outputs": [
    {
     "name": "stdout",
     "output_type": "stream",
     "text": [
      "['ABORTION' 'ADMINISTRATIVE CODE' 'ADMINISTRATIVE CODES'\n",
      " 'ALCOHOLIC BEVERAGE CONTROL LAW' 'ANTICIPATORY OFFENSES' 'ARSON'\n",
      " 'ASSAULT 3 & RELATED OFFENSES' \"BURGLAR'S TOOLS\" 'BURGLARY'\n",
      " 'CHILD ABANDONMENT/NON SUPPORT' 'CHILD ABANDONMENT/NON SUPPORT 1'\n",
      " 'CRIMINAL MISCHIEF & RELATED OF' 'CRIMINAL MISCHIEF & RELATED OFFENSES'\n",
      " 'CRIMINAL TRESPASS' 'DANGEROUS DRUGS' 'DANGEROUS WEAPONS'\n",
      " 'DISORDERLY CONDUCT' 'DISRUPTION OF A RELIGIOUS SERVICE'\n",
      " 'ENDAN WELFARE INCOMP' 'ESCAPE 3' 'F.C.A. P.I.N.O.S.' 'FELONY ASSAULT'\n",
      " 'FORCIBLE TOUCHING' 'FORGERY' 'FORTUNE TELLING' 'FRAUDS'\n",
      " 'FRAUDULENT ACCOSTING' 'GAMBLING' 'GRAND LARCENY'\n",
      " 'GRAND LARCENY OF MOTOR VEHICLE' 'HARASSMENT' 'HARRASSMENT 2'\n",
      " 'HOMICIDE-NEGLIGENT,UNCLASSIFIED' 'HOMICIDE-NEGLIGENT-VEHICLE'\n",
      " 'INTOXICATED & IMPAIRED DRIVING' 'INTOXICATED/IMPAIRED DRIVING'\n",
      " 'JOSTLING' 'KIDNAPPING & RELATED OFFENSES' 'LOITERING'\n",
      " 'LOITERING FOR DRUG PURPOSES' 'LOITERING,BEGGING'\n",
      " 'LOITERING/GAMBLING (CARDS, DICE, ETC)' 'MISCELLANEOUS PENAL LAW'\n",
      " 'MOVING INFRACTIONS' 'MURDER & NON-NEGL. MANSLAUGHTE'\n",
      " 'MURDER & NON-NEGL. MANSLAUGHTER' 'NEW YORK CITY HEALTH CODE'\n",
      " 'NYS LAWS-UNCLASSIFIED FELONY' 'OFF. AGNST PUB ORD SENSBLTY &'\n",
      " 'OFF. AGNST PUB ORD SENSBLTY & RGHTS TO PRIV'\n",
      " 'OFFENSES AGAINST MARRIAGE UNCLASSIFIED' 'OFFENSES AGAINST PUBLIC ADMINI'\n",
      " 'OFFENSES AGAINST PUBLIC ADMINISTRATION' 'OFFENSES AGAINST PUBLIC SAFETY'\n",
      " 'OFFENSES AGAINST THE PERSON' 'OFFENSES INVOLVING FRAUD'\n",
      " 'OFFENSES RELATED TO CHILDREN' 'OTHER OFFENSES RELATED TO THEFT'\n",
      " 'OTHER STATE LAWS' 'OTHER STATE LAWS (NON PENAL LA'\n",
      " 'OTHER STATE LAWS (NON PENAL LAW)' 'OTHER TRAFFIC INFRACTION'\n",
      " 'PARKING OFFENSES' 'PETIT LARCENY' 'POSSESSION OF STOLEN PROPERTY'\n",
      " 'POSSESSION OF STOLEN PROPERTY 5' 'PROSTITUTION & RELATED OFFENSES'\n",
      " 'RAPE' 'ROBBERY' 'SEX CRIMES' 'THEFT-FRAUD'\n",
      " 'UNAUTHORIZED USE OF A VEHICLE 3 (UUV)' 'UNDER THE INFLUENCE, DRUGS'\n",
      " 'UNLAWFUL POSS. WEAP. ON SCHOOL GROUNDS' 'VEHICLE AND TRAFFIC LAWS']\n"
     ]
    }
   ],
   "source": [
    "import numpy as np\n",
    "print(np.unique(np.array(arrestsdf[\"OFNS_DESC\"])))"
   ]
  },
  {
   "cell_type": "markdown",
   "metadata": {},
   "source": [
    "As we can see from this list of unique offenses, there are some offenses that are very similar, but are labelled differently. Now, we will replace these old descriptions with new ones so that similar offenses are grouped together. "
   ]
  },
  {
   "cell_type": "code",
   "execution_count": 61,
   "metadata": {},
   "outputs": [
    {
     "name": "stdout",
     "output_type": "stream",
     "text": [
      "Index(['OFNS_DESC', 'New Desc'], dtype='object')\n",
      "                        OFNS_DESC                        New Desc\n",
      "0                        ABORTION                        ABORTION\n",
      "1             ADMINISTRATIVE CODE            Administrative Codes\n",
      "2            ADMINISTRATIVE CODES            Administrative Codes\n",
      "3  ALCOHOLIC BEVERAGE CONTROL LAW  ALCOHOLIC BEVERAGE CONTROL LAW\n",
      "4           ANTICIPATORY OFFENSES           ANTICIPATORY OFFENSES\n",
      "5                           ARSON                           ARSON\n",
      "6    ASSAULT 3 & RELATED OFFENSES                         Assault\n",
      "7                 BURGLAR'S TOOLS                 BURGLAR'S TOOLS\n",
      "8                        BURGLARY                        BURGLARY\n",
      "9   CHILD ABANDONMENT/NON SUPPORT               Child Abandonment\n"
     ]
    }
   ],
   "source": [
    "new_desc = pd.read_csv(\"/Users/ankushbharadwaj/Desktop/new-descriptions.csv\")\n",
    "print(new_desc.columns)\n",
    "print(new_desc.head(10))"
   ]
  },
  {
   "cell_type": "code",
   "execution_count": 64,
   "metadata": {},
   "outputs": [
    {
     "name": "stdout",
     "output_type": "stream",
     "text": [
      "                               OFNS_DESC  \\\n",
      "1                    ADMINISTRATIVE CODE   \n",
      "2                   ADMINISTRATIVE CODES   \n",
      "6           ASSAULT 3 & RELATED OFFENSES   \n",
      "9          CHILD ABANDONMENT/NON SUPPORT   \n",
      "10       CHILD ABANDONMENT/NON SUPPORT 1   \n",
      "11        CRIMINAL MISCHIEF & RELATED OF   \n",
      "12  CRIMINAL MISCHIEF & RELATED OFFENSES   \n",
      "21                        FELONY ASSAULT   \n",
      "30                            HARASSMENT   \n",
      "31                         HARRASSMENT 2   \n",
      "34        INTOXICATED & IMPAIRED DRIVING   \n",
      "35          INTOXICATED/IMPAIRED DRIVING   \n",
      "44        MURDER & NON-NEGL. MANSLAUGHTE   \n",
      "45       MURDER & NON-NEGL. MANSLAUGHTER   \n",
      "46                                   NaN   \n",
      "49         OFF. AGNST PUB ORD SENSBLTY &   \n",
      "56              OFFENSES INVOLVING FRAUD   \n",
      "60        OTHER STATE LAWS (NON PENAL LA   \n",
      "61      OTHER STATE LAWS (NON PENAL LAW)   \n",
      "66       POSSESSION OF STOLEN PROPERTY 5   \n",
      "\n",
      "                                       New Desc  \n",
      "1                          Administrative Codes  \n",
      "2                          Administrative Codes  \n",
      "6                                       Assault  \n",
      "9                             Child Abandonment  \n",
      "10                            Child Abandonment  \n",
      "11                            Criminal Mischief  \n",
      "12                            Criminal Mischief  \n",
      "21                                      Assault  \n",
      "30                                   Harassment  \n",
      "31                                   Harassment  \n",
      "34                                          DUI  \n",
      "35                                          DUI  \n",
      "44                                 Manslaughter  \n",
      "45                                 Manslaughter  \n",
      "46                                          NaN  \n",
      "49  OFF. AGNST PUB ORD SENSBLTY & RGHTS TO PRIV  \n",
      "56                                       Frauds  \n",
      "60                             OTHER STATE LAWS  \n",
      "61                             OTHER STATE LAWS  \n",
      "66                POSSESSION OF STOLEN PROPERTY  \n",
      "\n",
      "Length: \n",
      "20\n"
     ]
    }
   ],
   "source": [
    "print(new_desc[new_desc['OFNS_DESC'] != new_desc['New Desc']])\n",
    "print(\"\\nLength: \")\n",
    "print(len(new_desc[new_desc['OFNS_DESC'] != new_desc['New Desc']]))"
   ]
  },
  {
   "cell_type": "markdown",
   "metadata": {},
   "source": [
    "The output shows that there are 20 instances where the old offense description is replaced by one that allows us to group similar offenses together. \n",
    "\n",
    "From here, we would need a frequency table so that we can notice offenses that get a variety of punishments, as these offenses will be what we look at to determine prejudice for specific racial groups."
   ]
  },
  {
   "cell_type": "code",
   "execution_count": 117,
   "metadata": {},
   "outputs": [
    {
     "name": "stdout",
     "output_type": "stream",
     "text": [
      "LAW_CAT_CD                                        F      I       M       V\n",
      "OFNS_DESC                                                                 \n",
      "ABORTION                                         10      0       0       0\n",
      "ADMINISTRATIVE CODE                               0     31     311   13041\n",
      "ADMINISTRATIVE CODES                              0      0       0     156\n",
      "ALCOHOLIC BEVERAGE CONTROL LAW                    0      0    4868       0\n",
      "ANTICIPATORY OFFENSES                             3      0     666       0\n",
      "ARSON                                          1652      0       0       0\n",
      "ASSAULT 3 & RELATED OFFENSES                      0      0  456159       0\n",
      "BURGLAR'S TOOLS                                   0      0    6620       0\n",
      "BURGLARY                                      61314      0       0       0\n",
      "CHILD ABANDONMENT/NON SUPPORT                    49      0       0       0\n",
      "CHILD ABANDONMENT/NON SUPPORT 1                 469      0       0       0\n",
      "CRIMINAL MISCHIEF & RELATED OF                    9      0    1763       0\n",
      "CRIMINAL MISCHIEF & RELATED OFFENSES          53988      0   90902       0\n",
      "CRIMINAL TRESPASS                                 0      0  194727       0\n",
      "DANGEROUS DRUGS                              269777      0  779045       0\n",
      "DANGEROUS WEAPONS                             86115      0   95543       0\n",
      "DISORDERLY CONDUCT                                0      0       0   29692\n",
      "DISRUPTION OF A RELIGIOUS SERVICE                 0      0      56       0\n",
      "ENDAN WELFARE INCOMP                            130      0     187       0\n",
      "ESCAPE 3                                         16      0     255       0\n",
      "F.C.A. P.I.N.O.S.                                 0      0       0      10\n",
      "FELONY ASSAULT                               180060      0      76       0\n",
      "FORCIBLE TOUCHING                                 0      0    9980       0\n",
      "FORGERY                                       76449      0       0       0\n",
      "FORTUNE TELLING                                   0      0      12       0\n",
      "FRAUDS                                           42      0   18493       0\n",
      "FRAUDULENT ACCOSTING                              0      0    2130       0\n",
      "GAMBLING                                       2843      0    9797       0\n",
      "GRAND LARCENY                                108535      0       0       0\n",
      "GRAND LARCENY OF MOTOR VEHICLE                14074      0       0       0\n",
      "...                                             ...    ...     ...     ...\n",
      "MURDER & NON-NEGL. MANSLAUGHTER               12171      0       0       0\n",
      "NEW YORK CITY HEALTH CODE                         0      0       0     499\n",
      "NYS LAWS-UNCLASSIFIED FELONY                    213      0       0       0\n",
      "OFF. AGNST PUB ORD SENSBLTY &                     0      0    6000       0\n",
      "OFF. AGNST PUB ORD SENSBLTY & RGHTS TO PRIV     189      0   65420       0\n",
      "OFFENSES AGAINST MARRIAGE UNCLASSIFIED            0      0       1       0\n",
      "OFFENSES AGAINST PUBLIC ADMINI                    0      0      50       0\n",
      "OFFENSES AGAINST PUBLIC ADMINISTRATION           17      0  155066       0\n",
      "OFFENSES AGAINST PUBLIC SAFETY                   80      0    1875       0\n",
      "OFFENSES AGAINST THE PERSON                       0      0   21589       0\n",
      "OFFENSES INVOLVING FRAUD                          0      0   24574       0\n",
      "OFFENSES RELATED TO CHILDREN                      0      0    2364       0\n",
      "OTHER OFFENSES RELATED TO THEFT                   0      0  301987       0\n",
      "OTHER STATE LAWS                              13997   1012       1  223195\n",
      "OTHER STATE LAWS (NON PENAL LA                  892      0    3476       0\n",
      "OTHER STATE LAWS (NON PENAL LAW)               1712      0   75161       1\n",
      "OTHER TRAFFIC INFRACTION                          0  15395  152926       0\n",
      "PARKING OFFENSES                                  0    154       0       0\n",
      "PETIT LARCENY                                     0      0  186420       0\n",
      "POSSESSION OF STOLEN PROPERTY                 16394      0       0       0\n",
      "POSSESSION OF STOLEN PROPERTY 5                   0      0  147824       0\n",
      "PROSTITUTION & RELATED OFFENSES                1588      0   43111     314\n",
      "RAPE                                          10910      0       0       0\n",
      "ROBBERY                                      143411      0       0       0\n",
      "SEX CRIMES                                     9657      0   21087       0\n",
      "THEFT-FRAUD                                    8650      0       1       0\n",
      "UNAUTHORIZED USE OF A VEHICLE 3 (UUV)             0      0   11148       0\n",
      "UNDER THE INFLUENCE, DRUGS                        0      0       0      11\n",
      "UNLAWFUL POSS. WEAP. ON SCHOOL GROUNDS            0      0       0      63\n",
      "VEHICLE AND TRAFFIC LAWS                       8788    575  173139       0\n",
      "\n",
      "[75 rows x 4 columns]\n"
     ]
    }
   ],
   "source": [
    "ofns_sev = pd.crosstab(arrestsdf['OFNS_DESC'], arrestsdf['LAW_CAT_CD'])\n",
    "print(ofns_sev)"
   ]
  },
  {
   "cell_type": "code",
   "execution_count": 118,
   "metadata": {},
   "outputs": [
    {
     "name": "stdout",
     "output_type": "stream",
     "text": [
      "OFNS_CAT    object\n",
      "F           object\n",
      "I           object\n",
      "M           object\n",
      "V           object\n",
      "dtype: object\n",
      "OFNS_CAT     object\n",
      "F           float64\n",
      "I           float64\n",
      "M           float64\n",
      "V           float64\n",
      "dtype: object\n"
     ]
    }
   ],
   "source": [
    "#for i in ofns_sev.index:\n",
    "    #new_name = new_desc[\"New Desc\"][new_desc[new_desc[\"OFNS_DESC\"] == i].index]\n",
    "    #ofns_sev = ofns_sev.rename(index = {i: new_name})\n",
    "\n",
    "ofns_sev = ofns_sev.astype({\"F\": float,\n",
    "                          \"I\": float,\n",
    "                          \"M\": float,\n",
    "                          \"V\": float})\n",
    "ofns_sevdf = pd.DataFrame(columns = [\"OFNS_CAT\", \"F\", \"I\", \"M\", \"V\"], \n",
    "                    index = range(0, len(ofns_sev.index)))\n",
    "\n",
    "current_row = 0\n",
    "for i in ofns_sev.index:\n",
    "    ofns = new_desc[\"New Desc\"][new_desc[new_desc[\"OFNS_DESC\"] == i].index[0]]\n",
    "    new_row = [ofns, race_sev.loc[i][\"F\"], race_sev.loc[i][\"I\"], \n",
    "               race_sev.loc[i][\"M\"], race_sev.loc[i][\"V\"]]\n",
    "    ofns_sevdf.loc[current_row] = new_row\n",
    "    current_row = current_row+1\n",
    "\n",
    "ofns_sevdf.head()\n",
    "print(ofns_sevdf.dtypes)\n",
    "ofns_sevdf = ofns_sevdf.astype({\"F\": float,\n",
    "                              \"I\": float,\n",
    "                              \"M\": float,\n",
    "                              \"V\": float})\n",
    "print(ofns_sevdf.dtypes)"
   ]
  },
  {
   "cell_type": "code",
   "execution_count": 119,
   "metadata": {},
   "outputs": [
    {
     "name": "stdout",
     "output_type": "stream",
     "text": [
      "                                       OFNS_CAT         F        I         M  \\\n",
      "0                                      ABORTION      10.0      0.0       0.0   \n",
      "1                          Administrative Codes       0.0     31.0     311.0   \n",
      "2                          Administrative Codes       0.0      0.0       0.0   \n",
      "3                ALCOHOLIC BEVERAGE CONTROL LAW       0.0      0.0    4868.0   \n",
      "4                         ANTICIPATORY OFFENSES       3.0      0.0     666.0   \n",
      "5                                         ARSON    1652.0      0.0       0.0   \n",
      "6                                       Assault       0.0      0.0  456159.0   \n",
      "7                               BURGLAR'S TOOLS       0.0      0.0    6620.0   \n",
      "8                                      BURGLARY   61314.0      0.0       0.0   \n",
      "9                             Child Abandonment      49.0      0.0       0.0   \n",
      "10                            Child Abandonment     469.0      0.0       0.0   \n",
      "11                            Criminal Mischief       9.0      0.0    1763.0   \n",
      "12                            Criminal Mischief   53988.0      0.0   90902.0   \n",
      "13                            CRIMINAL TRESPASS       0.0      0.0  194727.0   \n",
      "14                              DANGEROUS DRUGS  269777.0      0.0  779045.0   \n",
      "15                            DANGEROUS WEAPONS   86115.0      0.0   95543.0   \n",
      "16                           DISORDERLY CONDUCT       0.0      0.0       0.0   \n",
      "17            DISRUPTION OF A RELIGIOUS SERVICE       0.0      0.0      56.0   \n",
      "18                         ENDAN WELFARE INCOMP     130.0      0.0     187.0   \n",
      "19                                     ESCAPE 3      16.0      0.0     255.0   \n",
      "20                            F.C.A. P.I.N.O.S.       0.0      0.0       0.0   \n",
      "21                                      Assault  180060.0      0.0      76.0   \n",
      "22                            FORCIBLE TOUCHING       0.0      0.0    9980.0   \n",
      "23                                      FORGERY   76449.0      0.0       0.0   \n",
      "24                              FORTUNE TELLING       0.0      0.0      12.0   \n",
      "25                                       FRAUDS      42.0      0.0   18493.0   \n",
      "26                         FRAUDULENT ACCOSTING       0.0      0.0    2130.0   \n",
      "27                                     GAMBLING    2843.0      0.0    9797.0   \n",
      "28                                GRAND LARCENY  108535.0      0.0       0.0   \n",
      "29               GRAND LARCENY OF MOTOR VEHICLE   14074.0      0.0       0.0   \n",
      "..                                          ...       ...      ...       ...   \n",
      "45                                 Manslaughter   12171.0      0.0       0.0   \n",
      "46                    NEW YORK CITY HEALTH CODE       0.0      0.0       0.0   \n",
      "47                 NYS LAWS-UNCLASSIFIED FELONY     213.0      0.0       0.0   \n",
      "48  OFF. AGNST PUB ORD SENSBLTY & RGHTS TO PRIV       0.0      0.0    6000.0   \n",
      "49  OFF. AGNST PUB ORD SENSBLTY & RGHTS TO PRIV     189.0      0.0   65420.0   \n",
      "50       OFFENSES AGAINST MARRIAGE UNCLASSIFIED       0.0      0.0       1.0   \n",
      "51               OFFENSES AGAINST PUBLIC ADMINI       0.0      0.0      50.0   \n",
      "52       OFFENSES AGAINST PUBLIC ADMINISTRATION      17.0      0.0  155066.0   \n",
      "53               OFFENSES AGAINST PUBLIC SAFETY      80.0      0.0    1875.0   \n",
      "54                  OFFENSES AGAINST THE PERSON       0.0      0.0   21589.0   \n",
      "55                                       Frauds       0.0      0.0   24574.0   \n",
      "56                 OFFENSES RELATED TO CHILDREN       0.0      0.0    2364.0   \n",
      "57              OTHER OFFENSES RELATED TO THEFT       0.0      0.0  301987.0   \n",
      "58                             OTHER STATE LAWS   13997.0   1012.0       1.0   \n",
      "59                             OTHER STATE LAWS     892.0      0.0    3476.0   \n",
      "60                             OTHER STATE LAWS    1712.0      0.0   75161.0   \n",
      "61                     OTHER TRAFFIC INFRACTION       0.0  15395.0  152926.0   \n",
      "62                             PARKING OFFENSES       0.0    154.0       0.0   \n",
      "63                                PETIT LARCENY       0.0      0.0  186420.0   \n",
      "64                POSSESSION OF STOLEN PROPERTY   16394.0      0.0       0.0   \n",
      "65                POSSESSION OF STOLEN PROPERTY       0.0      0.0  147824.0   \n",
      "66              PROSTITUTION & RELATED OFFENSES    1588.0      0.0   43111.0   \n",
      "67                                         RAPE   10910.0      0.0       0.0   \n",
      "68                                      ROBBERY  143411.0      0.0       0.0   \n",
      "69                                   SEX CRIMES    9657.0      0.0   21087.0   \n",
      "70                                  THEFT-FRAUD    8650.0      0.0       1.0   \n",
      "71        UNAUTHORIZED USE OF A VEHICLE 3 (UUV)       0.0      0.0   11148.0   \n",
      "72                   UNDER THE INFLUENCE, DRUGS       0.0      0.0       0.0   \n",
      "73       UNLAWFUL POSS. WEAP. ON SCHOOL GROUNDS       0.0      0.0       0.0   \n",
      "74                     VEHICLE AND TRAFFIC LAWS    8788.0    575.0  173139.0   \n",
      "\n",
      "           V  \n",
      "0        0.0  \n",
      "1    13041.0  \n",
      "2      156.0  \n",
      "3        0.0  \n",
      "4        0.0  \n",
      "5        0.0  \n",
      "6        0.0  \n",
      "7        0.0  \n",
      "8        0.0  \n",
      "9        0.0  \n",
      "10       0.0  \n",
      "11       0.0  \n",
      "12       0.0  \n",
      "13       0.0  \n",
      "14       0.0  \n",
      "15       0.0  \n",
      "16   29692.0  \n",
      "17       0.0  \n",
      "18       0.0  \n",
      "19       0.0  \n",
      "20      10.0  \n",
      "21       0.0  \n",
      "22       0.0  \n",
      "23       0.0  \n",
      "24       0.0  \n",
      "25       0.0  \n",
      "26       0.0  \n",
      "27       0.0  \n",
      "28       0.0  \n",
      "29       0.0  \n",
      "..       ...  \n",
      "45       0.0  \n",
      "46     499.0  \n",
      "47       0.0  \n",
      "48       0.0  \n",
      "49       0.0  \n",
      "50       0.0  \n",
      "51       0.0  \n",
      "52       0.0  \n",
      "53       0.0  \n",
      "54       0.0  \n",
      "55       0.0  \n",
      "56       0.0  \n",
      "57       0.0  \n",
      "58  223195.0  \n",
      "59       0.0  \n",
      "60       1.0  \n",
      "61       0.0  \n",
      "62       0.0  \n",
      "63       0.0  \n",
      "64       0.0  \n",
      "65       0.0  \n",
      "66     314.0  \n",
      "67       0.0  \n",
      "68       0.0  \n",
      "69       0.0  \n",
      "70       0.0  \n",
      "71       0.0  \n",
      "72      11.0  \n",
      "73      63.0  \n",
      "74       0.0  \n",
      "\n",
      "[75 rows x 5 columns]\n"
     ]
    }
   ],
   "source": [
    "print(ofns_sevdf)"
   ]
  },
  {
   "cell_type": "code",
   "execution_count": 120,
   "metadata": {},
   "outputs": [],
   "source": [
    "ofns_sevdf.set_index(\"OFNS_CAT\", inplace=True)"
   ]
  },
  {
   "cell_type": "code",
   "execution_count": 121,
   "metadata": {},
   "outputs": [
    {
     "name": "stdout",
     "output_type": "stream",
     "text": [
      "                                                    F        I         M  \\\n",
      "OFNS_CAT                                                                   \n",
      "ABORTION                                         10.0      0.0       0.0   \n",
      "Administrative Codes                              0.0     31.0     311.0   \n",
      "Administrative Codes                              0.0      0.0       0.0   \n",
      "ALCOHOLIC BEVERAGE CONTROL LAW                    0.0      0.0    4868.0   \n",
      "ANTICIPATORY OFFENSES                             3.0      0.0     666.0   \n",
      "ARSON                                          1652.0      0.0       0.0   \n",
      "Assault                                           0.0      0.0  456159.0   \n",
      "BURGLAR'S TOOLS                                   0.0      0.0    6620.0   \n",
      "BURGLARY                                      61314.0      0.0       0.0   \n",
      "Child Abandonment                                49.0      0.0       0.0   \n",
      "Child Abandonment                               469.0      0.0       0.0   \n",
      "Criminal Mischief                                 9.0      0.0    1763.0   \n",
      "Criminal Mischief                             53988.0      0.0   90902.0   \n",
      "CRIMINAL TRESPASS                                 0.0      0.0  194727.0   \n",
      "DANGEROUS DRUGS                              269777.0      0.0  779045.0   \n",
      "DANGEROUS WEAPONS                             86115.0      0.0   95543.0   \n",
      "DISORDERLY CONDUCT                                0.0      0.0       0.0   \n",
      "DISRUPTION OF A RELIGIOUS SERVICE                 0.0      0.0      56.0   \n",
      "ENDAN WELFARE INCOMP                            130.0      0.0     187.0   \n",
      "ESCAPE 3                                         16.0      0.0     255.0   \n",
      "F.C.A. P.I.N.O.S.                                 0.0      0.0       0.0   \n",
      "Assault                                      180060.0      0.0      76.0   \n",
      "FORCIBLE TOUCHING                                 0.0      0.0    9980.0   \n",
      "FORGERY                                       76449.0      0.0       0.0   \n",
      "FORTUNE TELLING                                   0.0      0.0      12.0   \n",
      "FRAUDS                                           42.0      0.0   18493.0   \n",
      "FRAUDULENT ACCOSTING                              0.0      0.0    2130.0   \n",
      "GAMBLING                                       2843.0      0.0    9797.0   \n",
      "GRAND LARCENY                                108535.0      0.0       0.0   \n",
      "GRAND LARCENY OF MOTOR VEHICLE                14074.0      0.0       0.0   \n",
      "...                                               ...      ...       ...   \n",
      "Manslaughter                                  12171.0      0.0       0.0   \n",
      "NEW YORK CITY HEALTH CODE                         0.0      0.0       0.0   \n",
      "NYS LAWS-UNCLASSIFIED FELONY                    213.0      0.0       0.0   \n",
      "OFF. AGNST PUB ORD SENSBLTY & RGHTS TO PRIV       0.0      0.0    6000.0   \n",
      "OFF. AGNST PUB ORD SENSBLTY & RGHTS TO PRIV     189.0      0.0   65420.0   \n",
      "OFFENSES AGAINST MARRIAGE UNCLASSIFIED            0.0      0.0       1.0   \n",
      "OFFENSES AGAINST PUBLIC ADMINI                    0.0      0.0      50.0   \n",
      "OFFENSES AGAINST PUBLIC ADMINISTRATION           17.0      0.0  155066.0   \n",
      "OFFENSES AGAINST PUBLIC SAFETY                   80.0      0.0    1875.0   \n",
      "OFFENSES AGAINST THE PERSON                       0.0      0.0   21589.0   \n",
      "Frauds                                            0.0      0.0   24574.0   \n",
      "OFFENSES RELATED TO CHILDREN                      0.0      0.0    2364.0   \n",
      "OTHER OFFENSES RELATED TO THEFT                   0.0      0.0  301987.0   \n",
      "OTHER STATE LAWS                              13997.0   1012.0       1.0   \n",
      "OTHER STATE LAWS                                892.0      0.0    3476.0   \n",
      "OTHER STATE LAWS                               1712.0      0.0   75161.0   \n",
      "OTHER TRAFFIC INFRACTION                          0.0  15395.0  152926.0   \n",
      "PARKING OFFENSES                                  0.0    154.0       0.0   \n",
      "PETIT LARCENY                                     0.0      0.0  186420.0   \n",
      "POSSESSION OF STOLEN PROPERTY                 16394.0      0.0       0.0   \n",
      "POSSESSION OF STOLEN PROPERTY                     0.0      0.0  147824.0   \n",
      "PROSTITUTION & RELATED OFFENSES                1588.0      0.0   43111.0   \n",
      "RAPE                                          10910.0      0.0       0.0   \n",
      "ROBBERY                                      143411.0      0.0       0.0   \n",
      "SEX CRIMES                                     9657.0      0.0   21087.0   \n",
      "THEFT-FRAUD                                    8650.0      0.0       1.0   \n",
      "UNAUTHORIZED USE OF A VEHICLE 3 (UUV)             0.0      0.0   11148.0   \n",
      "UNDER THE INFLUENCE, DRUGS                        0.0      0.0       0.0   \n",
      "UNLAWFUL POSS. WEAP. ON SCHOOL GROUNDS            0.0      0.0       0.0   \n",
      "VEHICLE AND TRAFFIC LAWS                       8788.0    575.0  173139.0   \n",
      "\n",
      "                                                    V  \n",
      "OFNS_CAT                                               \n",
      "ABORTION                                          0.0  \n",
      "Administrative Codes                          13041.0  \n",
      "Administrative Codes                            156.0  \n",
      "ALCOHOLIC BEVERAGE CONTROL LAW                    0.0  \n",
      "ANTICIPATORY OFFENSES                             0.0  \n",
      "ARSON                                             0.0  \n",
      "Assault                                           0.0  \n",
      "BURGLAR'S TOOLS                                   0.0  \n",
      "BURGLARY                                          0.0  \n",
      "Child Abandonment                                 0.0  \n",
      "Child Abandonment                                 0.0  \n",
      "Criminal Mischief                                 0.0  \n",
      "Criminal Mischief                                 0.0  \n",
      "CRIMINAL TRESPASS                                 0.0  \n",
      "DANGEROUS DRUGS                                   0.0  \n",
      "DANGEROUS WEAPONS                                 0.0  \n",
      "DISORDERLY CONDUCT                            29692.0  \n",
      "DISRUPTION OF A RELIGIOUS SERVICE                 0.0  \n",
      "ENDAN WELFARE INCOMP                              0.0  \n",
      "ESCAPE 3                                          0.0  \n",
      "F.C.A. P.I.N.O.S.                                10.0  \n",
      "Assault                                           0.0  \n",
      "FORCIBLE TOUCHING                                 0.0  \n",
      "FORGERY                                           0.0  \n",
      "FORTUNE TELLING                                   0.0  \n",
      "FRAUDS                                            0.0  \n",
      "FRAUDULENT ACCOSTING                              0.0  \n",
      "GAMBLING                                          0.0  \n",
      "GRAND LARCENY                                     0.0  \n",
      "GRAND LARCENY OF MOTOR VEHICLE                    0.0  \n",
      "...                                               ...  \n",
      "Manslaughter                                      0.0  \n",
      "NEW YORK CITY HEALTH CODE                       499.0  \n",
      "NYS LAWS-UNCLASSIFIED FELONY                      0.0  \n",
      "OFF. AGNST PUB ORD SENSBLTY & RGHTS TO PRIV       0.0  \n",
      "OFF. AGNST PUB ORD SENSBLTY & RGHTS TO PRIV       0.0  \n",
      "OFFENSES AGAINST MARRIAGE UNCLASSIFIED            0.0  \n",
      "OFFENSES AGAINST PUBLIC ADMINI                    0.0  \n",
      "OFFENSES AGAINST PUBLIC ADMINISTRATION            0.0  \n",
      "OFFENSES AGAINST PUBLIC SAFETY                    0.0  \n",
      "OFFENSES AGAINST THE PERSON                       0.0  \n",
      "Frauds                                            0.0  \n",
      "OFFENSES RELATED TO CHILDREN                      0.0  \n",
      "OTHER OFFENSES RELATED TO THEFT                   0.0  \n",
      "OTHER STATE LAWS                             223195.0  \n",
      "OTHER STATE LAWS                                  0.0  \n",
      "OTHER STATE LAWS                                  1.0  \n",
      "OTHER TRAFFIC INFRACTION                          0.0  \n",
      "PARKING OFFENSES                                  0.0  \n",
      "PETIT LARCENY                                     0.0  \n",
      "POSSESSION OF STOLEN PROPERTY                     0.0  \n",
      "POSSESSION OF STOLEN PROPERTY                     0.0  \n",
      "PROSTITUTION & RELATED OFFENSES                 314.0  \n",
      "RAPE                                              0.0  \n",
      "ROBBERY                                           0.0  \n",
      "SEX CRIMES                                        0.0  \n",
      "THEFT-FRAUD                                       0.0  \n",
      "UNAUTHORIZED USE OF A VEHICLE 3 (UUV)             0.0  \n",
      "UNDER THE INFLUENCE, DRUGS                       11.0  \n",
      "UNLAWFUL POSS. WEAP. ON SCHOOL GROUNDS           63.0  \n",
      "VEHICLE AND TRAFFIC LAWS                          0.0  \n",
      "\n",
      "[75 rows x 4 columns]\n"
     ]
    }
   ],
   "source": [
    "print(ofns_sevdf)"
   ]
  },
  {
   "cell_type": "code",
   "execution_count": 122,
   "metadata": {},
   "outputs": [
    {
     "data": {
      "text/html": [
       "<div>\n",
       "<style scoped>\n",
       "    .dataframe tbody tr th:only-of-type {\n",
       "        vertical-align: middle;\n",
       "    }\n",
       "\n",
       "    .dataframe tbody tr th {\n",
       "        vertical-align: top;\n",
       "    }\n",
       "\n",
       "    .dataframe thead th {\n",
       "        text-align: right;\n",
       "    }\n",
       "</style>\n",
       "<table border=\"1\" class=\"dataframe\">\n",
       "  <thead>\n",
       "    <tr style=\"text-align: right;\">\n",
       "      <th></th>\n",
       "      <th>F</th>\n",
       "      <th>I</th>\n",
       "      <th>M</th>\n",
       "      <th>V</th>\n",
       "    </tr>\n",
       "    <tr>\n",
       "      <th>OFNS_CAT</th>\n",
       "      <th></th>\n",
       "      <th></th>\n",
       "      <th></th>\n",
       "      <th></th>\n",
       "    </tr>\n",
       "  </thead>\n",
       "  <tbody>\n",
       "    <tr>\n",
       "      <th>ABORTION</th>\n",
       "      <td>10.0</td>\n",
       "      <td>0.0</td>\n",
       "      <td>0.0</td>\n",
       "      <td>0.0</td>\n",
       "    </tr>\n",
       "    <tr>\n",
       "      <th>ALCOHOLIC BEVERAGE CONTROL LAW</th>\n",
       "      <td>0.0</td>\n",
       "      <td>0.0</td>\n",
       "      <td>4868.0</td>\n",
       "      <td>0.0</td>\n",
       "    </tr>\n",
       "    <tr>\n",
       "      <th>ANTICIPATORY OFFENSES</th>\n",
       "      <td>3.0</td>\n",
       "      <td>0.0</td>\n",
       "      <td>666.0</td>\n",
       "      <td>0.0</td>\n",
       "    </tr>\n",
       "    <tr>\n",
       "      <th>ARSON</th>\n",
       "      <td>1652.0</td>\n",
       "      <td>0.0</td>\n",
       "      <td>0.0</td>\n",
       "      <td>0.0</td>\n",
       "    </tr>\n",
       "    <tr>\n",
       "      <th>Administrative Codes</th>\n",
       "      <td>0.0</td>\n",
       "      <td>31.0</td>\n",
       "      <td>311.0</td>\n",
       "      <td>13197.0</td>\n",
       "    </tr>\n",
       "    <tr>\n",
       "      <th>Assault</th>\n",
       "      <td>180060.0</td>\n",
       "      <td>0.0</td>\n",
       "      <td>456235.0</td>\n",
       "      <td>0.0</td>\n",
       "    </tr>\n",
       "    <tr>\n",
       "      <th>BURGLAR'S TOOLS</th>\n",
       "      <td>0.0</td>\n",
       "      <td>0.0</td>\n",
       "      <td>6620.0</td>\n",
       "      <td>0.0</td>\n",
       "    </tr>\n",
       "    <tr>\n",
       "      <th>BURGLARY</th>\n",
       "      <td>61314.0</td>\n",
       "      <td>0.0</td>\n",
       "      <td>0.0</td>\n",
       "      <td>0.0</td>\n",
       "    </tr>\n",
       "    <tr>\n",
       "      <th>CRIMINAL TRESPASS</th>\n",
       "      <td>0.0</td>\n",
       "      <td>0.0</td>\n",
       "      <td>194727.0</td>\n",
       "      <td>0.0</td>\n",
       "    </tr>\n",
       "    <tr>\n",
       "      <th>Child Abandonment</th>\n",
       "      <td>518.0</td>\n",
       "      <td>0.0</td>\n",
       "      <td>0.0</td>\n",
       "      <td>0.0</td>\n",
       "    </tr>\n",
       "  </tbody>\n",
       "</table>\n",
       "</div>"
      ],
      "text/plain": [
       "                                       F     I         M        V\n",
       "OFNS_CAT                                                         \n",
       "ABORTION                            10.0   0.0       0.0      0.0\n",
       "ALCOHOLIC BEVERAGE CONTROL LAW       0.0   0.0    4868.0      0.0\n",
       "ANTICIPATORY OFFENSES                3.0   0.0     666.0      0.0\n",
       "ARSON                             1652.0   0.0       0.0      0.0\n",
       "Administrative Codes                 0.0  31.0     311.0  13197.0\n",
       "Assault                         180060.0   0.0  456235.0      0.0\n",
       "BURGLAR'S TOOLS                      0.0   0.0    6620.0      0.0\n",
       "BURGLARY                         61314.0   0.0       0.0      0.0\n",
       "CRIMINAL TRESPASS                    0.0   0.0  194727.0      0.0\n",
       "Child Abandonment                  518.0   0.0       0.0      0.0"
      ]
     },
     "execution_count": 122,
     "metadata": {},
     "output_type": "execute_result"
    }
   ],
   "source": [
    "ofns_sevdf = ofns_sevdf.groupby(ofns_sevdf.index).sum()\n",
    "ofns_sevdf.head(10)"
   ]
  },
  {
   "cell_type": "code",
   "execution_count": 123,
   "metadata": {},
   "outputs": [
    {
     "name": "stdout",
     "output_type": "stream",
     "text": [
      "                                                F     I     M     V\n",
      "OFNS_CAT                                                           \n",
      "ABORTION                                     1.00  0.00  0.00  0.00\n",
      "ALCOHOLIC BEVERAGE CONTROL LAW               0.00  0.00  1.00  0.00\n",
      "ANTICIPATORY OFFENSES                        0.00  0.00  1.00  0.00\n",
      "ARSON                                        1.00  0.00  0.00  0.00\n",
      "Administrative Codes                         0.00  0.00  0.02  0.97\n",
      "Assault                                      0.28  0.00  0.72  0.00\n",
      "BURGLAR'S TOOLS                              0.00  0.00  1.00  0.00\n",
      "BURGLARY                                     1.00  0.00  0.00  0.00\n",
      "CRIMINAL TRESPASS                            0.00  0.00  1.00  0.00\n",
      "Child Abandonment                            1.00  0.00  0.00  0.00\n",
      "Criminal Mischief                            0.37  0.00  0.63  0.00\n",
      "DANGEROUS DRUGS                              0.26  0.00  0.74  0.00\n",
      "DANGEROUS WEAPONS                            0.47  0.00  0.53  0.00\n",
      "DISORDERLY CONDUCT                           0.00  0.00  0.00  1.00\n",
      "DISRUPTION OF A RELIGIOUS SERVICE            0.00  0.00  1.00  0.00\n",
      "DUI                                          0.10  0.00  0.90  0.00\n",
      "ENDAN WELFARE INCOMP                         0.41  0.00  0.59  0.00\n",
      "ESCAPE 3                                     0.06  0.00  0.94  0.00\n",
      "F.C.A. P.I.N.O.S.                            0.00  0.00  0.00  1.00\n",
      "FORCIBLE TOUCHING                            0.00  0.00  1.00  0.00\n",
      "FORGERY                                      1.00  0.00  0.00  0.00\n",
      "FORTUNE TELLING                              0.00  0.00  1.00  0.00\n",
      "FRAUDS                                       0.00  0.00  1.00  0.00\n",
      "FRAUDULENT ACCOSTING                         0.00  0.00  1.00  0.00\n",
      "Frauds                                       0.00  0.00  1.00  0.00\n",
      "GAMBLING                                     0.22  0.00  0.78  0.00\n",
      "GRAND LARCENY                                1.00  0.00  0.00  0.00\n",
      "GRAND LARCENY OF MOTOR VEHICLE               1.00  0.00  0.00  0.00\n",
      "HOMICIDE-NEGLIGENT,UNCLASSIFIED              1.00  0.00  0.00  0.00\n",
      "HOMICIDE-NEGLIGENT-VEHICLE                   1.00  0.00  0.00  0.00\n",
      "...                                           ...   ...   ...   ...\n",
      "LOITERING FOR DRUG PURPOSES                  0.00  0.00  1.00  0.00\n",
      "LOITERING,BEGGING                            0.00  0.00  0.00  1.00\n",
      "LOITERING/GAMBLING (CARDS, DICE, ETC)        0.00  0.00  0.00  1.00\n",
      "MISCELLANEOUS PENAL LAW                      0.90  0.00  0.00  0.10\n",
      "MOVING INFRACTIONS                           0.00  1.00  0.00  0.00\n",
      "Manslaughter                                 1.00  0.00  0.00  0.00\n",
      "NEW YORK CITY HEALTH CODE                    0.00  0.00  0.00  1.00\n",
      "NYS LAWS-UNCLASSIFIED FELONY                 1.00  0.00  0.00  0.00\n",
      "OFF. AGNST PUB ORD SENSBLTY & RGHTS TO PRIV  0.00  0.00  1.00  0.00\n",
      "OFFENSES AGAINST MARRIAGE UNCLASSIFIED       0.00  0.00  1.00  0.00\n",
      "OFFENSES AGAINST PUBLIC ADMINI               0.00  0.00  1.00  0.00\n",
      "OFFENSES AGAINST PUBLIC ADMINISTRATION       0.00  0.00  1.00  0.00\n",
      "OFFENSES AGAINST PUBLIC SAFETY               0.04  0.00  0.96  0.00\n",
      "OFFENSES AGAINST THE PERSON                  0.00  0.00  1.00  0.00\n",
      "OFFENSES RELATED TO CHILDREN                 0.00  0.00  1.00  0.00\n",
      "OTHER OFFENSES RELATED TO THEFT              0.00  0.00  1.00  0.00\n",
      "OTHER STATE LAWS                             0.05  0.00  0.25  0.70\n",
      "OTHER TRAFFIC INFRACTION                     0.00  0.09  0.91  0.00\n",
      "PARKING OFFENSES                             0.00  1.00  0.00  0.00\n",
      "PETIT LARCENY                                0.00  0.00  1.00  0.00\n",
      "POSSESSION OF STOLEN PROPERTY                0.10  0.00  0.90  0.00\n",
      "PROSTITUTION & RELATED OFFENSES              0.04  0.00  0.96  0.01\n",
      "RAPE                                         1.00  0.00  0.00  0.00\n",
      "ROBBERY                                      1.00  0.00  0.00  0.00\n",
      "SEX CRIMES                                   0.31  0.00  0.69  0.00\n",
      "THEFT-FRAUD                                  1.00  0.00  0.00  0.00\n",
      "UNAUTHORIZED USE OF A VEHICLE 3 (UUV)        0.00  0.00  1.00  0.00\n",
      "UNDER THE INFLUENCE, DRUGS                   0.00  0.00  0.00  1.00\n",
      "UNLAWFUL POSS. WEAP. ON SCHOOL GROUNDS       0.00  0.00  0.00  1.00\n",
      "VEHICLE AND TRAFFIC LAWS                     0.05  0.00  0.95  0.00\n",
      "\n",
      "[64 rows x 4 columns]\n"
     ]
    }
   ],
   "source": [
    "for i in ofns_sevdf.index:\n",
    "    total = sum(ofns_sevdf.loc[i])\n",
    "    new_row = [\"%.2f\" % (ofns_sevdf.loc[i][\"F\"]/total),\n",
    "              \"%.2f\" % (ofns_sevdf.loc[i][\"I\"]/total),\n",
    "              \"%.2f\" % (ofns_sevdf.loc[i][\"M\"]/total),\n",
    "              \"%.2f\" % (ofns_sevdf.loc[i][\"V\"]/total)]\n",
    "    ofns_sevdf.loc[i] = new_row\n",
    "print(ofns_sevdf)"
   ]
  },
  {
   "cell_type": "markdown",
   "metadata": {},
   "source": [
    "From here, we would need to decide what qualifies an offense for our futher analysis. Arbitrarily, if an offense has a punishment severity frequency of 1.00, that offense will not be kept. Any other offenses will be kept. "
   ]
  },
  {
   "cell_type": "code",
   "execution_count": 132,
   "metadata": {},
   "outputs": [
    {
     "name": "stdout",
     "output_type": "stream",
     "text": [
      "                                    F     I     M     V\n",
      "OFNS_CAT                                               \n",
      "Administrative Codes             0.00  0.00  0.02  0.97\n",
      "Assault                          0.28  0.00  0.72  0.00\n",
      "Criminal Mischief                0.37  0.00  0.63  0.00\n",
      "DANGEROUS DRUGS                  0.26  0.00  0.74  0.00\n",
      "DANGEROUS WEAPONS                0.47  0.00  0.53  0.00\n",
      "DUI                              0.10  0.00  0.90  0.00\n",
      "ENDAN WELFARE INCOMP             0.41  0.00  0.59  0.00\n",
      "ESCAPE 3                         0.06  0.00  0.94  0.00\n",
      "GAMBLING                         0.22  0.00  0.78  0.00\n",
      "Harassment                       0.00  0.00  0.84  0.16\n",
      "MISCELLANEOUS PENAL LAW          0.90  0.00  0.00  0.10\n",
      "OFFENSES AGAINST PUBLIC SAFETY   0.04  0.00  0.96  0.00\n",
      "OTHER STATE LAWS                 0.05  0.00  0.25  0.70\n",
      "OTHER TRAFFIC INFRACTION         0.00  0.09  0.91  0.00\n",
      "POSSESSION OF STOLEN PROPERTY    0.10  0.00  0.90  0.00\n",
      "PROSTITUTION & RELATED OFFENSES  0.04  0.00  0.96  0.01\n",
      "SEX CRIMES                       0.31  0.00  0.69  0.00\n",
      "VEHICLE AND TRAFFIC LAWS         0.05  0.00  0.95  0.00\n"
     ]
    }
   ],
   "source": [
    "for i in ofns_sevdf.index:\n",
    "    if (float(max(ofns_sevdf.loc[i])) == 1.00):\n",
    "        ofns_sevdf.drop(i, inplace=True)\n",
    "print(ofns_sevdf)"
   ]
  },
  {
   "cell_type": "code",
   "execution_count": 134,
   "metadata": {},
   "outputs": [
    {
     "name": "stdout",
     "output_type": "stream",
     "text": [
      "F    object\n",
      "I    object\n",
      "M    object\n",
      "V    object\n",
      "dtype: object\n",
      "F    float64\n",
      "I    float64\n",
      "M    float64\n",
      "V    float64\n",
      "dtype: object\n"
     ]
    }
   ],
   "source": [
    "print(ofns_sevdf.dtypes)\n",
    "ofns_sevdf = ofns_sevdf.astype({\"F\": float,\n",
    "                              \"I\": float,\n",
    "                              \"M\": float,\n",
    "                              \"V\": float})\n",
    "print(ofns_sevdf.dtypes)"
   ]
  },
  {
   "cell_type": "code",
   "execution_count": 136,
   "metadata": {},
   "outputs": [
    {
     "name": "stdout",
     "output_type": "stream",
     "text": [
      "Index(['Administrative Codes', 'Assault', 'Criminal Mischief',\n",
      "       'DANGEROUS DRUGS', 'DANGEROUS WEAPONS', 'DUI', 'ENDAN WELFARE INCOMP',\n",
      "       'ESCAPE 3', 'GAMBLING', 'Harassment', 'MISCELLANEOUS PENAL LAW',\n",
      "       'OFFENSES AGAINST PUBLIC SAFETY', 'OTHER STATE LAWS',\n",
      "       'OTHER TRAFFIC INFRACTION', 'POSSESSION OF STOLEN PROPERTY',\n",
      "       'PROSTITUTION & RELATED OFFENSES', 'SEX CRIMES',\n",
      "       'VEHICLE AND TRAFFIC LAWS'],\n",
      "      dtype='object', name='OFNS_CAT')\n",
      "18\n"
     ]
    }
   ],
   "source": [
    "offenses = ofns_sevdf.index\n",
    "print(offenses)\n",
    "print(len(offenses))"
   ]
  },
  {
   "cell_type": "markdown",
   "metadata": {},
   "source": [
    "Perfect! Now that we have the 18 offenses that we are interested in, the same analysis that was done before can be completed again."
   ]
  },
  {
   "cell_type": "markdown",
   "metadata": {},
   "source": [
    "## *Exploratory Data Analysis*"
   ]
  },
  {
   "cell_type": "code",
   "execution_count": 140,
   "metadata": {},
   "outputs": [
    {
     "data": {
      "image/png": "[encoded data removed]",
      "text/plain": [
       "<Figure size 432x288 with 1 Axes>"
      ]
     },
     "metadata": {},
     "output_type": "display_data"
    }
   ],
   "source": [
    "import seaborn as sns\n",
    "import matplotlib.pyplot as plt\n",
    "\n",
    "sns.set_style(\"whitegrid\")\n",
    "sns.set_palette(sns.husl_palette(4, l = .775))\n",
    "\n",
    "g = ofns_sevdf.plot(kind = 'bar', stacked = True, grid = False)\n",
    "plt.xlabel(\"Offense\") \n",
    "plt.ylabel(\"Proportion\")\n",
    "plt.ylim(0,1.0) \n",
    "plt.title(\"Proportions of Punishment Severities by Offense\")\n",
    "plt.savefig('18offensesproportions.png')\n",
    "plt.show(g)"
   ]
  },
  {
   "cell_type": "markdown",
   "metadata": {},
   "source": [
    "The way we're going to be going about this will be as follows:\n",
    "* iterate through specific offenses above that have the most variation in punishment given \n",
    "* subset the dataset to only contain data from the current offense\n",
    "* construct a frequency table that indicates the proportions of different punishment severities handed to different racial groups for that offense\n",
    "* add the frequency table to a list for future statistical tests\n",
    "* construct bar plots to demonstrate differences in frequencies"
   ]
  },
  {
   "cell_type": "code",
   "execution_count": 183,
   "metadata": {},
   "outputs": [],
   "source": [
    "offenses = ['Assault', 'Criminal Mischief','DANGEROUS DRUGS', 'DANGEROUS WEAPONS', 'ENDAN WELFARE INCOMP',\n",
    "            'MISCELLANEOUS PENAL LAW','OTHER STATE LAWS','SEX CRIMES']"
   ]
  },
  {
   "cell_type": "code",
   "execution_count": 184,
   "metadata": {},
   "outputs": [
    {
     "name": "stdout",
     "output_type": "stream",
     "text": [
      "Assault\n",
      "2\n",
      "6     ASSAULT 3 & RELATED OFFENSES\n",
      "21                  FELONY ASSAULT\n",
      "Name: OFNS_DESC, dtype: object\n",
      "==================================================\n",
      "\n",
      "Criminal Mischief\n",
      "2\n",
      "11          CRIMINAL MISCHIEF & RELATED OF\n",
      "12    CRIMINAL MISCHIEF & RELATED OFFENSES\n",
      "Name: OFNS_DESC, dtype: object\n",
      "==================================================\n",
      "\n",
      "DANGEROUS DRUGS\n",
      "1\n",
      "14    DANGEROUS DRUGS\n",
      "Name: OFNS_DESC, dtype: object\n",
      "==================================================\n",
      "\n",
      "DANGEROUS WEAPONS\n",
      "1\n",
      "15    DANGEROUS WEAPONS\n",
      "Name: OFNS_DESC, dtype: object\n",
      "==================================================\n",
      "\n",
      "ENDAN WELFARE INCOMP\n",
      "1\n",
      "18    ENDAN WELFARE INCOMP\n",
      "Name: OFNS_DESC, dtype: object\n",
      "==================================================\n",
      "\n",
      "MISCELLANEOUS PENAL LAW\n",
      "1\n",
      "42    MISCELLANEOUS PENAL LAW\n",
      "Name: OFNS_DESC, dtype: object\n",
      "==================================================\n",
      "\n",
      "OTHER STATE LAWS\n",
      "3\n",
      "59                    OTHER STATE LAWS\n",
      "60      OTHER STATE LAWS (NON PENAL LA\n",
      "61    OTHER STATE LAWS (NON PENAL LAW)\n",
      "Name: OFNS_DESC, dtype: object\n",
      "==================================================\n",
      "\n",
      "SEX CRIMES\n",
      "1\n",
      "70    SEX CRIMES\n",
      "Name: OFNS_DESC, dtype: object\n",
      "==================================================\n",
      "\n"
     ]
    }
   ],
   "source": [
    "for i in offenses:\n",
    "    print(i)\n",
    "    print(len(new_desc[\"OFNS_DESC\"][new_desc[new_desc[\"New Desc\"] == i].index]))\n",
    "    print(new_desc[\"OFNS_DESC\"][new_desc[new_desc[\"New Desc\"] == i].index])\n",
    "    print('==================================================\\n')"
   ]
  },
  {
   "cell_type": "markdown",
   "metadata": {},
   "source": [
    "### *Offense: Assault*"
   ]
  },
  {
   "cell_type": "code",
   "execution_count": 189,
   "metadata": {},
   "outputs": [
    {
     "data": {
      "text/html": [
       "<div>\n",
       "<style scoped>\n",
       "    .dataframe tbody tr th:only-of-type {\n",
       "        vertical-align: middle;\n",
       "    }\n",
       "\n",
       "    .dataframe tbody tr th {\n",
       "        vertical-align: top;\n",
       "    }\n",
       "\n",
       "    .dataframe thead th {\n",
       "        text-align: right;\n",
       "    }\n",
       "</style>\n",
       "<table border=\"1\" class=\"dataframe\">\n",
       "  <thead>\n",
       "    <tr style=\"text-align: right;\">\n",
       "      <th>LAW_CAT_CD</th>\n",
       "      <th>F</th>\n",
       "      <th>M</th>\n",
       "    </tr>\n",
       "    <tr>\n",
       "      <th>PERP_RACE</th>\n",
       "      <th></th>\n",
       "      <th></th>\n",
       "    </tr>\n",
       "  </thead>\n",
       "  <tbody>\n",
       "    <tr>\n",
       "      <th>AMERICAN INDIAN/ALASKAN NATIVE</th>\n",
       "      <td>474</td>\n",
       "      <td>1405</td>\n",
       "    </tr>\n",
       "    <tr>\n",
       "      <th>ASIAN / PACIFIC ISLANDER</th>\n",
       "      <td>9016</td>\n",
       "      <td>23202</td>\n",
       "    </tr>\n",
       "    <tr>\n",
       "      <th>BLACK</th>\n",
       "      <td>92927</td>\n",
       "      <td>216171</td>\n",
       "    </tr>\n",
       "    <tr>\n",
       "      <th>BLACK HISPANIC</th>\n",
       "      <td>14636</td>\n",
       "      <td>37079</td>\n",
       "    </tr>\n",
       "    <tr>\n",
       "      <th>OTHER</th>\n",
       "      <td>45</td>\n",
       "      <td>117</td>\n",
       "    </tr>\n",
       "    <tr>\n",
       "      <th>WHITE</th>\n",
       "      <td>16325</td>\n",
       "      <td>50772</td>\n",
       "    </tr>\n",
       "    <tr>\n",
       "      <th>WHITE HISPANIC</th>\n",
       "      <td>46637</td>\n",
       "      <td>127489</td>\n",
       "    </tr>\n",
       "  </tbody>\n",
       "</table>\n",
       "</div>"
      ],
      "text/plain": [
       "LAW_CAT_CD                          F       M\n",
       "PERP_RACE                                    \n",
       "AMERICAN INDIAN/ALASKAN NATIVE    474    1405\n",
       "ASIAN / PACIFIC ISLANDER         9016   23202\n",
       "BLACK                           92927  216171\n",
       "BLACK HISPANIC                  14636   37079\n",
       "OTHER                              45     117\n",
       "WHITE                           16325   50772\n",
       "WHITE HISPANIC                  46637  127489"
      ]
     },
     "execution_count": 189,
     "metadata": {},
     "output_type": "execute_result"
    }
   ],
   "source": [
    "pos_names = [\"ASSAULT 3 & RELATED OFFENSES\", \"FELONY ASSAULT\"]\n",
    "temp_arrestsdf = arrestsdf[arrestsdf[\"OFNS_DESC\"].isin(pos_names)]\n",
    "\n",
    "race_sev_assault = pd.crosstab(temp_arrestsdf['PERP_RACE'], temp_arrestsdf['LAW_CAT_CD'])\n",
    "race_sev_assault"
   ]
  },
  {
   "cell_type": "code",
   "execution_count": 190,
   "metadata": {},
   "outputs": [
    {
     "name": "stdout",
     "output_type": "stream",
     "text": [
      "LAW_CAT_CD                         F     M\n",
      "PERP_RACE                                 \n",
      "AMERICAN INDIAN/ALASKAN NATIVE  0.25  0.75\n",
      "ASIAN / PACIFIC ISLANDER        0.28  0.72\n",
      "BLACK                           0.30  0.70\n",
      "BLACK HISPANIC                  0.28  0.72\n",
      "OTHER                           0.28  0.72\n",
      "WHITE                           0.24  0.76\n",
      "WHITE HISPANIC                  0.27  0.73\n"
     ]
    },
    {
     "data": {
      "image/png": "[encoded data removed]",
      "text/plain": [
       "<Figure size 432x288 with 1 Axes>"
      ]
     },
     "metadata": {},
     "output_type": "display_data"
    }
   ],
   "source": [
    "for i in race_sev_assault.index:\n",
    "    total = sum(race_sev_assault.loc[i])\n",
    "    new_row = [\"%.2f\" % (race_sev_assault.loc[i][\"F\"]/total),\n",
    "              \"%.2f\" % (race_sev_assault.loc[i][\"M\"]/total)]\n",
    "    race_sev_assault.loc[i] = new_row\n",
    "print(race_sev_assault)\n",
    "\n",
    "race_sev_assault = race_sev_assault.astype({\"F\": float,\n",
    "                                          \"M\": float})\n",
    "\n",
    "sns.set_style(\"whitegrid\")\n",
    "sns.set_palette(sns.husl_palette(4, l = .775))\n",
    "\n",
    "g = race_sev_assault.plot(kind = 'bar', stacked = True, grid = False)\n",
    "plt.xlabel(\"Race of Perpetrator\") \n",
    "plt.ylabel(\"Proportion\")\n",
    "plt.ylim(0,1.0) \n",
    "plt.title(\"Proportions of Assault Punishment Severities by Race\")\n",
    "plt.savefig('assaultsbyrace.png')\n",
    "plt.show(g)"
   ]
  },
  {
   "cell_type": "markdown",
   "metadata": {},
   "source": [
    "### *Offense: Criminal Mischief*"
   ]
  },
  {
   "cell_type": "code",
   "execution_count": 191,
   "metadata": {},
   "outputs": [
    {
     "name": "stdout",
     "output_type": "stream",
     "text": [
      "11          CRIMINAL MISCHIEF & RELATED OF\n",
      "12    CRIMINAL MISCHIEF & RELATED OFFENSES\n",
      "Name: OFNS_DESC, dtype: object\n"
     ]
    }
   ],
   "source": [
    "print(new_desc[\"OFNS_DESC\"][new_desc[new_desc[\"New Desc\"] == \"Criminal Mischief\"].index])"
   ]
  },
  {
   "cell_type": "code",
   "execution_count": 192,
   "metadata": {},
   "outputs": [
    {
     "data": {
      "text/html": [
       "<div>\n",
       "<style scoped>\n",
       "    .dataframe tbody tr th:only-of-type {\n",
       "        vertical-align: middle;\n",
       "    }\n",
       "\n",
       "    .dataframe tbody tr th {\n",
       "        vertical-align: top;\n",
       "    }\n",
       "\n",
       "    .dataframe thead th {\n",
       "        text-align: right;\n",
       "    }\n",
       "</style>\n",
       "<table border=\"1\" class=\"dataframe\">\n",
       "  <thead>\n",
       "    <tr style=\"text-align: right;\">\n",
       "      <th>LAW_CAT_CD</th>\n",
       "      <th>F</th>\n",
       "      <th>M</th>\n",
       "    </tr>\n",
       "    <tr>\n",
       "      <th>PERP_RACE</th>\n",
       "      <th></th>\n",
       "      <th></th>\n",
       "    </tr>\n",
       "  </thead>\n",
       "  <tbody>\n",
       "    <tr>\n",
       "      <th>AMERICAN INDIAN/ALASKAN NATIVE</th>\n",
       "      <td>122</td>\n",
       "      <td>253</td>\n",
       "    </tr>\n",
       "    <tr>\n",
       "      <th>ASIAN / PACIFIC ISLANDER</th>\n",
       "      <td>2563</td>\n",
       "      <td>3645</td>\n",
       "    </tr>\n",
       "    <tr>\n",
       "      <th>BLACK</th>\n",
       "      <td>23315</td>\n",
       "      <td>34338</td>\n",
       "    </tr>\n",
       "    <tr>\n",
       "      <th>BLACK HISPANIC</th>\n",
       "      <td>3810</td>\n",
       "      <td>7520</td>\n",
       "    </tr>\n",
       "    <tr>\n",
       "      <th>OTHER</th>\n",
       "      <td>7</td>\n",
       "      <td>24</td>\n",
       "    </tr>\n",
       "    <tr>\n",
       "      <th>WHITE</th>\n",
       "      <td>9430</td>\n",
       "      <td>19327</td>\n",
       "    </tr>\n",
       "    <tr>\n",
       "      <th>WHITE HISPANIC</th>\n",
       "      <td>14750</td>\n",
       "      <td>27558</td>\n",
       "    </tr>\n",
       "  </tbody>\n",
       "</table>\n",
       "</div>"
      ],
      "text/plain": [
       "LAW_CAT_CD                          F      M\n",
       "PERP_RACE                                   \n",
       "AMERICAN INDIAN/ALASKAN NATIVE    122    253\n",
       "ASIAN / PACIFIC ISLANDER         2563   3645\n",
       "BLACK                           23315  34338\n",
       "BLACK HISPANIC                   3810   7520\n",
       "OTHER                               7     24\n",
       "WHITE                            9430  19327\n",
       "WHITE HISPANIC                  14750  27558"
      ]
     },
     "execution_count": 192,
     "metadata": {},
     "output_type": "execute_result"
    }
   ],
   "source": [
    "pos_names = [\"CRIMINAL MISCHIEF & RELATED OF\", \"CRIMINAL MISCHIEF & RELATED OFFENSES\"]\n",
    "temp_arrestsdf = arrestsdf[arrestsdf[\"OFNS_DESC\"].isin(pos_names)]\n",
    "\n",
    "race_sev_mischief = pd.crosstab(temp_arrestsdf['PERP_RACE'], temp_arrestsdf['LAW_CAT_CD'])\n",
    "race_sev_mischief"
   ]
  },
  {
   "cell_type": "code",
   "execution_count": 193,
   "metadata": {},
   "outputs": [
    {
     "name": "stdout",
     "output_type": "stream",
     "text": [
      "LAW_CAT_CD                         F     M\n",
      "PERP_RACE                                 \n",
      "AMERICAN INDIAN/ALASKAN NATIVE  0.33  0.67\n",
      "ASIAN / PACIFIC ISLANDER        0.41  0.59\n",
      "BLACK                           0.40  0.60\n",
      "BLACK HISPANIC                  0.34  0.66\n",
      "OTHER                           0.23  0.77\n",
      "WHITE                           0.33  0.67\n",
      "WHITE HISPANIC                  0.35  0.65\n"
     ]
    },
    {
     "data": {
      "image/png": "[encoded data removed]",
      "text/plain": [
       "<Figure size 432x288 with 1 Axes>"
      ]
     },
     "metadata": {},
     "output_type": "display_data"
    }
   ],
   "source": [
    "for i in race_sev_mischief.index:\n",
    "    total = sum(race_sev_mischief.loc[i])\n",
    "    new_row = [\"%.2f\" % (race_sev_mischief.loc[i][\"F\"]/total),\n",
    "              \"%.2f\" % (race_sev_mischief.loc[i][\"M\"]/total)]\n",
    "    race_sev_mischief.loc[i] = new_row\n",
    "print(race_sev_mischief)\n",
    "\n",
    "race_sev_mischief = race_sev_mischief.astype({\"F\": float,\n",
    "                                              \"M\": float})\n",
    "\n",
    "sns.set_style(\"whitegrid\")\n",
    "sns.set_palette(sns.husl_palette(4, l = .775))\n",
    "\n",
    "g = race_sev_mischief.plot(kind = 'bar', stacked = True, grid = False)\n",
    "plt.xlabel(\"Race of Perpetrator\") \n",
    "plt.ylabel(\"Proportion\")\n",
    "plt.ylim(0,1.0) \n",
    "plt.title(\"Proportions of Criminal Mischief Punishment Severities by Race\")\n",
    "plt.savefig('criminalmischiefbyrace.png')\n",
    "plt.show(g)"
   ]
  },
  {
   "cell_type": "markdown",
   "metadata": {},
   "source": [
    "### *Offense: Dangerous Drugs*"
   ]
  },
  {
   "cell_type": "code",
   "execution_count": 195,
   "metadata": {},
   "outputs": [
    {
     "name": "stdout",
     "output_type": "stream",
     "text": [
      "14    DANGEROUS DRUGS\n",
      "Name: OFNS_DESC, dtype: object\n"
     ]
    }
   ],
   "source": [
    "print(new_desc[\"OFNS_DESC\"][new_desc[new_desc[\"New Desc\"] == 'DANGEROUS DRUGS'].index])"
   ]
  },
  {
   "cell_type": "code",
   "execution_count": 196,
   "metadata": {},
   "outputs": [
    {
     "data": {
      "text/html": [
       "<div>\n",
       "<style scoped>\n",
       "    .dataframe tbody tr th:only-of-type {\n",
       "        vertical-align: middle;\n",
       "    }\n",
       "\n",
       "    .dataframe tbody tr th {\n",
       "        vertical-align: top;\n",
       "    }\n",
       "\n",
       "    .dataframe thead th {\n",
       "        text-align: right;\n",
       "    }\n",
       "</style>\n",
       "<table border=\"1\" class=\"dataframe\">\n",
       "  <thead>\n",
       "    <tr style=\"text-align: right;\">\n",
       "      <th>LAW_CAT_CD</th>\n",
       "      <th>F</th>\n",
       "      <th>M</th>\n",
       "    </tr>\n",
       "    <tr>\n",
       "      <th>PERP_RACE</th>\n",
       "      <th></th>\n",
       "      <th></th>\n",
       "    </tr>\n",
       "  </thead>\n",
       "  <tbody>\n",
       "    <tr>\n",
       "      <th>AMERICAN INDIAN/ALASKAN NATIVE</th>\n",
       "      <td>198</td>\n",
       "      <td>1146</td>\n",
       "    </tr>\n",
       "    <tr>\n",
       "      <th>ASIAN / PACIFIC ISLANDER</th>\n",
       "      <td>4345</td>\n",
       "      <td>16592</td>\n",
       "    </tr>\n",
       "    <tr>\n",
       "      <th>BLACK</th>\n",
       "      <td>129233</td>\n",
       "      <td>396241</td>\n",
       "    </tr>\n",
       "    <tr>\n",
       "      <th>BLACK HISPANIC</th>\n",
       "      <td>29675</td>\n",
       "      <td>70193</td>\n",
       "    </tr>\n",
       "    <tr>\n",
       "      <th>OTHER</th>\n",
       "      <td>36</td>\n",
       "      <td>188</td>\n",
       "    </tr>\n",
       "    <tr>\n",
       "      <th>WHITE</th>\n",
       "      <td>29639</td>\n",
       "      <td>99030</td>\n",
       "    </tr>\n",
       "    <tr>\n",
       "      <th>WHITE HISPANIC</th>\n",
       "      <td>76651</td>\n",
       "      <td>195655</td>\n",
       "    </tr>\n",
       "  </tbody>\n",
       "</table>\n",
       "</div>"
      ],
      "text/plain": [
       "LAW_CAT_CD                           F       M\n",
       "PERP_RACE                                     \n",
       "AMERICAN INDIAN/ALASKAN NATIVE     198    1146\n",
       "ASIAN / PACIFIC ISLANDER          4345   16592\n",
       "BLACK                           129233  396241\n",
       "BLACK HISPANIC                   29675   70193\n",
       "OTHER                               36     188\n",
       "WHITE                            29639   99030\n",
       "WHITE HISPANIC                   76651  195655"
      ]
     },
     "execution_count": 196,
     "metadata": {},
     "output_type": "execute_result"
    }
   ],
   "source": [
    "pos_names = [\"DANGEROUS DRUGS\"]\n",
    "temp_arrestsdf = arrestsdf[arrestsdf[\"OFNS_DESC\"].isin(pos_names)]\n",
    "\n",
    "race_sev_drugs = pd.crosstab(temp_arrestsdf['PERP_RACE'], temp_arrestsdf['LAW_CAT_CD'])\n",
    "race_sev_drugs"
   ]
  },
  {
   "cell_type": "code",
   "execution_count": 197,
   "metadata": {},
   "outputs": [
    {
     "name": "stdout",
     "output_type": "stream",
     "text": [
      "LAW_CAT_CD                         F     M\n",
      "PERP_RACE                                 \n",
      "AMERICAN INDIAN/ALASKAN NATIVE  0.15  0.85\n",
      "ASIAN / PACIFIC ISLANDER        0.21  0.79\n",
      "BLACK                           0.25  0.75\n",
      "BLACK HISPANIC                  0.30  0.70\n",
      "OTHER                           0.16  0.84\n",
      "WHITE                           0.23  0.77\n",
      "WHITE HISPANIC                  0.28  0.72\n"
     ]
    },
    {
     "data": {
      "image/png": "[encoded data removed]",
      "text/plain": [
       "<Figure size 432x288 with 1 Axes>"
      ]
     },
     "metadata": {},
     "output_type": "display_data"
    }
   ],
   "source": [
    "for i in race_sev_drugs.index:\n",
    "    total = sum(race_sev_drugs.loc[i])\n",
    "    new_row = [\"%.2f\" % (race_sev_drugs.loc[i][\"F\"]/total),\n",
    "              \"%.2f\" % (race_sev_drugs.loc[i][\"M\"]/total)]\n",
    "    race_sev_drugs.loc[i] = new_row\n",
    "print(race_sev_drugs)\n",
    "\n",
    "race_sev_drugs = race_sev_drugs.astype({\"F\": float,\n",
    "                                        \"M\": float})\n",
    "\n",
    "sns.set_style(\"whitegrid\")\n",
    "sns.set_palette(sns.husl_palette(4, l = .775))\n",
    "\n",
    "g = race_sev_drugs.plot(kind = 'bar', stacked = True, grid = False)\n",
    "plt.xlabel(\"Race of Perpetrator\") \n",
    "plt.ylabel(\"Proportion\")\n",
    "plt.ylim(0,1.0) \n",
    "plt.title(\"Proportions of Dangerous Drugs Punishment Severities by Race\")\n",
    "plt.savefig('drugsbyrace.png')\n",
    "plt.show(g)"
   ]
  },
  {
   "cell_type": "markdown",
   "metadata": {},
   "source": [
    "### *Offense: Dangerous Weapons*"
   ]
  },
  {
   "cell_type": "code",
   "execution_count": 198,
   "metadata": {},
   "outputs": [
    {
     "name": "stdout",
     "output_type": "stream",
     "text": [
      "15    DANGEROUS WEAPONS\n",
      "Name: OFNS_DESC, dtype: object\n"
     ]
    }
   ],
   "source": [
    "print(new_desc[\"OFNS_DESC\"][new_desc[new_desc[\"New Desc\"] == 'DANGEROUS WEAPONS'].index])"
   ]
  },
  {
   "cell_type": "code",
   "execution_count": 203,
   "metadata": {},
   "outputs": [
    {
     "data": {
      "text/html": [
       "<div>\n",
       "<style scoped>\n",
       "    .dataframe tbody tr th:only-of-type {\n",
       "        vertical-align: middle;\n",
       "    }\n",
       "\n",
       "    .dataframe tbody tr th {\n",
       "        vertical-align: top;\n",
       "    }\n",
       "\n",
       "    .dataframe thead th {\n",
       "        text-align: right;\n",
       "    }\n",
       "</style>\n",
       "<table border=\"1\" class=\"dataframe\">\n",
       "  <thead>\n",
       "    <tr style=\"text-align: right;\">\n",
       "      <th>LAW_CAT_CD</th>\n",
       "      <th>F</th>\n",
       "      <th>M</th>\n",
       "    </tr>\n",
       "    <tr>\n",
       "      <th>PERP_RACE</th>\n",
       "      <th></th>\n",
       "      <th></th>\n",
       "    </tr>\n",
       "  </thead>\n",
       "  <tbody>\n",
       "    <tr>\n",
       "      <th>AMERICAN INDIAN/ALASKAN NATIVE</th>\n",
       "      <td>69</td>\n",
       "      <td>194</td>\n",
       "    </tr>\n",
       "    <tr>\n",
       "      <th>ASIAN / PACIFIC ISLANDER</th>\n",
       "      <td>1406</td>\n",
       "      <td>2600</td>\n",
       "    </tr>\n",
       "    <tr>\n",
       "      <th>BLACK</th>\n",
       "      <td>54535</td>\n",
       "      <td>41423</td>\n",
       "    </tr>\n",
       "    <tr>\n",
       "      <th>BLACK HISPANIC</th>\n",
       "      <td>6455</td>\n",
       "      <td>9309</td>\n",
       "    </tr>\n",
       "    <tr>\n",
       "      <th>OTHER</th>\n",
       "      <td>8</td>\n",
       "      <td>24</td>\n",
       "    </tr>\n",
       "    <tr>\n",
       "      <th>WHITE</th>\n",
       "      <td>5743</td>\n",
       "      <td>12028</td>\n",
       "    </tr>\n",
       "    <tr>\n",
       "      <th>WHITE HISPANIC</th>\n",
       "      <td>17899</td>\n",
       "      <td>29965</td>\n",
       "    </tr>\n",
       "  </tbody>\n",
       "</table>\n",
       "</div>"
      ],
      "text/plain": [
       "LAW_CAT_CD                          F      M\n",
       "PERP_RACE                                   \n",
       "AMERICAN INDIAN/ALASKAN NATIVE     69    194\n",
       "ASIAN / PACIFIC ISLANDER         1406   2600\n",
       "BLACK                           54535  41423\n",
       "BLACK HISPANIC                   6455   9309\n",
       "OTHER                               8     24\n",
       "WHITE                            5743  12028\n",
       "WHITE HISPANIC                  17899  29965"
      ]
     },
     "execution_count": 203,
     "metadata": {},
     "output_type": "execute_result"
    }
   ],
   "source": [
    "pos_names = [\"DANGEROUS WEAPONS\"]\n",
    "temp_arrestsdf = arrestsdf[arrestsdf[\"OFNS_DESC\"].isin(pos_names)]\n",
    "\n",
    "race_sev_weapons = pd.crosstab(temp_arrestsdf['PERP_RACE'], temp_arrestsdf['LAW_CAT_CD'])\n",
    "race_sev_weapons"
   ]
  },
  {
   "cell_type": "code",
   "execution_count": 204,
   "metadata": {},
   "outputs": [
    {
     "name": "stdout",
     "output_type": "stream",
     "text": [
      "LAW_CAT_CD                         F     M\n",
      "PERP_RACE                                 \n",
      "AMERICAN INDIAN/ALASKAN NATIVE  0.26  0.74\n",
      "ASIAN / PACIFIC ISLANDER        0.35  0.65\n",
      "BLACK                           0.57  0.43\n",
      "BLACK HISPANIC                  0.41  0.59\n",
      "OTHER                           0.25  0.75\n",
      "WHITE                           0.32  0.68\n",
      "WHITE HISPANIC                  0.37  0.63\n"
     ]
    },
    {
     "data": {
      "image/png": "[encoded data removed]",
      "text/plain": [
       "<Figure size 432x288 with 1 Axes>"
      ]
     },
     "metadata": {},
     "output_type": "display_data"
    }
   ],
   "source": [
    "for i in race_sev_weapons.index:\n",
    "    total = sum(race_sev_weapons.loc[i])\n",
    "    new_row = [\"%.2f\" % (race_sev_weapons.loc[i][\"F\"]/total),\n",
    "              \"%.2f\" % (race_sev_weapons.loc[i][\"M\"]/total)]\n",
    "    race_sev_weapons.loc[i] = new_row\n",
    "print(race_sev_weapons)\n",
    "\n",
    "race_sev_weapons = race_sev_weapons.astype({\"F\": float, \n",
    "                                          \"M\": float})\n",
    "\n",
    "sns.set_style(\"whitegrid\")\n",
    "sns.set_palette(sns.husl_palette(4, l = .775))\n",
    "\n",
    "g = race_sev_weapons.plot(kind = 'bar', stacked = True, grid = False)\n",
    "plt.xlabel(\"Race of Perpetrator\") \n",
    "plt.ylabel(\"Proportion\")\n",
    "plt.ylim(0,1.0) \n",
    "plt.title(\"Proportions of Dangerous Weapons Punishment Severities by Race\")\n",
    "plt.savefig('weaponsbyrace.png')\n",
    "plt.show(g)"
   ]
  },
  {
   "cell_type": "markdown",
   "metadata": {},
   "source": [
    "### *Offense: Endan Welfare Incomp*"
   ]
  },
  {
   "cell_type": "code",
   "execution_count": 206,
   "metadata": {},
   "outputs": [
    {
     "name": "stdout",
     "output_type": "stream",
     "text": [
      "18    ENDAN WELFARE INCOMP\n",
      "Name: OFNS_DESC, dtype: object\n"
     ]
    }
   ],
   "source": [
    "print(new_desc[\"OFNS_DESC\"][new_desc[new_desc[\"New Desc\"] == 'ENDAN WELFARE INCOMP'].index])"
   ]
  },
  {
   "cell_type": "code",
   "execution_count": 207,
   "metadata": {},
   "outputs": [
    {
     "data": {
      "text/html": [
       "<div>\n",
       "<style scoped>\n",
       "    .dataframe tbody tr th:only-of-type {\n",
       "        vertical-align: middle;\n",
       "    }\n",
       "\n",
       "    .dataframe tbody tr th {\n",
       "        vertical-align: top;\n",
       "    }\n",
       "\n",
       "    .dataframe thead th {\n",
       "        text-align: right;\n",
       "    }\n",
       "</style>\n",
       "<table border=\"1\" class=\"dataframe\">\n",
       "  <thead>\n",
       "    <tr style=\"text-align: right;\">\n",
       "      <th>LAW_CAT_CD</th>\n",
       "      <th>F</th>\n",
       "      <th>M</th>\n",
       "    </tr>\n",
       "    <tr>\n",
       "      <th>PERP_RACE</th>\n",
       "      <th></th>\n",
       "      <th></th>\n",
       "    </tr>\n",
       "  </thead>\n",
       "  <tbody>\n",
       "    <tr>\n",
       "      <th>ASIAN / PACIFIC ISLANDER</th>\n",
       "      <td>8</td>\n",
       "      <td>9</td>\n",
       "    </tr>\n",
       "    <tr>\n",
       "      <th>BLACK</th>\n",
       "      <td>72</td>\n",
       "      <td>87</td>\n",
       "    </tr>\n",
       "    <tr>\n",
       "      <th>BLACK HISPANIC</th>\n",
       "      <td>7</td>\n",
       "      <td>14</td>\n",
       "    </tr>\n",
       "    <tr>\n",
       "      <th>WHITE</th>\n",
       "      <td>10</td>\n",
       "      <td>11</td>\n",
       "    </tr>\n",
       "    <tr>\n",
       "      <th>WHITE HISPANIC</th>\n",
       "      <td>33</td>\n",
       "      <td>66</td>\n",
       "    </tr>\n",
       "  </tbody>\n",
       "</table>\n",
       "</div>"
      ],
      "text/plain": [
       "LAW_CAT_CD                 F   M\n",
       "PERP_RACE                       \n",
       "ASIAN / PACIFIC ISLANDER   8   9\n",
       "BLACK                     72  87\n",
       "BLACK HISPANIC             7  14\n",
       "WHITE                     10  11\n",
       "WHITE HISPANIC            33  66"
      ]
     },
     "execution_count": 207,
     "metadata": {},
     "output_type": "execute_result"
    }
   ],
   "source": [
    "pos_names = [\"ENDAN WELFARE INCOMP\"]\n",
    "temp_arrestsdf = arrestsdf[arrestsdf[\"OFNS_DESC\"].isin(pos_names)]\n",
    "\n",
    "race_sev_welfare = pd.crosstab(temp_arrestsdf['PERP_RACE'], temp_arrestsdf['LAW_CAT_CD'])\n",
    "race_sev_welfare"
   ]
  },
  {
   "cell_type": "code",
   "execution_count": 208,
   "metadata": {},
   "outputs": [
    {
     "name": "stdout",
     "output_type": "stream",
     "text": [
      "LAW_CAT_CD                   F     M\n",
      "PERP_RACE                           \n",
      "ASIAN / PACIFIC ISLANDER  0.47  0.53\n",
      "BLACK                     0.45  0.55\n",
      "BLACK HISPANIC            0.33  0.67\n",
      "WHITE                     0.48  0.52\n",
      "WHITE HISPANIC            0.33  0.67\n"
     ]
    },
    {
     "data": {
      "image/png": "[encoded data removed]",
      "text/plain": [
       "<Figure size 432x288 with 1 Axes>"
      ]
     },
     "metadata": {},
     "output_type": "display_data"
    }
   ],
   "source": [
    "for i in race_sev_welfare.index:\n",
    "    total = sum(race_sev_welfare.loc[i])\n",
    "    new_row = [\"%.2f\" % (race_sev_welfare.loc[i][\"F\"]/total),\n",
    "              \"%.2f\" % (race_sev_welfare.loc[i][\"M\"]/total)]\n",
    "    race_sev_welfare.loc[i] = new_row\n",
    "print(race_sev_welfare)\n",
    "\n",
    "race_sev_welfare = race_sev_welfare.astype({\"F\": float, \n",
    "                                          \"M\": float})\n",
    "\n",
    "sns.set_style(\"whitegrid\")\n",
    "sns.set_palette(sns.husl_palette(4, l = .775))\n",
    "\n",
    "g = race_sev_welfare.plot(kind = 'bar', stacked = True, grid = False)\n",
    "plt.xlabel(\"Race of Perpetrator\") \n",
    "plt.ylabel(\"Proportion\")\n",
    "plt.ylim(0,1.0) \n",
    "plt.title(\"Proportions of Endan Welfare Incomp Punishment Severities by Race\")\n",
    "plt.savefig('welfarebyrace.png')\n",
    "plt.show(g)"
   ]
  },
  {
   "cell_type": "markdown",
   "metadata": {},
   "source": [
    "### *Offense: Misc. Penal Law*"
   ]
  },
  {
   "cell_type": "code",
   "execution_count": 209,
   "metadata": {},
   "outputs": [
    {
     "name": "stdout",
     "output_type": "stream",
     "text": [
      "42    MISCELLANEOUS PENAL LAW\n",
      "Name: OFNS_DESC, dtype: object\n"
     ]
    }
   ],
   "source": [
    "print(new_desc[\"OFNS_DESC\"][new_desc[new_desc[\"New Desc\"] == 'MISCELLANEOUS PENAL LAW'].index])"
   ]
  },
  {
   "cell_type": "code",
   "execution_count": 210,
   "metadata": {},
   "outputs": [
    {
     "data": {
      "text/html": [
       "<div>\n",
       "<style scoped>\n",
       "    .dataframe tbody tr th:only-of-type {\n",
       "        vertical-align: middle;\n",
       "    }\n",
       "\n",
       "    .dataframe tbody tr th {\n",
       "        vertical-align: top;\n",
       "    }\n",
       "\n",
       "    .dataframe thead th {\n",
       "        text-align: right;\n",
       "    }\n",
       "</style>\n",
       "<table border=\"1\" class=\"dataframe\">\n",
       "  <thead>\n",
       "    <tr style=\"text-align: right;\">\n",
       "      <th>LAW_CAT_CD</th>\n",
       "      <th>F</th>\n",
       "      <th>V</th>\n",
       "    </tr>\n",
       "    <tr>\n",
       "      <th>PERP_RACE</th>\n",
       "      <th></th>\n",
       "      <th></th>\n",
       "    </tr>\n",
       "  </thead>\n",
       "  <tbody>\n",
       "    <tr>\n",
       "      <th>AMERICAN INDIAN/ALASKAN NATIVE</th>\n",
       "      <td>360</td>\n",
       "      <td>39</td>\n",
       "    </tr>\n",
       "    <tr>\n",
       "      <th>ASIAN / PACIFIC ISLANDER</th>\n",
       "      <td>7407</td>\n",
       "      <td>522</td>\n",
       "    </tr>\n",
       "    <tr>\n",
       "      <th>BLACK</th>\n",
       "      <td>74195</td>\n",
       "      <td>9264</td>\n",
       "    </tr>\n",
       "    <tr>\n",
       "      <th>BLACK HISPANIC</th>\n",
       "      <td>9655</td>\n",
       "      <td>1034</td>\n",
       "    </tr>\n",
       "    <tr>\n",
       "      <th>OTHER</th>\n",
       "      <td>20</td>\n",
       "      <td>3</td>\n",
       "    </tr>\n",
       "    <tr>\n",
       "      <th>WHITE</th>\n",
       "      <td>20847</td>\n",
       "      <td>2028</td>\n",
       "    </tr>\n",
       "    <tr>\n",
       "      <th>WHITE HISPANIC</th>\n",
       "      <td>34126</td>\n",
       "      <td>3542</td>\n",
       "    </tr>\n",
       "  </tbody>\n",
       "</table>\n",
       "</div>"
      ],
      "text/plain": [
       "LAW_CAT_CD                          F     V\n",
       "PERP_RACE                                  \n",
       "AMERICAN INDIAN/ALASKAN NATIVE    360    39\n",
       "ASIAN / PACIFIC ISLANDER         7407   522\n",
       "BLACK                           74195  9264\n",
       "BLACK HISPANIC                   9655  1034\n",
       "OTHER                              20     3\n",
       "WHITE                           20847  2028\n",
       "WHITE HISPANIC                  34126  3542"
      ]
     },
     "execution_count": 210,
     "metadata": {},
     "output_type": "execute_result"
    }
   ],
   "source": [
    "pos_names = ['MISCELLANEOUS PENAL LAW']\n",
    "temp_arrestsdf = arrestsdf[arrestsdf[\"OFNS_DESC\"].isin(pos_names)]\n",
    "\n",
    "race_sev_penal = pd.crosstab(temp_arrestsdf['PERP_RACE'], temp_arrestsdf['LAW_CAT_CD'])\n",
    "race_sev_penal"
   ]
  },
  {
   "cell_type": "code",
   "execution_count": 211,
   "metadata": {},
   "outputs": [
    {
     "name": "stdout",
     "output_type": "stream",
     "text": [
      "LAW_CAT_CD                         F     V\n",
      "PERP_RACE                                 \n",
      "AMERICAN INDIAN/ALASKAN NATIVE  0.90  0.10\n",
      "ASIAN / PACIFIC ISLANDER        0.93  0.07\n",
      "BLACK                           0.89  0.11\n",
      "BLACK HISPANIC                  0.90  0.10\n",
      "OTHER                           0.87  0.13\n",
      "WHITE                           0.91  0.09\n",
      "WHITE HISPANIC                  0.91  0.09\n"
     ]
    },
    {
     "data": {
      "image/png": "[encoded data removed]",
      "text/plain": [
       "<Figure size 432x288 with 1 Axes>"
      ]
     },
     "metadata": {},
     "output_type": "display_data"
    }
   ],
   "source": [
    "for i in race_sev_penal.index:\n",
    "    total = sum(race_sev_penal.loc[i])\n",
    "    new_row = [\"%.2f\" % (race_sev_penal.loc[i][\"F\"]/total),\n",
    "              \"%.2f\" % (race_sev_penal.loc[i][\"V\"]/total)]\n",
    "    race_sev_penal.loc[i] = new_row\n",
    "print(race_sev_penal)\n",
    "\n",
    "race_sev_penal = race_sev_penal.astype({\"F\": float, \n",
    "                                        \"V\": float})\n",
    "\n",
    "sns.set_style(\"whitegrid\")\n",
    "sns.set_palette(sns.husl_palette(4, l = .775))\n",
    "\n",
    "g = race_sev_penal.plot(kind = 'bar', stacked = True, grid = False)\n",
    "plt.xlabel(\"Race of Perpetrator\") \n",
    "plt.ylabel(\"Proportion\")\n",
    "plt.ylim(0,1.0) \n",
    "plt.title(\"Proportions of Misc. Penal Law Punishment Severities by Race\")\n",
    "plt.savefig('miscpenalbyrace.png')\n",
    "plt.show(g)"
   ]
  },
  {
   "cell_type": "markdown",
   "metadata": {},
   "source": [
    "### *Offense: Other State Laws*"
   ]
  },
  {
   "cell_type": "code",
   "execution_count": 212,
   "metadata": {},
   "outputs": [
    {
     "name": "stdout",
     "output_type": "stream",
     "text": [
      "59                    OTHER STATE LAWS\n",
      "60      OTHER STATE LAWS (NON PENAL LA\n",
      "61    OTHER STATE LAWS (NON PENAL LAW)\n",
      "Name: OFNS_DESC, dtype: object\n"
     ]
    }
   ],
   "source": [
    "print(new_desc[\"OFNS_DESC\"][new_desc[new_desc[\"New Desc\"] == 'OTHER STATE LAWS'].index])"
   ]
  },
  {
   "cell_type": "code",
   "execution_count": 213,
   "metadata": {},
   "outputs": [
    {
     "data": {
      "text/html": [
       "<div>\n",
       "<style scoped>\n",
       "    .dataframe tbody tr th:only-of-type {\n",
       "        vertical-align: middle;\n",
       "    }\n",
       "\n",
       "    .dataframe tbody tr th {\n",
       "        vertical-align: top;\n",
       "    }\n",
       "\n",
       "    .dataframe thead th {\n",
       "        text-align: right;\n",
       "    }\n",
       "</style>\n",
       "<table border=\"1\" class=\"dataframe\">\n",
       "  <thead>\n",
       "    <tr style=\"text-align: right;\">\n",
       "      <th>LAW_CAT_CD</th>\n",
       "      <th>F</th>\n",
       "      <th>I</th>\n",
       "      <th>M</th>\n",
       "      <th>V</th>\n",
       "    </tr>\n",
       "    <tr>\n",
       "      <th>PERP_RACE</th>\n",
       "      <th></th>\n",
       "      <th></th>\n",
       "      <th></th>\n",
       "      <th></th>\n",
       "    </tr>\n",
       "  </thead>\n",
       "  <tbody>\n",
       "    <tr>\n",
       "      <th>AMERICAN INDIAN/ALASKAN NATIVE</th>\n",
       "      <td>43</td>\n",
       "      <td>0</td>\n",
       "      <td>226</td>\n",
       "      <td>432</td>\n",
       "    </tr>\n",
       "    <tr>\n",
       "      <th>ASIAN / PACIFIC ISLANDER</th>\n",
       "      <td>4616</td>\n",
       "      <td>15</td>\n",
       "      <td>7549</td>\n",
       "      <td>4476</td>\n",
       "    </tr>\n",
       "    <tr>\n",
       "      <th>BLACK</th>\n",
       "      <td>5984</td>\n",
       "      <td>500</td>\n",
       "      <td>40346</td>\n",
       "      <td>120220</td>\n",
       "    </tr>\n",
       "    <tr>\n",
       "      <th>BLACK HISPANIC</th>\n",
       "      <td>898</td>\n",
       "      <td>57</td>\n",
       "      <td>4885</td>\n",
       "      <td>13705</td>\n",
       "    </tr>\n",
       "    <tr>\n",
       "      <th>OTHER</th>\n",
       "      <td>35</td>\n",
       "      <td>0</td>\n",
       "      <td>131</td>\n",
       "      <td>52</td>\n",
       "    </tr>\n",
       "    <tr>\n",
       "      <th>WHITE</th>\n",
       "      <td>1863</td>\n",
       "      <td>113</td>\n",
       "      <td>7671</td>\n",
       "      <td>20578</td>\n",
       "    </tr>\n",
       "    <tr>\n",
       "      <th>WHITE HISPANIC</th>\n",
       "      <td>3162</td>\n",
       "      <td>327</td>\n",
       "      <td>17830</td>\n",
       "      <td>63733</td>\n",
       "    </tr>\n",
       "  </tbody>\n",
       "</table>\n",
       "</div>"
      ],
      "text/plain": [
       "LAW_CAT_CD                         F    I      M       V\n",
       "PERP_RACE                                               \n",
       "AMERICAN INDIAN/ALASKAN NATIVE    43    0    226     432\n",
       "ASIAN / PACIFIC ISLANDER        4616   15   7549    4476\n",
       "BLACK                           5984  500  40346  120220\n",
       "BLACK HISPANIC                   898   57   4885   13705\n",
       "OTHER                             35    0    131      52\n",
       "WHITE                           1863  113   7671   20578\n",
       "WHITE HISPANIC                  3162  327  17830   63733"
      ]
     },
     "execution_count": 213,
     "metadata": {},
     "output_type": "execute_result"
    }
   ],
   "source": [
    "pos_names = ['OTHER STATE LAWS', 'OTHER STATE LAWS (NON PENAL LA', 'OTHER STATE LAWS (NON PENAL LAW)']\n",
    "temp_arrestsdf = arrestsdf[arrestsdf[\"OFNS_DESC\"].isin(pos_names)]\n",
    "\n",
    "race_sev_state = pd.crosstab(temp_arrestsdf['PERP_RACE'], temp_arrestsdf['LAW_CAT_CD'])\n",
    "race_sev_state"
   ]
  },
  {
   "cell_type": "code",
   "execution_count": 215,
   "metadata": {},
   "outputs": [
    {
     "name": "stdout",
     "output_type": "stream",
     "text": [
      "LAW_CAT_CD                         F     I     M     V\n",
      "PERP_RACE                                             \n",
      "AMERICAN INDIAN/ALASKAN NATIVE  0.06  0.00  0.32  0.62\n",
      "ASIAN / PACIFIC ISLANDER        0.28  0.00  0.45  0.27\n",
      "BLACK                           0.04  0.00  0.24  0.72\n",
      "BLACK HISPANIC                  0.05  0.00  0.25  0.70\n",
      "OTHER                           0.16  0.00  0.60  0.24\n",
      "WHITE                           0.06  0.00  0.25  0.69\n",
      "WHITE HISPANIC                  0.04  0.00  0.21  0.75\n"
     ]
    },
    {
     "data": {
      "image/png": "[encoded data removed]",
      "text/plain": [
       "<Figure size 432x288 with 1 Axes>"
      ]
     },
     "metadata": {},
     "output_type": "display_data"
    }
   ],
   "source": [
    "for i in race_sev_state.index:\n",
    "    total = sum(race_sev_state.loc[i])\n",
    "    new_row = [\"%.2f\" % (race_sev_state.loc[i][\"F\"]/total),\n",
    "              \"%.2f\" % (race_sev_state.loc[i][\"I\"]/total),\n",
    "              \"%.2f\" % (race_sev_state.loc[i][\"M\"]/total),\n",
    "              \"%.2f\" % (race_sev_state.loc[i][\"V\"]/total)]\n",
    "    race_sev_state.loc[i] = new_row\n",
    "print(race_sev_state)\n",
    "\n",
    "race_sev_state = race_sev_state.astype({\"F\": float, \n",
    "                                        \"I\": float,\n",
    "                                        \"M\": float,\n",
    "                                        \"V\": float})\n",
    "\n",
    "sns.set_style(\"whitegrid\")\n",
    "sns.set_palette(sns.husl_palette(4, l = .775))\n",
    "\n",
    "g = race_sev_state.plot(kind = 'bar', stacked = True, grid = False)\n",
    "plt.xlabel(\"Race of Perpetrator\") \n",
    "plt.ylabel(\"Proportion\")\n",
    "plt.ylim(0,1.0) \n",
    "plt.title(\"Proportions of Other State Laws Punishment Severities by Race\")\n",
    "plt.savefig('statebyrace.png')\n",
    "plt.show(g)"
   ]
  },
  {
   "cell_type": "markdown",
   "metadata": {},
   "source": [
    "### *Offense: Sex Crimes*"
   ]
  },
  {
   "cell_type": "code",
   "execution_count": 216,
   "metadata": {},
   "outputs": [
    {
     "name": "stdout",
     "output_type": "stream",
     "text": [
      "70    SEX CRIMES\n",
      "Name: OFNS_DESC, dtype: object\n"
     ]
    }
   ],
   "source": [
    "print(new_desc[\"OFNS_DESC\"][new_desc[new_desc[\"New Desc\"] == 'SEX CRIMES'].index])"
   ]
  },
  {
   "cell_type": "code",
   "execution_count": 217,
   "metadata": {},
   "outputs": [
    {
     "data": {
      "text/html": [
       "<div>\n",
       "<style scoped>\n",
       "    .dataframe tbody tr th:only-of-type {\n",
       "        vertical-align: middle;\n",
       "    }\n",
       "\n",
       "    .dataframe tbody tr th {\n",
       "        vertical-align: top;\n",
       "    }\n",
       "\n",
       "    .dataframe thead th {\n",
       "        text-align: right;\n",
       "    }\n",
       "</style>\n",
       "<table border=\"1\" class=\"dataframe\">\n",
       "  <thead>\n",
       "    <tr style=\"text-align: right;\">\n",
       "      <th>LAW_CAT_CD</th>\n",
       "      <th>F</th>\n",
       "      <th>M</th>\n",
       "    </tr>\n",
       "    <tr>\n",
       "      <th>PERP_RACE</th>\n",
       "      <th></th>\n",
       "      <th></th>\n",
       "    </tr>\n",
       "  </thead>\n",
       "  <tbody>\n",
       "    <tr>\n",
       "      <th>AMERICAN INDIAN/ALASKAN NATIVE</th>\n",
       "      <td>30</td>\n",
       "      <td>75</td>\n",
       "    </tr>\n",
       "    <tr>\n",
       "      <th>ASIAN / PACIFIC ISLANDER</th>\n",
       "      <td>457</td>\n",
       "      <td>1295</td>\n",
       "    </tr>\n",
       "    <tr>\n",
       "      <th>BLACK</th>\n",
       "      <td>3723</td>\n",
       "      <td>9089</td>\n",
       "    </tr>\n",
       "    <tr>\n",
       "      <th>BLACK HISPANIC</th>\n",
       "      <td>895</td>\n",
       "      <td>1791</td>\n",
       "    </tr>\n",
       "    <tr>\n",
       "      <th>OTHER</th>\n",
       "      <td>5</td>\n",
       "      <td>9</td>\n",
       "    </tr>\n",
       "    <tr>\n",
       "      <th>WHITE</th>\n",
       "      <td>1181</td>\n",
       "      <td>2162</td>\n",
       "    </tr>\n",
       "    <tr>\n",
       "      <th>WHITE HISPANIC</th>\n",
       "      <td>3366</td>\n",
       "      <td>6666</td>\n",
       "    </tr>\n",
       "  </tbody>\n",
       "</table>\n",
       "</div>"
      ],
      "text/plain": [
       "LAW_CAT_CD                         F     M\n",
       "PERP_RACE                                 \n",
       "AMERICAN INDIAN/ALASKAN NATIVE    30    75\n",
       "ASIAN / PACIFIC ISLANDER         457  1295\n",
       "BLACK                           3723  9089\n",
       "BLACK HISPANIC                   895  1791\n",
       "OTHER                              5     9\n",
       "WHITE                           1181  2162\n",
       "WHITE HISPANIC                  3366  6666"
      ]
     },
     "execution_count": 217,
     "metadata": {},
     "output_type": "execute_result"
    }
   ],
   "source": [
    "pos_names = ['SEX CRIMES']\n",
    "temp_arrestsdf = arrestsdf[arrestsdf[\"OFNS_DESC\"].isin(pos_names)]\n",
    "\n",
    "race_sev_sex = pd.crosstab(temp_arrestsdf['PERP_RACE'], temp_arrestsdf['LAW_CAT_CD'])\n",
    "race_sev_sex"
   ]
  },
  {
   "cell_type": "code",
   "execution_count": 218,
   "metadata": {},
   "outputs": [
    {
     "name": "stdout",
     "output_type": "stream",
     "text": [
      "LAW_CAT_CD                         F     M\n",
      "PERP_RACE                                 \n",
      "AMERICAN INDIAN/ALASKAN NATIVE  0.29  0.71\n",
      "ASIAN / PACIFIC ISLANDER        0.26  0.74\n",
      "BLACK                           0.29  0.71\n",
      "BLACK HISPANIC                  0.33  0.67\n",
      "OTHER                           0.36  0.64\n",
      "WHITE                           0.35  0.65\n",
      "WHITE HISPANIC                  0.34  0.66\n"
     ]
    },
    {
     "data": {
      "image/png": "[encoded data removed]",
      "text/plain": [
       "<Figure size 432x288 with 1 Axes>"
      ]
     },
     "metadata": {},
     "output_type": "display_data"
    }
   ],
   "source": [
    "for i in race_sev_sex.index:\n",
    "    total = sum(race_sev_sex.loc[i])\n",
    "    new_row = [\"%.2f\" % (race_sev_sex.loc[i][\"F\"]/total),\n",
    "              \"%.2f\" % (race_sev_sex.loc[i][\"M\"]/total)]\n",
    "    race_sev_sex.loc[i] = new_row\n",
    "print(race_sev_sex)\n",
    "\n",
    "race_sev_sex = race_sev_sex.astype({\"F\": float, \n",
    "                                    \"M\": float})\n",
    "\n",
    "sns.set_style(\"whitegrid\")\n",
    "sns.set_palette(sns.husl_palette(4, l = .775))\n",
    "\n",
    "g = race_sev_sex.plot(kind = 'bar', stacked = True, grid = False)\n",
    "plt.xlabel(\"Race of Perpetrator\") \n",
    "plt.ylabel(\"Proportion\")\n",
    "plt.ylim(0,1.0) \n",
    "plt.title(\"Proportions of Sex Crime Severities by Race\")\n",
    "plt.savefig('sexbyrace.png')\n",
    "plt.show(g)"
   ]
  },
  {
   "cell_type": "markdown",
   "metadata": {},
   "source": [
    "## *Statistical Testing*\n",
    "\n",
    "Following the previous visualizations and frequency tables, I have identified specific offenses where I would like to investigate racial bias in terms of punishment severity. Now, I will perform similar two-proportion, one-tailed Z-tests as I did before to determine whether or not this bias is significant by evaluating whether or not the proportion of felonies given to Black individuals is indeed higher than other races. To that extent, for each offense I am observing, the null hypothesis states that the proportion of felonies that are given to Black individuals is less than or equal to the proportion of felonies given to individuals of other racial groups, for that specific offense. The alternate hypothesis states that the proportion of felonies that are given to Black individuals is greater than the proportion of felonies given to individuals of other racial groups, for that specific offense. "
   ]
  },
  {
   "cell_type": "markdown",
   "metadata": {},
   "source": [
    "### *Offense: Assault*"
   ]
  },
  {
   "cell_type": "code",
   "execution_count": 219,
   "metadata": {},
   "outputs": [
    {
     "name": "stdout",
     "output_type": "stream",
     "text": [
      "6     ASSAULT 3 & RELATED OFFENSES\n",
      "21                  FELONY ASSAULT\n",
      "Name: OFNS_DESC, dtype: object\n"
     ]
    }
   ],
   "source": [
    "print(new_desc[\"OFNS_DESC\"][new_desc[new_desc[\"New Desc\"] == 'Assault'].index])"
   ]
  },
  {
   "cell_type": "code",
   "execution_count": 220,
   "metadata": {},
   "outputs": [
    {
     "data": {
      "text/html": [
       "<div>\n",
       "<style scoped>\n",
       "    .dataframe tbody tr th:only-of-type {\n",
       "        vertical-align: middle;\n",
       "    }\n",
       "\n",
       "    .dataframe tbody tr th {\n",
       "        vertical-align: top;\n",
       "    }\n",
       "\n",
       "    .dataframe thead th {\n",
       "        text-align: right;\n",
       "    }\n",
       "</style>\n",
       "<table border=\"1\" class=\"dataframe\">\n",
       "  <thead>\n",
       "    <tr style=\"text-align: right;\">\n",
       "      <th>LAW_CAT_CD</th>\n",
       "      <th>F</th>\n",
       "      <th>M</th>\n",
       "    </tr>\n",
       "    <tr>\n",
       "      <th>PERP_RACE</th>\n",
       "      <th></th>\n",
       "      <th></th>\n",
       "    </tr>\n",
       "  </thead>\n",
       "  <tbody>\n",
       "    <tr>\n",
       "      <th>AMERICAN INDIAN/ALASKAN NATIVE</th>\n",
       "      <td>474</td>\n",
       "      <td>1405</td>\n",
       "    </tr>\n",
       "    <tr>\n",
       "      <th>ASIAN / PACIFIC ISLANDER</th>\n",
       "      <td>9016</td>\n",
       "      <td>23202</td>\n",
       "    </tr>\n",
       "    <tr>\n",
       "      <th>BLACK</th>\n",
       "      <td>92927</td>\n",
       "      <td>216171</td>\n",
       "    </tr>\n",
       "    <tr>\n",
       "      <th>BLACK HISPANIC</th>\n",
       "      <td>14636</td>\n",
       "      <td>37079</td>\n",
       "    </tr>\n",
       "    <tr>\n",
       "      <th>OTHER</th>\n",
       "      <td>45</td>\n",
       "      <td>117</td>\n",
       "    </tr>\n",
       "    <tr>\n",
       "      <th>WHITE</th>\n",
       "      <td>16325</td>\n",
       "      <td>50772</td>\n",
       "    </tr>\n",
       "    <tr>\n",
       "      <th>WHITE HISPANIC</th>\n",
       "      <td>46637</td>\n",
       "      <td>127489</td>\n",
       "    </tr>\n",
       "  </tbody>\n",
       "</table>\n",
       "</div>"
      ],
      "text/plain": [
       "LAW_CAT_CD                          F       M\n",
       "PERP_RACE                                    \n",
       "AMERICAN INDIAN/ALASKAN NATIVE    474    1405\n",
       "ASIAN / PACIFIC ISLANDER         9016   23202\n",
       "BLACK                           92927  216171\n",
       "BLACK HISPANIC                  14636   37079\n",
       "OTHER                              45     117\n",
       "WHITE                           16325   50772\n",
       "WHITE HISPANIC                  46637  127489"
      ]
     },
     "execution_count": 220,
     "metadata": {},
     "output_type": "execute_result"
    }
   ],
   "source": [
    "pos_names = [\"ASSAULT 3 & RELATED OFFENSES\", \"FELONY ASSAULT\"]\n",
    "temp_arrestsdf = arrestsdf[arrestsdf[\"OFNS_DESC\"].isin(pos_names)]\n",
    "\n",
    "race_sev_assault = pd.crosstab(temp_arrestsdf['PERP_RACE'], temp_arrestsdf['LAW_CAT_CD'])\n",
    "race_sev_assault"
   ]
  },
  {
   "cell_type": "code",
   "execution_count": 228,
   "metadata": {},
   "outputs": [
    {
     "name": "stdout",
     "output_type": "stream",
     "text": [
      "Comparing: BLACK and AMERICAN INDIAN/ALASKAN NATIVE Individuals\n",
      "z-score: 4.560760121731523\n",
      "p-value: 2.548438999214809e-06\n",
      "Decision: Reject the null hypothesis.\n",
      "---------------------------------------------\n",
      "\n",
      "\n",
      "Comparing: BLACK and ASIAN / PACIFIC ISLANDER Individuals\n",
      "z-score: 7.76127825804759\n",
      "p-value: 4.20388094504007e-15\n",
      "Decision: Reject the null hypothesis.\n",
      "---------------------------------------------\n",
      "\n",
      "\n",
      "Comparing: BLACK and BLACK Individuals\n",
      "z-score: 0.0\n",
      "p-value: 0.5\n",
      "Decision: Fail to reject the null hypothesis.\n",
      "---------------------------------------------\n",
      "\n",
      "\n",
      "Comparing: BLACK and BLACK HISPANIC Individuals\n",
      "z-score: 8.110734052199364\n",
      "p-value: 2.5157435357908305e-16\n",
      "Decision: Reject the null hypothesis.\n",
      "---------------------------------------------\n",
      "\n",
      "\n",
      "Comparing: BLACK and OTHER Individuals\n",
      "z-score: 0.6344244843038136\n",
      "p-value: 0.26290191748530345\n",
      "Decision: Fail to reject the null hypothesis.\n",
      "---------------------------------------------\n",
      "\n",
      "\n",
      "Comparing: BLACK and WHITE Individuals\n",
      "z-score: 29.65518024675825\n",
      "p-value: 1.4540546601591852e-193\n",
      "Decision: Reject the null hypothesis.\n",
      "---------------------------------------------\n",
      "\n",
      "\n",
      "Comparing: BLACK and WHITE HISPANIC Individuals\n",
      "z-score: 24.156626937159615\n",
      "p-value: 3.180253250555819e-129\n",
      "Decision: Reject the null hypothesis.\n",
      "---------------------------------------------\n",
      "\n",
      "\n"
     ]
    }
   ],
   "source": [
    "import math\n",
    "from scipy.stats import norm\n",
    "\n",
    "total_black_perps = sum(race_sev_assault.loc[\"BLACK\"])\n",
    "prop_black_felony = race_sev_assault.loc[\"BLACK\"][\"F\"]/total_black_perps\n",
    "\n",
    "for i in race_sev_assault.index:\n",
    "    working_series = race_sev_assault.loc[i]\n",
    "    working_total = sum(working_series)\n",
    "    working_prop = working_series[\"F\"]/working_total\n",
    "    working_prop_overall = (working_series[\"F\"]+race_sev_assault.loc[\"BLACK\"][\"F\"])/(total_black_perps+working_total)\n",
    "    z_score = (prop_black_felony - working_prop)/math.sqrt(working_prop_overall*(1-working_prop_overall)*\n",
    "                                                           ((1/total_black_perps)+(1/working_total)))\n",
    "    p_val = norm.sf(abs(z_score))\n",
    "    if p_val < .05:\n",
    "        decision = \"Reject\"\n",
    "    if p_val >= .05:\n",
    "        decision = \"Fail to reject\"\n",
    "    print(\"Comparing: BLACK and {} Individuals\".format(i))\n",
    "    print(\"z-score: {}\".format(z_score))\n",
    "    print(\"p-value: {}\".format(p_val))\n",
    "    print(\"Decision: {} the null hypothesis.\".format(decision))\n",
    "    print(\"---------------------------------------------\")\n",
    "    print(\"\\n\")"
   ]
  },
  {
   "cell_type": "markdown",
   "metadata": {},
   "source": [
    "### *Offense: Criminal Mischief*"
   ]
  },
  {
   "cell_type": "code",
   "execution_count": 229,
   "metadata": {},
   "outputs": [
    {
     "name": "stdout",
     "output_type": "stream",
     "text": [
      "11          CRIMINAL MISCHIEF & RELATED OF\n",
      "12    CRIMINAL MISCHIEF & RELATED OFFENSES\n",
      "Name: OFNS_DESC, dtype: object\n"
     ]
    }
   ],
   "source": [
    "print(new_desc[\"OFNS_DESC\"][new_desc[new_desc[\"New Desc\"] == 'Criminal Mischief'].index])"
   ]
  },
  {
   "cell_type": "code",
   "execution_count": 231,
   "metadata": {},
   "outputs": [
    {
     "data": {
      "text/html": [
       "<div>\n",
       "<style scoped>\n",
       "    .dataframe tbody tr th:only-of-type {\n",
       "        vertical-align: middle;\n",
       "    }\n",
       "\n",
       "    .dataframe tbody tr th {\n",
       "        vertical-align: top;\n",
       "    }\n",
       "\n",
       "    .dataframe thead th {\n",
       "        text-align: right;\n",
       "    }\n",
       "</style>\n",
       "<table border=\"1\" class=\"dataframe\">\n",
       "  <thead>\n",
       "    <tr style=\"text-align: right;\">\n",
       "      <th>LAW_CAT_CD</th>\n",
       "      <th>F</th>\n",
       "      <th>M</th>\n",
       "    </tr>\n",
       "    <tr>\n",
       "      <th>PERP_RACE</th>\n",
       "      <th></th>\n",
       "      <th></th>\n",
       "    </tr>\n",
       "  </thead>\n",
       "  <tbody>\n",
       "    <tr>\n",
       "      <th>AMERICAN INDIAN/ALASKAN NATIVE</th>\n",
       "      <td>122</td>\n",
       "      <td>253</td>\n",
       "    </tr>\n",
       "    <tr>\n",
       "      <th>ASIAN / PACIFIC ISLANDER</th>\n",
       "      <td>2563</td>\n",
       "      <td>3645</td>\n",
       "    </tr>\n",
       "    <tr>\n",
       "      <th>BLACK</th>\n",
       "      <td>23315</td>\n",
       "      <td>34338</td>\n",
       "    </tr>\n",
       "    <tr>\n",
       "      <th>BLACK HISPANIC</th>\n",
       "      <td>3810</td>\n",
       "      <td>7520</td>\n",
       "    </tr>\n",
       "    <tr>\n",
       "      <th>OTHER</th>\n",
       "      <td>7</td>\n",
       "      <td>24</td>\n",
       "    </tr>\n",
       "    <tr>\n",
       "      <th>WHITE</th>\n",
       "      <td>9430</td>\n",
       "      <td>19327</td>\n",
       "    </tr>\n",
       "    <tr>\n",
       "      <th>WHITE HISPANIC</th>\n",
       "      <td>14750</td>\n",
       "      <td>27558</td>\n",
       "    </tr>\n",
       "  </tbody>\n",
       "</table>\n",
       "</div>"
      ],
      "text/plain": [
       "LAW_CAT_CD                          F      M\n",
       "PERP_RACE                                   \n",
       "AMERICAN INDIAN/ALASKAN NATIVE    122    253\n",
       "ASIAN / PACIFIC ISLANDER         2563   3645\n",
       "BLACK                           23315  34338\n",
       "BLACK HISPANIC                   3810   7520\n",
       "OTHER                               7     24\n",
       "WHITE                            9430  19327\n",
       "WHITE HISPANIC                  14750  27558"
      ]
     },
     "execution_count": 231,
     "metadata": {},
     "output_type": "execute_result"
    }
   ],
   "source": [
    "pos_names = [\"CRIMINAL MISCHIEF & RELATED OF\", \"CRIMINAL MISCHIEF & RELATED OFFENSES\"]\n",
    "temp_arrestsdf = arrestsdf[arrestsdf[\"OFNS_DESC\"].isin(pos_names)]\n",
    "\n",
    "race_sev_mischief = pd.crosstab(temp_arrestsdf['PERP_RACE'], temp_arrestsdf['LAW_CAT_CD'])\n",
    "race_sev_mischief"
   ]
  },
  {
   "cell_type": "code",
   "execution_count": 232,
   "metadata": {},
   "outputs": [
    {
     "name": "stdout",
     "output_type": "stream",
     "text": [
      "Comparing: BLACK and AMERICAN INDIAN/ALASKAN NATIVE Individuals\n",
      "z-score: 3.110414961319529\n",
      "p-value: 0.0009341234083523524\n",
      "Decision: Reject the null hypothesis.\n",
      "---------------------------------------------\n",
      "\n",
      "\n",
      "Comparing: BLACK and ASIAN / PACIFIC ISLANDER Individuals\n",
      "z-score: -1.288883087902594\n",
      "p-value: 0.09871936721238245\n",
      "Decision: Fail to reject the null hypothesis.\n",
      "---------------------------------------------\n",
      "\n",
      "\n",
      "Comparing: BLACK and BLACK Individuals\n",
      "z-score: 0.0\n",
      "p-value: 0.5\n",
      "Decision: Fail to reject the null hypothesis.\n",
      "---------------------------------------------\n",
      "\n",
      "\n",
      "Comparing: BLACK and BLACK HISPANIC Individuals\n",
      "z-score: 13.571910391796557\n",
      "p-value: 2.9385024864825126e-42\n",
      "Decision: Reject the null hypothesis.\n",
      "---------------------------------------------\n",
      "\n",
      "\n",
      "Comparing: BLACK and OTHER Individuals\n",
      "z-score: 2.0256690314283863\n",
      "p-value: 0.02139935613038772\n",
      "Decision: Reject the null hypothesis.\n",
      "---------------------------------------------\n",
      "\n",
      "\n",
      "Comparing: BLACK and WHITE Individuals\n",
      "z-score: 21.837662532579728\n",
      "p-value: 5.091674196486202e-106\n",
      "Decision: Reject the null hypothesis.\n",
      "---------------------------------------------\n",
      "\n",
      "\n",
      "Comparing: BLACK and WHITE HISPANIC Individuals\n",
      "z-score: 17.940364033031905\n",
      "p-value: 2.8539985002225947e-72\n",
      "Decision: Reject the null hypothesis.\n",
      "---------------------------------------------\n",
      "\n",
      "\n"
     ]
    }
   ],
   "source": [
    "total_black_perps = sum(race_sev_mischief.loc[\"BLACK\"])\n",
    "prop_black_felony = race_sev_mischief.loc[\"BLACK\"][\"F\"]/total_black_perps\n",
    "\n",
    "for i in race_sev_mischief.index:\n",
    "    working_series = race_sev_mischief.loc[i]\n",
    "    working_total = sum(working_series)\n",
    "    working_prop = working_series[\"F\"]/working_total\n",
    "    working_prop_overall = (working_series[\"F\"]+race_sev_mischief.loc[\"BLACK\"][\"F\"])/(total_black_perps+working_total)\n",
    "    z_score = (prop_black_felony - working_prop)/math.sqrt(working_prop_overall*(1-working_prop_overall)*\n",
    "                                                           ((1/total_black_perps)+(1/working_total)))\n",
    "    p_val = norm.sf(abs(z_score))\n",
    "    if p_val < .05:\n",
    "        decision = \"Reject\"\n",
    "    if p_val >= .05:\n",
    "        decision = \"Fail to reject\"\n",
    "    print(\"Comparing: BLACK and {} Individuals\".format(i))\n",
    "    print(\"z-score: {}\".format(z_score))\n",
    "    print(\"p-value: {}\".format(p_val))\n",
    "    print(\"Decision: {} the null hypothesis.\".format(decision))\n",
    "    print(\"---------------------------------------------\")\n",
    "    print(\"\\n\")"
   ]
  },
  {
   "cell_type": "markdown",
   "metadata": {},
   "source": [
    "### *Offense: Dangerous Drugs*"
   ]
  },
  {
   "cell_type": "code",
   "execution_count": 233,
   "metadata": {},
   "outputs": [
    {
     "name": "stdout",
     "output_type": "stream",
     "text": [
      "14    DANGEROUS DRUGS\n",
      "Name: OFNS_DESC, dtype: object\n"
     ]
    }
   ],
   "source": [
    "print(new_desc[\"OFNS_DESC\"][new_desc[new_desc[\"New Desc\"] == 'DANGEROUS DRUGS'].index])"
   ]
  },
  {
   "cell_type": "code",
   "execution_count": 234,
   "metadata": {},
   "outputs": [
    {
     "data": {
      "text/html": [
       "<div>\n",
       "<style scoped>\n",
       "    .dataframe tbody tr th:only-of-type {\n",
       "        vertical-align: middle;\n",
       "    }\n",
       "\n",
       "    .dataframe tbody tr th {\n",
       "        vertical-align: top;\n",
       "    }\n",
       "\n",
       "    .dataframe thead th {\n",
       "        text-align: right;\n",
       "    }\n",
       "</style>\n",
       "<table border=\"1\" class=\"dataframe\">\n",
       "  <thead>\n",
       "    <tr style=\"text-align: right;\">\n",
       "      <th>LAW_CAT_CD</th>\n",
       "      <th>F</th>\n",
       "      <th>M</th>\n",
       "    </tr>\n",
       "    <tr>\n",
       "      <th>PERP_RACE</th>\n",
       "      <th></th>\n",
       "      <th></th>\n",
       "    </tr>\n",
       "  </thead>\n",
       "  <tbody>\n",
       "    <tr>\n",
       "      <th>AMERICAN INDIAN/ALASKAN NATIVE</th>\n",
       "      <td>198</td>\n",
       "      <td>1146</td>\n",
       "    </tr>\n",
       "    <tr>\n",
       "      <th>ASIAN / PACIFIC ISLANDER</th>\n",
       "      <td>4345</td>\n",
       "      <td>16592</td>\n",
       "    </tr>\n",
       "    <tr>\n",
       "      <th>BLACK</th>\n",
       "      <td>129233</td>\n",
       "      <td>396241</td>\n",
       "    </tr>\n",
       "    <tr>\n",
       "      <th>BLACK HISPANIC</th>\n",
       "      <td>29675</td>\n",
       "      <td>70193</td>\n",
       "    </tr>\n",
       "    <tr>\n",
       "      <th>OTHER</th>\n",
       "      <td>36</td>\n",
       "      <td>188</td>\n",
       "    </tr>\n",
       "    <tr>\n",
       "      <th>WHITE</th>\n",
       "      <td>29639</td>\n",
       "      <td>99030</td>\n",
       "    </tr>\n",
       "    <tr>\n",
       "      <th>WHITE HISPANIC</th>\n",
       "      <td>76651</td>\n",
       "      <td>195655</td>\n",
       "    </tr>\n",
       "  </tbody>\n",
       "</table>\n",
       "</div>"
      ],
      "text/plain": [
       "LAW_CAT_CD                           F       M\n",
       "PERP_RACE                                     \n",
       "AMERICAN INDIAN/ALASKAN NATIVE     198    1146\n",
       "ASIAN / PACIFIC ISLANDER          4345   16592\n",
       "BLACK                           129233  396241\n",
       "BLACK HISPANIC                   29675   70193\n",
       "OTHER                               36     188\n",
       "WHITE                            29639   99030\n",
       "WHITE HISPANIC                   76651  195655"
      ]
     },
     "execution_count": 234,
     "metadata": {},
     "output_type": "execute_result"
    }
   ],
   "source": [
    "pos_names = [\"DANGEROUS DRUGS\"]\n",
    "temp_arrestsdf = arrestsdf[arrestsdf[\"OFNS_DESC\"].isin(pos_names)]\n",
    "\n",
    "race_sev_drugs = pd.crosstab(temp_arrestsdf['PERP_RACE'], temp_arrestsdf['LAW_CAT_CD'])\n",
    "race_sev_drugs"
   ]
  },
  {
   "cell_type": "code",
   "execution_count": 235,
   "metadata": {},
   "outputs": [
    {
     "name": "stdout",
     "output_type": "stream",
     "text": [
      "Comparing: BLACK and AMERICAN INDIAN/ALASKAN NATIVE Individuals\n",
      "z-score: 8.387275031620252\n",
      "p-value: 2.4877003383992604e-17\n",
      "Decision: Reject the null hypothesis.\n",
      "---------------------------------------------\n",
      "\n",
      "\n",
      "Comparing: BLACK and ASIAN / PACIFIC ISLANDER Individuals\n",
      "z-score: 12.681410658632652\n",
      "p-value: 3.748516604733758e-37\n",
      "Decision: Reject the null hypothesis.\n",
      "---------------------------------------------\n",
      "\n",
      "\n",
      "Comparing: BLACK and BLACK Individuals\n",
      "z-score: 0.0\n",
      "p-value: 0.5\n",
      "Decision: Fail to reject the null hypothesis.\n",
      "---------------------------------------------\n",
      "\n",
      "\n",
      "Comparing: BLACK and BLACK HISPANIC Individuals\n",
      "z-score: -34.07234064657442\n",
      "p-value: 9.47556278783785e-255\n",
      "Decision: Reject the null hypothesis.\n",
      "---------------------------------------------\n",
      "\n",
      "\n",
      "Comparing: BLACK and OTHER Individuals\n",
      "z-score: 2.9613409086473195\n",
      "p-value: 0.0015315134610171279\n",
      "Decision: Reject the null hypothesis.\n",
      "---------------------------------------------\n",
      "\n",
      "\n",
      "Comparing: BLACK and WHITE Individuals\n",
      "z-score: 11.684741475510869\n",
      "p-value: 7.62714962479938e-32\n",
      "Decision: Reject the null hypothesis.\n",
      "---------------------------------------------\n",
      "\n",
      "\n",
      "Comparing: BLACK and WHITE HISPANIC Individuals\n",
      "z-score: -34.409708212194175\n",
      "p-value: 9.02496370237228e-260\n",
      "Decision: Reject the null hypothesis.\n",
      "---------------------------------------------\n",
      "\n",
      "\n"
     ]
    }
   ],
   "source": [
    "total_black_perps = sum(race_sev_drugs.loc[\"BLACK\"])\n",
    "prop_black_felony = race_sev_drugs.loc[\"BLACK\"][\"F\"]/total_black_perps\n",
    "\n",
    "for i in race_sev_drugs.index:\n",
    "    working_series = race_sev_drugs.loc[i]\n",
    "    working_total = sum(working_series)\n",
    "    working_prop = working_series[\"F\"]/working_total\n",
    "    working_prop_overall = (working_series[\"F\"]+race_sev_drugs.loc[\"BLACK\"][\"F\"])/(total_black_perps+working_total)\n",
    "    z_score = (prop_black_felony - working_prop)/math.sqrt(working_prop_overall*(1-working_prop_overall)*\n",
    "                                                           ((1/total_black_perps)+(1/working_total)))\n",
    "    p_val = norm.sf(abs(z_score))\n",
    "    if p_val < .05:\n",
    "        decision = \"Reject\"\n",
    "    if p_val >= .05:\n",
    "        decision = \"Fail to reject\"\n",
    "    print(\"Comparing: BLACK and {} Individuals\".format(i))\n",
    "    print(\"z-score: {}\".format(z_score))\n",
    "    print(\"p-value: {}\".format(p_val))\n",
    "    print(\"Decision: {} the null hypothesis.\".format(decision))\n",
    "    print(\"---------------------------------------------\")\n",
    "    print(\"\\n\")"
   ]
  },
  {
   "cell_type": "markdown",
   "metadata": {},
   "source": [
    "### *Offense: Dangerous Weapons*"
   ]
  },
  {
   "cell_type": "code",
   "execution_count": 236,
   "metadata": {},
   "outputs": [
    {
     "name": "stdout",
     "output_type": "stream",
     "text": [
      "15    DANGEROUS WEAPONS\n",
      "Name: OFNS_DESC, dtype: object\n"
     ]
    }
   ],
   "source": [
    "print(new_desc[\"OFNS_DESC\"][new_desc[new_desc[\"New Desc\"] == 'DANGEROUS WEAPONS'].index])"
   ]
  },
  {
   "cell_type": "code",
   "execution_count": 238,
   "metadata": {},
   "outputs": [
    {
     "data": {
      "text/html": [
       "<div>\n",
       "<style scoped>\n",
       "    .dataframe tbody tr th:only-of-type {\n",
       "        vertical-align: middle;\n",
       "    }\n",
       "\n",
       "    .dataframe tbody tr th {\n",
       "        vertical-align: top;\n",
       "    }\n",
       "\n",
       "    .dataframe thead th {\n",
       "        text-align: right;\n",
       "    }\n",
       "</style>\n",
       "<table border=\"1\" class=\"dataframe\">\n",
       "  <thead>\n",
       "    <tr style=\"text-align: right;\">\n",
       "      <th>LAW_CAT_CD</th>\n",
       "      <th>F</th>\n",
       "      <th>M</th>\n",
       "    </tr>\n",
       "    <tr>\n",
       "      <th>PERP_RACE</th>\n",
       "      <th></th>\n",
       "      <th></th>\n",
       "    </tr>\n",
       "  </thead>\n",
       "  <tbody>\n",
       "    <tr>\n",
       "      <th>AMERICAN INDIAN/ALASKAN NATIVE</th>\n",
       "      <td>69</td>\n",
       "      <td>194</td>\n",
       "    </tr>\n",
       "    <tr>\n",
       "      <th>ASIAN / PACIFIC ISLANDER</th>\n",
       "      <td>1406</td>\n",
       "      <td>2600</td>\n",
       "    </tr>\n",
       "    <tr>\n",
       "      <th>BLACK</th>\n",
       "      <td>54535</td>\n",
       "      <td>41423</td>\n",
       "    </tr>\n",
       "    <tr>\n",
       "      <th>BLACK HISPANIC</th>\n",
       "      <td>6455</td>\n",
       "      <td>9309</td>\n",
       "    </tr>\n",
       "    <tr>\n",
       "      <th>OTHER</th>\n",
       "      <td>8</td>\n",
       "      <td>24</td>\n",
       "    </tr>\n",
       "    <tr>\n",
       "      <th>WHITE</th>\n",
       "      <td>5743</td>\n",
       "      <td>12028</td>\n",
       "    </tr>\n",
       "    <tr>\n",
       "      <th>WHITE HISPANIC</th>\n",
       "      <td>17899</td>\n",
       "      <td>29965</td>\n",
       "    </tr>\n",
       "  </tbody>\n",
       "</table>\n",
       "</div>"
      ],
      "text/plain": [
       "LAW_CAT_CD                          F      M\n",
       "PERP_RACE                                   \n",
       "AMERICAN INDIAN/ALASKAN NATIVE     69    194\n",
       "ASIAN / PACIFIC ISLANDER         1406   2600\n",
       "BLACK                           54535  41423\n",
       "BLACK HISPANIC                   6455   9309\n",
       "OTHER                               8     24\n",
       "WHITE                            5743  12028\n",
       "WHITE HISPANIC                  17899  29965"
      ]
     },
     "execution_count": 238,
     "metadata": {},
     "output_type": "execute_result"
    }
   ],
   "source": [
    "pos_names = [\"DANGEROUS WEAPONS\"]\n",
    "temp_arrestsdf = arrestsdf[arrestsdf[\"OFNS_DESC\"].isin(pos_names)]\n",
    "\n",
    "race_sev_weapons = pd.crosstab(temp_arrestsdf['PERP_RACE'], temp_arrestsdf['LAW_CAT_CD'])\n",
    "race_sev_weapons"
   ]
  },
  {
   "cell_type": "code",
   "execution_count": 239,
   "metadata": {},
   "outputs": [
    {
     "name": "stdout",
     "output_type": "stream",
     "text": [
      "Comparing: BLACK and AMERICAN INDIAN/ALASKAN NATIVE Individuals\n",
      "z-score: 10.001757480862945\n",
      "p-value: 7.485803393777514e-24\n",
      "Decision: Reject the null hypothesis.\n",
      "---------------------------------------------\n",
      "\n",
      "\n",
      "Comparing: BLACK and ASIAN / PACIFIC ISLANDER Individuals\n",
      "z-score: 27.149924898509507\n",
      "p-value: 1.2685939875814847e-162\n",
      "Decision: Reject the null hypothesis.\n",
      "---------------------------------------------\n",
      "\n",
      "\n",
      "Comparing: BLACK and BLACK Individuals\n",
      "z-score: 0.0\n",
      "p-value: 0.5\n",
      "Decision: Fail to reject the null hypothesis.\n",
      "---------------------------------------------\n",
      "\n",
      "\n",
      "Comparing: BLACK and BLACK HISPANIC Individuals\n",
      "z-score: 37.12311365239036\n",
      "p-value: 5.953693778690513e-302\n",
      "Decision: Reject the null hypothesis.\n",
      "---------------------------------------------\n",
      "\n",
      "\n",
      "Comparing: BLACK and OTHER Individuals\n",
      "z-score: 3.6347836711847488\n",
      "p-value: 0.00013910699339922153\n",
      "Decision: Reject the null hypothesis.\n",
      "---------------------------------------------\n",
      "\n",
      "\n",
      "Comparing: BLACK and WHITE Individuals\n",
      "z-score: 60.14712173749921\n",
      "p-value: 0.0\n",
      "Decision: Reject the null hypothesis.\n",
      "---------------------------------------------\n",
      "\n",
      "\n",
      "Comparing: BLACK and WHITE HISPANIC Individuals\n",
      "z-score: 69.46957092895603\n",
      "p-value: 0.0\n",
      "Decision: Reject the null hypothesis.\n",
      "---------------------------------------------\n",
      "\n",
      "\n"
     ]
    }
   ],
   "source": [
    "total_black_perps = sum(race_sev_weapons.loc[\"BLACK\"])\n",
    "prop_black_felony = race_sev_weapons.loc[\"BLACK\"][\"F\"]/total_black_perps\n",
    "\n",
    "for i in race_sev_weapons.index:\n",
    "    working_series = race_sev_weapons.loc[i]\n",
    "    working_total = sum(working_series)\n",
    "    working_prop = working_series[\"F\"]/working_total\n",
    "    working_prop_overall = (working_series[\"F\"]+race_sev_weapons.loc[\"BLACK\"][\"F\"])/(total_black_perps+working_total)\n",
    "    z_score = (prop_black_felony - working_prop)/math.sqrt(working_prop_overall*(1-working_prop_overall)*\n",
    "                                                           ((1/total_black_perps)+(1/working_total)))\n",
    "    p_val = norm.sf(abs(z_score))\n",
    "    if p_val < .05:\n",
    "        decision = \"Reject\"\n",
    "    if p_val >= .05:\n",
    "        decision = \"Fail to reject\"\n",
    "    print(\"Comparing: BLACK and {} Individuals\".format(i))\n",
    "    print(\"z-score: {}\".format(z_score))\n",
    "    print(\"p-value: {}\".format(p_val))\n",
    "    print(\"Decision: {} the null hypothesis.\".format(decision))\n",
    "    print(\"---------------------------------------------\")\n",
    "    print(\"\\n\")"
   ]
  },
  {
   "cell_type": "markdown",
   "metadata": {},
   "source": [
    "### *Offense: Endan Welfare Incomp*"
   ]
  },
  {
   "cell_type": "code",
   "execution_count": 240,
   "metadata": {},
   "outputs": [
    {
     "name": "stdout",
     "output_type": "stream",
     "text": [
      "18    ENDAN WELFARE INCOMP\n",
      "Name: OFNS_DESC, dtype: object\n"
     ]
    }
   ],
   "source": [
    "print(new_desc[\"OFNS_DESC\"][new_desc[new_desc[\"New Desc\"] == 'ENDAN WELFARE INCOMP'].index])"
   ]
  },
  {
   "cell_type": "code",
   "execution_count": 241,
   "metadata": {},
   "outputs": [
    {
     "data": {
      "text/html": [
       "<div>\n",
       "<style scoped>\n",
       "    .dataframe tbody tr th:only-of-type {\n",
       "        vertical-align: middle;\n",
       "    }\n",
       "\n",
       "    .dataframe tbody tr th {\n",
       "        vertical-align: top;\n",
       "    }\n",
       "\n",
       "    .dataframe thead th {\n",
       "        text-align: right;\n",
       "    }\n",
       "</style>\n",
       "<table border=\"1\" class=\"dataframe\">\n",
       "  <thead>\n",
       "    <tr style=\"text-align: right;\">\n",
       "      <th>LAW_CAT_CD</th>\n",
       "      <th>F</th>\n",
       "      <th>M</th>\n",
       "    </tr>\n",
       "    <tr>\n",
       "      <th>PERP_RACE</th>\n",
       "      <th></th>\n",
       "      <th></th>\n",
       "    </tr>\n",
       "  </thead>\n",
       "  <tbody>\n",
       "    <tr>\n",
       "      <th>ASIAN / PACIFIC ISLANDER</th>\n",
       "      <td>8</td>\n",
       "      <td>9</td>\n",
       "    </tr>\n",
       "    <tr>\n",
       "      <th>BLACK</th>\n",
       "      <td>72</td>\n",
       "      <td>87</td>\n",
       "    </tr>\n",
       "    <tr>\n",
       "      <th>BLACK HISPANIC</th>\n",
       "      <td>7</td>\n",
       "      <td>14</td>\n",
       "    </tr>\n",
       "    <tr>\n",
       "      <th>WHITE</th>\n",
       "      <td>10</td>\n",
       "      <td>11</td>\n",
       "    </tr>\n",
       "    <tr>\n",
       "      <th>WHITE HISPANIC</th>\n",
       "      <td>33</td>\n",
       "      <td>66</td>\n",
       "    </tr>\n",
       "  </tbody>\n",
       "</table>\n",
       "</div>"
      ],
      "text/plain": [
       "LAW_CAT_CD                 F   M\n",
       "PERP_RACE                       \n",
       "ASIAN / PACIFIC ISLANDER   8   9\n",
       "BLACK                     72  87\n",
       "BLACK HISPANIC             7  14\n",
       "WHITE                     10  11\n",
       "WHITE HISPANIC            33  66"
      ]
     },
     "execution_count": 241,
     "metadata": {},
     "output_type": "execute_result"
    }
   ],
   "source": [
    "pos_names = [\"ENDAN WELFARE INCOMP\"]\n",
    "temp_arrestsdf = arrestsdf[arrestsdf[\"OFNS_DESC\"].isin(pos_names)]\n",
    "\n",
    "race_sev_welfare = pd.crosstab(temp_arrestsdf['PERP_RACE'], temp_arrestsdf['LAW_CAT_CD'])\n",
    "race_sev_welfare"
   ]
  },
  {
   "cell_type": "code",
   "execution_count": 242,
   "metadata": {},
   "outputs": [
    {
     "name": "stdout",
     "output_type": "stream",
     "text": [
      "Comparing: BLACK and ASIAN / PACIFIC ISLANDER Individuals\n",
      "z-score: -0.1397635548931107\n",
      "p-value: 0.44442340479034004\n",
      "Decision: Fail to reject the null hypothesis.\n",
      "---------------------------------------------\n",
      "\n",
      "\n",
      "Comparing: BLACK and BLACK Individuals\n",
      "z-score: 0.0\n",
      "p-value: 0.5\n",
      "Decision: Fail to reject the null hypothesis.\n",
      "---------------------------------------------\n",
      "\n",
      "\n",
      "Comparing: BLACK and BLACK HISPANIC Individuals\n",
      "z-score: 1.037114499895453\n",
      "p-value: 0.1498412491849339\n",
      "Decision: Fail to reject the null hypothesis.\n",
      "---------------------------------------------\n",
      "\n",
      "\n",
      "Comparing: BLACK and WHITE Individuals\n",
      "z-score: -0.2020238678668061\n",
      "p-value: 0.41994903250921434\n",
      "Decision: Fail to reject the null hypothesis.\n",
      "---------------------------------------------\n",
      "\n",
      "\n",
      "Comparing: BLACK and WHITE HISPANIC Individuals\n",
      "z-score: 1.8999497905738323\n",
      "p-value: 0.02871985450555852\n",
      "Decision: Reject the null hypothesis.\n",
      "---------------------------------------------\n",
      "\n",
      "\n"
     ]
    }
   ],
   "source": [
    "total_black_perps = sum(race_sev_welfare.loc[\"BLACK\"])\n",
    "prop_black_felony = race_sev_welfare.loc[\"BLACK\"][\"F\"]/total_black_perps\n",
    "\n",
    "for i in race_sev_welfare.index:\n",
    "    working_series = race_sev_welfare.loc[i]\n",
    "    working_total = sum(working_series)\n",
    "    working_prop = working_series[\"F\"]/working_total\n",
    "    working_prop_overall = (working_series[\"F\"]+race_sev_welfare.loc[\"BLACK\"][\"F\"])/(total_black_perps+working_total)\n",
    "    z_score = (prop_black_felony - working_prop)/math.sqrt(working_prop_overall*(1-working_prop_overall)*\n",
    "                                                           ((1/total_black_perps)+(1/working_total)))\n",
    "    p_val = norm.sf(abs(z_score))\n",
    "    if p_val < .05:\n",
    "        decision = \"Reject\"\n",
    "    if p_val >= .05:\n",
    "        decision = \"Fail to reject\"\n",
    "    print(\"Comparing: BLACK and {} Individuals\".format(i))\n",
    "    print(\"z-score: {}\".format(z_score))\n",
    "    print(\"p-value: {}\".format(p_val))\n",
    "    print(\"Decision: {} the null hypothesis.\".format(decision))\n",
    "    print(\"---------------------------------------------\")\n",
    "    print(\"\\n\")"
   ]
  },
  {
   "cell_type": "markdown",
   "metadata": {},
   "source": [
    "### *Offense: Misc. Penal Law*"
   ]
  },
  {
   "cell_type": "code",
   "execution_count": 243,
   "metadata": {},
   "outputs": [
    {
     "name": "stdout",
     "output_type": "stream",
     "text": [
      "42    MISCELLANEOUS PENAL LAW\n",
      "Name: OFNS_DESC, dtype: object\n"
     ]
    }
   ],
   "source": [
    "print(new_desc[\"OFNS_DESC\"][new_desc[new_desc[\"New Desc\"] == 'MISCELLANEOUS PENAL LAW'].index])"
   ]
  },
  {
   "cell_type": "code",
   "execution_count": 244,
   "metadata": {},
   "outputs": [
    {
     "data": {
      "text/html": [
       "<div>\n",
       "<style scoped>\n",
       "    .dataframe tbody tr th:only-of-type {\n",
       "        vertical-align: middle;\n",
       "    }\n",
       "\n",
       "    .dataframe tbody tr th {\n",
       "        vertical-align: top;\n",
       "    }\n",
       "\n",
       "    .dataframe thead th {\n",
       "        text-align: right;\n",
       "    }\n",
       "</style>\n",
       "<table border=\"1\" class=\"dataframe\">\n",
       "  <thead>\n",
       "    <tr style=\"text-align: right;\">\n",
       "      <th>LAW_CAT_CD</th>\n",
       "      <th>F</th>\n",
       "      <th>V</th>\n",
       "    </tr>\n",
       "    <tr>\n",
       "      <th>PERP_RACE</th>\n",
       "      <th></th>\n",
       "      <th></th>\n",
       "    </tr>\n",
       "  </thead>\n",
       "  <tbody>\n",
       "    <tr>\n",
       "      <th>AMERICAN INDIAN/ALASKAN NATIVE</th>\n",
       "      <td>360</td>\n",
       "      <td>39</td>\n",
       "    </tr>\n",
       "    <tr>\n",
       "      <th>ASIAN / PACIFIC ISLANDER</th>\n",
       "      <td>7407</td>\n",
       "      <td>522</td>\n",
       "    </tr>\n",
       "    <tr>\n",
       "      <th>BLACK</th>\n",
       "      <td>74195</td>\n",
       "      <td>9264</td>\n",
       "    </tr>\n",
       "    <tr>\n",
       "      <th>BLACK HISPANIC</th>\n",
       "      <td>9655</td>\n",
       "      <td>1034</td>\n",
       "    </tr>\n",
       "    <tr>\n",
       "      <th>OTHER</th>\n",
       "      <td>20</td>\n",
       "      <td>3</td>\n",
       "    </tr>\n",
       "    <tr>\n",
       "      <th>WHITE</th>\n",
       "      <td>20847</td>\n",
       "      <td>2028</td>\n",
       "    </tr>\n",
       "    <tr>\n",
       "      <th>WHITE HISPANIC</th>\n",
       "      <td>34126</td>\n",
       "      <td>3542</td>\n",
       "    </tr>\n",
       "  </tbody>\n",
       "</table>\n",
       "</div>"
      ],
      "text/plain": [
       "LAW_CAT_CD                          F     V\n",
       "PERP_RACE                                  \n",
       "AMERICAN INDIAN/ALASKAN NATIVE    360    39\n",
       "ASIAN / PACIFIC ISLANDER         7407   522\n",
       "BLACK                           74195  9264\n",
       "BLACK HISPANIC                   9655  1034\n",
       "OTHER                              20     3\n",
       "WHITE                           20847  2028\n",
       "WHITE HISPANIC                  34126  3542"
      ]
     },
     "execution_count": 244,
     "metadata": {},
     "output_type": "execute_result"
    }
   ],
   "source": [
    "pos_names = [\"MISCELLANEOUS PENAL LAW\"]\n",
    "temp_arrestsdf = arrestsdf[arrestsdf[\"OFNS_DESC\"].isin(pos_names)]\n",
    "\n",
    "race_sev_penal = pd.crosstab(temp_arrestsdf['PERP_RACE'], temp_arrestsdf['LAW_CAT_CD'])\n",
    "race_sev_penal"
   ]
  },
  {
   "cell_type": "code",
   "execution_count": 245,
   "metadata": {},
   "outputs": [
    {
     "name": "stdout",
     "output_type": "stream",
     "text": [
      "Comparing: BLACK and AMERICAN INDIAN/ALASKAN NATIVE Individuals\n",
      "z-score: -0.8411357276859444\n",
      "p-value: 0.20013595092884823\n",
      "Decision: Fail to reject the null hypothesis.\n",
      "---------------------------------------------\n",
      "\n",
      "\n",
      "Comparing: BLACK and ASIAN / PACIFIC ISLANDER Individuals\n",
      "z-score: -12.42945818482635\n",
      "p-value: 9.04279954111208e-36\n",
      "Decision: Reject the null hypothesis.\n",
      "---------------------------------------------\n",
      "\n",
      "\n",
      "Comparing: BLACK and BLACK Individuals\n",
      "z-score: 0.0\n",
      "p-value: 0.5\n",
      "Decision: Fail to reject the null hypothesis.\n",
      "---------------------------------------------\n",
      "\n",
      "\n",
      "Comparing: BLACK and BLACK HISPANIC Individuals\n",
      "z-score: -4.449121446262394\n",
      "p-value: 4.311112713744528e-06\n",
      "Decision: Reject the null hypothesis.\n",
      "---------------------------------------------\n",
      "\n",
      "\n",
      "Comparing: BLACK and OTHER Individuals\n",
      "z-score: 0.2966521724120624\n",
      "p-value: 0.38336603747548753\n",
      "Decision: Fail to reject the null hypothesis.\n",
      "---------------------------------------------\n",
      "\n",
      "\n",
      "Comparing: BLACK and WHITE Individuals\n",
      "z-score: -9.718246153399924\n",
      "p-value: 1.2604295769767615e-22\n",
      "Decision: Reject the null hypothesis.\n",
      "---------------------------------------------\n",
      "\n",
      "\n",
      "Comparing: BLACK and WHITE HISPANIC Individuals\n",
      "z-score: -8.890471282569358\n",
      "p-value: 3.0425130458848415e-19\n",
      "Decision: Reject the null hypothesis.\n",
      "---------------------------------------------\n",
      "\n",
      "\n"
     ]
    }
   ],
   "source": [
    "total_black_perps = sum(race_sev_penal.loc[\"BLACK\"])\n",
    "prop_black_felony = race_sev_penal.loc[\"BLACK\"][\"F\"]/total_black_perps\n",
    "\n",
    "for i in race_sev_penal.index:\n",
    "    working_series = race_sev_penal.loc[i]\n",
    "    working_total = sum(working_series)\n",
    "    working_prop = working_series[\"F\"]/working_total\n",
    "    working_prop_overall = (working_series[\"F\"]+race_sev_penal.loc[\"BLACK\"][\"F\"])/(total_black_perps+working_total)\n",
    "    z_score = (prop_black_felony - working_prop)/math.sqrt(working_prop_overall*(1-working_prop_overall)*\n",
    "                                                           ((1/total_black_perps)+(1/working_total)))\n",
    "    p_val = norm.sf(abs(z_score))\n",
    "    if p_val < .05:\n",
    "        decision = \"Reject\"\n",
    "    if p_val >= .05:\n",
    "        decision = \"Fail to reject\"\n",
    "    print(\"Comparing: BLACK and {} Individuals\".format(i))\n",
    "    print(\"z-score: {}\".format(z_score))\n",
    "    print(\"p-value: {}\".format(p_val))\n",
    "    print(\"Decision: {} the null hypothesis.\".format(decision))\n",
    "    print(\"---------------------------------------------\")\n",
    "    print(\"\\n\")"
   ]
  },
  {
   "cell_type": "markdown",
   "metadata": {},
   "source": [
    "### *Offense: Other State Laws*"
   ]
  },
  {
   "cell_type": "code",
   "execution_count": 246,
   "metadata": {},
   "outputs": [
    {
     "name": "stdout",
     "output_type": "stream",
     "text": [
      "59                    OTHER STATE LAWS\n",
      "60      OTHER STATE LAWS (NON PENAL LA\n",
      "61    OTHER STATE LAWS (NON PENAL LAW)\n",
      "Name: OFNS_DESC, dtype: object\n"
     ]
    }
   ],
   "source": [
    "print(new_desc[\"OFNS_DESC\"][new_desc[new_desc[\"New Desc\"] == 'OTHER STATE LAWS'].index])"
   ]
  },
  {
   "cell_type": "code",
   "execution_count": 247,
   "metadata": {},
   "outputs": [
    {
     "data": {
      "text/html": [
       "<div>\n",
       "<style scoped>\n",
       "    .dataframe tbody tr th:only-of-type {\n",
       "        vertical-align: middle;\n",
       "    }\n",
       "\n",
       "    .dataframe tbody tr th {\n",
       "        vertical-align: top;\n",
       "    }\n",
       "\n",
       "    .dataframe thead th {\n",
       "        text-align: right;\n",
       "    }\n",
       "</style>\n",
       "<table border=\"1\" class=\"dataframe\">\n",
       "  <thead>\n",
       "    <tr style=\"text-align: right;\">\n",
       "      <th>LAW_CAT_CD</th>\n",
       "      <th>F</th>\n",
       "      <th>I</th>\n",
       "      <th>M</th>\n",
       "      <th>V</th>\n",
       "    </tr>\n",
       "    <tr>\n",
       "      <th>PERP_RACE</th>\n",
       "      <th></th>\n",
       "      <th></th>\n",
       "      <th></th>\n",
       "      <th></th>\n",
       "    </tr>\n",
       "  </thead>\n",
       "  <tbody>\n",
       "    <tr>\n",
       "      <th>AMERICAN INDIAN/ALASKAN NATIVE</th>\n",
       "      <td>43</td>\n",
       "      <td>0</td>\n",
       "      <td>226</td>\n",
       "      <td>432</td>\n",
       "    </tr>\n",
       "    <tr>\n",
       "      <th>ASIAN / PACIFIC ISLANDER</th>\n",
       "      <td>4616</td>\n",
       "      <td>15</td>\n",
       "      <td>7549</td>\n",
       "      <td>4476</td>\n",
       "    </tr>\n",
       "    <tr>\n",
       "      <th>BLACK</th>\n",
       "      <td>5984</td>\n",
       "      <td>500</td>\n",
       "      <td>40346</td>\n",
       "      <td>120220</td>\n",
       "    </tr>\n",
       "    <tr>\n",
       "      <th>BLACK HISPANIC</th>\n",
       "      <td>898</td>\n",
       "      <td>57</td>\n",
       "      <td>4885</td>\n",
       "      <td>13705</td>\n",
       "    </tr>\n",
       "    <tr>\n",
       "      <th>OTHER</th>\n",
       "      <td>35</td>\n",
       "      <td>0</td>\n",
       "      <td>131</td>\n",
       "      <td>52</td>\n",
       "    </tr>\n",
       "    <tr>\n",
       "      <th>WHITE</th>\n",
       "      <td>1863</td>\n",
       "      <td>113</td>\n",
       "      <td>7671</td>\n",
       "      <td>20578</td>\n",
       "    </tr>\n",
       "    <tr>\n",
       "      <th>WHITE HISPANIC</th>\n",
       "      <td>3162</td>\n",
       "      <td>327</td>\n",
       "      <td>17830</td>\n",
       "      <td>63733</td>\n",
       "    </tr>\n",
       "  </tbody>\n",
       "</table>\n",
       "</div>"
      ],
      "text/plain": [
       "LAW_CAT_CD                         F    I      M       V\n",
       "PERP_RACE                                               \n",
       "AMERICAN INDIAN/ALASKAN NATIVE    43    0    226     432\n",
       "ASIAN / PACIFIC ISLANDER        4616   15   7549    4476\n",
       "BLACK                           5984  500  40346  120220\n",
       "BLACK HISPANIC                   898   57   4885   13705\n",
       "OTHER                             35    0    131      52\n",
       "WHITE                           1863  113   7671   20578\n",
       "WHITE HISPANIC                  3162  327  17830   63733"
      ]
     },
     "execution_count": 247,
     "metadata": {},
     "output_type": "execute_result"
    }
   ],
   "source": [
    "pos_names = [\"OTHER STATE LAWS\", \"OTHER STATE LAWS (NON PENAL LA\", \"OTHER STATE LAWS (NON PENAL LAW)\"]\n",
    "temp_arrestsdf = arrestsdf[arrestsdf[\"OFNS_DESC\"].isin(pos_names)]\n",
    "\n",
    "race_sev_state = pd.crosstab(temp_arrestsdf['PERP_RACE'], temp_arrestsdf['LAW_CAT_CD'])\n",
    "race_sev_state"
   ]
  },
  {
   "cell_type": "code",
   "execution_count": 248,
   "metadata": {},
   "outputs": [
    {
     "name": "stdout",
     "output_type": "stream",
     "text": [
      "Comparing: BLACK and AMERICAN INDIAN/ALASKAN NATIVE Individuals\n",
      "z-score: -3.6228158870232647\n",
      "p-value: 0.00014570662500288482\n",
      "Decision: Reject the null hypothesis.\n",
      "---------------------------------------------\n",
      "\n",
      "\n",
      "Comparing: BLACK and ASIAN / PACIFIC ISLANDER Individuals\n",
      "z-score: -127.36407771437024\n",
      "p-value: 0.0\n",
      "Decision: Reject the null hypothesis.\n",
      "---------------------------------------------\n",
      "\n",
      "\n",
      "Comparing: BLACK and BLACK Individuals\n",
      "z-score: 0.0\n",
      "p-value: 0.5\n",
      "Decision: Fail to reject the null hypothesis.\n",
      "---------------------------------------------\n",
      "\n",
      "\n",
      "Comparing: BLACK and BLACK HISPANIC Individuals\n",
      "z-score: -7.105274691328584\n",
      "p-value: 6.004172906188301e-13\n",
      "Decision: Reject the null hypothesis.\n",
      "---------------------------------------------\n",
      "\n",
      "\n",
      "Comparing: BLACK and OTHER Individuals\n",
      "z-score: -9.881301365607127\n",
      "p-value: 2.5088493558268698e-23\n",
      "Decision: Reject the null hypothesis.\n",
      "---------------------------------------------\n",
      "\n",
      "\n",
      "Comparing: BLACK and WHITE Individuals\n",
      "z-score: -21.132907736767717\n",
      "p-value: 1.981854040721117e-99\n",
      "Decision: Reject the null hypothesis.\n",
      "---------------------------------------------\n",
      "\n",
      "\n",
      "Comparing: BLACK and WHITE HISPANIC Individuals\n",
      "z-score: -1.721157150107486\n",
      "p-value: 0.04261115552753454\n",
      "Decision: Reject the null hypothesis.\n",
      "---------------------------------------------\n",
      "\n",
      "\n"
     ]
    }
   ],
   "source": [
    "total_black_perps = sum(race_sev_state.loc[\"BLACK\"])\n",
    "prop_black_felony = race_sev_state.loc[\"BLACK\"][\"F\"]/total_black_perps\n",
    "\n",
    "for i in race_sev_state.index:\n",
    "    working_series = race_sev_state.loc[i]\n",
    "    working_total = sum(working_series)\n",
    "    working_prop = working_series[\"F\"]/working_total\n",
    "    working_prop_overall = (working_series[\"F\"]+race_sev_state.loc[\"BLACK\"][\"F\"])/(total_black_perps+working_total)\n",
    "    z_score = (prop_black_felony - working_prop)/math.sqrt(working_prop_overall*(1-working_prop_overall)*\n",
    "                                                           ((1/total_black_perps)+(1/working_total)))\n",
    "    p_val = norm.sf(abs(z_score))\n",
    "    if p_val < .05:\n",
    "        decision = \"Reject\"\n",
    "    if p_val >= .05:\n",
    "        decision = \"Fail to reject\"\n",
    "    print(\"Comparing: BLACK and {} Individuals\".format(i))\n",
    "    print(\"z-score: {}\".format(z_score))\n",
    "    print(\"p-value: {}\".format(p_val))\n",
    "    print(\"Decision: {} the null hypothesis.\".format(decision))\n",
    "    print(\"---------------------------------------------\")\n",
    "    print(\"\\n\")"
   ]
  },
  {
   "cell_type": "markdown",
   "metadata": {},
   "source": [
    "### *Offense: Sex Crimes*"
   ]
  },
  {
   "cell_type": "code",
   "execution_count": 249,
   "metadata": {},
   "outputs": [
    {
     "name": "stdout",
     "output_type": "stream",
     "text": [
      "70    SEX CRIMES\n",
      "Name: OFNS_DESC, dtype: object\n"
     ]
    }
   ],
   "source": [
    "print(new_desc[\"OFNS_DESC\"][new_desc[new_desc[\"New Desc\"] == 'SEX CRIMES'].index])"
   ]
  },
  {
   "cell_type": "code",
   "execution_count": 250,
   "metadata": {},
   "outputs": [
    {
     "data": {
      "text/html": [
       "<div>\n",
       "<style scoped>\n",
       "    .dataframe tbody tr th:only-of-type {\n",
       "        vertical-align: middle;\n",
       "    }\n",
       "\n",
       "    .dataframe tbody tr th {\n",
       "        vertical-align: top;\n",
       "    }\n",
       "\n",
       "    .dataframe thead th {\n",
       "        text-align: right;\n",
       "    }\n",
       "</style>\n",
       "<table border=\"1\" class=\"dataframe\">\n",
       "  <thead>\n",
       "    <tr style=\"text-align: right;\">\n",
       "      <th>LAW_CAT_CD</th>\n",
       "      <th>F</th>\n",
       "      <th>M</th>\n",
       "    </tr>\n",
       "    <tr>\n",
       "      <th>PERP_RACE</th>\n",
       "      <th></th>\n",
       "      <th></th>\n",
       "    </tr>\n",
       "  </thead>\n",
       "  <tbody>\n",
       "    <tr>\n",
       "      <th>AMERICAN INDIAN/ALASKAN NATIVE</th>\n",
       "      <td>30</td>\n",
       "      <td>75</td>\n",
       "    </tr>\n",
       "    <tr>\n",
       "      <th>ASIAN / PACIFIC ISLANDER</th>\n",
       "      <td>457</td>\n",
       "      <td>1295</td>\n",
       "    </tr>\n",
       "    <tr>\n",
       "      <th>BLACK</th>\n",
       "      <td>3723</td>\n",
       "      <td>9089</td>\n",
       "    </tr>\n",
       "    <tr>\n",
       "      <th>BLACK HISPANIC</th>\n",
       "      <td>895</td>\n",
       "      <td>1791</td>\n",
       "    </tr>\n",
       "    <tr>\n",
       "      <th>OTHER</th>\n",
       "      <td>5</td>\n",
       "      <td>9</td>\n",
       "    </tr>\n",
       "    <tr>\n",
       "      <th>WHITE</th>\n",
       "      <td>1181</td>\n",
       "      <td>2162</td>\n",
       "    </tr>\n",
       "    <tr>\n",
       "      <th>WHITE HISPANIC</th>\n",
       "      <td>3366</td>\n",
       "      <td>6666</td>\n",
       "    </tr>\n",
       "  </tbody>\n",
       "</table>\n",
       "</div>"
      ],
      "text/plain": [
       "LAW_CAT_CD                         F     M\n",
       "PERP_RACE                                 \n",
       "AMERICAN INDIAN/ALASKAN NATIVE    30    75\n",
       "ASIAN / PACIFIC ISLANDER         457  1295\n",
       "BLACK                           3723  9089\n",
       "BLACK HISPANIC                   895  1791\n",
       "OTHER                              5     9\n",
       "WHITE                           1181  2162\n",
       "WHITE HISPANIC                  3366  6666"
      ]
     },
     "execution_count": 250,
     "metadata": {},
     "output_type": "execute_result"
    }
   ],
   "source": [
    "pos_names = [\"SEX CRIMES\"]\n",
    "temp_arrestsdf = arrestsdf[arrestsdf[\"OFNS_DESC\"].isin(pos_names)]\n",
    "\n",
    "race_sev_sex = pd.crosstab(temp_arrestsdf['PERP_RACE'], temp_arrestsdf['LAW_CAT_CD'])\n",
    "race_sev_sex"
   ]
  },
  {
   "cell_type": "code",
   "execution_count": 251,
   "metadata": {},
   "outputs": [
    {
     "name": "stdout",
     "output_type": "stream",
     "text": [
      "Comparing: BLACK and AMERICAN INDIAN/ALASKAN NATIVE Individuals\n",
      "z-score: 0.10952634341981936\n",
      "p-value: 0.4563925142133093\n",
      "Decision: Fail to reject the null hypothesis.\n",
      "---------------------------------------------\n",
      "\n",
      "\n",
      "Comparing: BLACK and ASIAN / PACIFIC ISLANDER Individuals\n",
      "z-score: 2.5811810790153245\n",
      "p-value: 0.004923146013310721\n",
      "Decision: Reject the null hypothesis.\n",
      "---------------------------------------------\n",
      "\n",
      "\n",
      "Comparing: BLACK and BLACK Individuals\n",
      "z-score: 0.0\n",
      "p-value: 0.5\n",
      "Decision: Fail to reject the null hypothesis.\n",
      "---------------------------------------------\n",
      "\n",
      "\n",
      "Comparing: BLACK and BLACK HISPANIC Individuals\n",
      "z-score: -4.391315059501768\n",
      "p-value: 5.633357218181267e-06\n",
      "Decision: Reject the null hypothesis.\n",
      "---------------------------------------------\n",
      "\n",
      "\n",
      "Comparing: BLACK and OTHER Individuals\n",
      "z-score: -0.5481428978334917\n",
      "p-value: 0.29179689356639354\n",
      "Decision: Fail to reject the null hypothesis.\n",
      "---------------------------------------------\n",
      "\n",
      "\n",
      "Comparing: BLACK and WHITE Individuals\n",
      "z-score: -7.02016912687601\n",
      "p-value: 1.1079991988190707e-12\n",
      "Decision: Reject the null hypothesis.\n",
      "---------------------------------------------\n",
      "\n",
      "\n",
      "Comparing: BLACK and WHITE HISPANIC Individuals\n",
      "z-score: -7.286409115144045\n",
      "p-value: 1.5916267842273833e-13\n",
      "Decision: Reject the null hypothesis.\n",
      "---------------------------------------------\n",
      "\n",
      "\n"
     ]
    }
   ],
   "source": [
    "total_black_perps = sum(race_sev_sex.loc[\"BLACK\"])\n",
    "prop_black_felony = race_sev_sex.loc[\"BLACK\"][\"F\"]/total_black_perps\n",
    "\n",
    "for i in race_sev_sex.index:\n",
    "    working_series = race_sev_sex.loc[i]\n",
    "    working_total = sum(working_series)\n",
    "    working_prop = working_series[\"F\"]/working_total\n",
    "    working_prop_overall = (working_series[\"F\"]+race_sev_sex.loc[\"BLACK\"][\"F\"])/(total_black_perps+working_total)\n",
    "    z_score = (prop_black_felony - working_prop)/math.sqrt(working_prop_overall*(1-working_prop_overall)*\n",
    "                                                           ((1/total_black_perps)+(1/working_total)))\n",
    "    p_val = norm.sf(abs(z_score))\n",
    "    if p_val < .05:\n",
    "        decision = \"Reject\"\n",
    "    if p_val >= .05:\n",
    "        decision = \"Fail to reject\"\n",
    "    print(\"Comparing: BLACK and {} Individuals\".format(i))\n",
    "    print(\"z-score: {}\".format(z_score))\n",
    "    print(\"p-value: {}\".format(p_val))\n",
    "    print(\"Decision: {} the null hypothesis.\".format(decision))\n",
    "    print(\"---------------------------------------------\")\n",
    "    print(\"\\n\")"
   ]
  },
  {
   "cell_type": "markdown",
   "metadata": {},
   "source": [
    "## *Results and Further Work*\n",
    "\n",
    "From the above output, we have reached the following conclusions for each of the offenses we observed:\n",
    "* When considering Assault, Black individuals are proportionally given more felonies compared to American Indian / Alaskan Native, Asian / Pacific Islander, Black Hispanic, White, and White Hispanic individuals\n",
    "* When considering Criminal Mischief, Black individuals are proportionally given more felonies compared to American Indian / Alaskan Native, Black Hispanic, Other, White, and White Hispanic individuals\n",
    "* When considering Dangerous Drugs, Black individuals are proportionally given more felonies compared to American Indian / Alaskan Native, Asian / Pacific Islander, Black Hispanic, Other, White, and White Hispanic individuals\n",
    "* When considering Dangerous Weapons, Black individuals are proportionally given more felonies compared to American Indian / Alaskan Native, Asian / Pacific Islander, Black Hispanic, Other, White, and White Hispanic individuals\n",
    "* When considering Sex Crimes, Black individuals are proportionally given more felonies compared to Asian / Pacific Islander, Black Hispanic, White, and White Hispanic individuals\n",
    "* When considering Endan Welfare Incomp, Black individuals are proportionally given more felonies compared to White Hispanic individuals\n",
    "* When considering Miscellaneous Penal Laws, Black individuals are proportionally given more felonies compared to Asian / Pacific Islander, Black Hispanic, White, and White Hispanic individuals\n",
    "* When considering Other State Laws, Black individuals are proportionally given more felonies compared to American Indian / Alaskan Native, Asian / Pacific Islander, Black Hispanic, Other, White, and White Hispanic individuals\n",
    "* When considering Sex Crimes, Black individuals are proportionally given more felonies compared to Asian / Pacific Islander, Black Hispanic, White, and White Hispanic individuals\n",
    "\n",
    "Therefore, in conjunction with the prior Z-test results that revealed that Black individuals are given more felonies by proportion to the total number of crimes committed compared to individuals from other racial groups, there is a very solid case for racial prejudice against Black individuals by the criminal system in New York City. Specifically, when considering the above offenses, Black individuals seem to be targeted with felonies at a higher rate across the board for every offense except for Endan Welfare Incomp. \n",
    "\n",
    "For further work, it would be interesting to observe which demographic within racial groups is targeted the most. For example, based on what I've seen in the news, I would assume that Black individuals who identify as Male between the ages of 18-24 or 25-44 would recieve the highest proportion of felonies overall as well as when considering specific offenses. Investigating this hypothesis in depth, similar to the process used above, would be a very useful extension of this project. "
   ]
  }
 ],
 "metadata": {
  "kernelspec": {
   "display_name": "Python 3",
   "language": "python",
   "name": "python3"
  },
  "language_info": {
   "codemirror_mode": {
    "name": "ipython",
    "version": 3
   },
   "file_extension": ".py",
   "mimetype": "text/x-python",
   "name": "python",
   "nbconvert_exporter": "python",
   "pygments_lexer": "ipython3",
   "version": "3.7.3"
  }
 },
 "nbformat": 4,
 "nbformat_minor": 2
}
